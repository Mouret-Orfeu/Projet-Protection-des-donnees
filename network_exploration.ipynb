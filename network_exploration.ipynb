{
 "cells": [
  {
   "cell_type": "markdown",
   "metadata": {},
   "source": [
    "# Network attacks - Exploration des données"
   ]
  },
  {
   "cell_type": "markdown",
   "metadata": {},
   "source": [
    "## I - Modules"
   ]
  },
  {
   "cell_type": "code",
   "execution_count": 1,
   "metadata": {},
   "outputs": [],
   "source": [
    "import pandas as pd"
   ]
  },
  {
   "cell_type": "markdown",
   "metadata": {},
   "source": [
    "## II - Charger donnée"
   ]
  },
  {
   "cell_type": "code",
   "execution_count": 3,
   "metadata": {},
   "outputs": [],
   "source": [
    "def load_data(size):\n",
    "    if size==\"full\":\n",
    "        df_normal = pd.read_csv(\"network/normal.csv\")\n",
    "        df_attack_1 = pd.read_csv(\"network/attack_1.csv\")\n",
    "        df_attack_2 = pd.read_csv(\"network/attack_2.csv\")\n",
    "        df_attack_3 = pd.read_csv(\"network/attack_3.csv\")\n",
    "        df_attack_4 = pd.read_csv(\"network/attack_4.csv\")\n",
    "    \n",
    "    elif size==\"half\":\n",
    "        df_normal = pd.read_csv(\"network/normal.csv\", skiprows=lambda x: x % 2 == 0)\n",
    "        df_attack_1 = pd.read_csv(\"network/attack_1.csv\", skiprows=lambda x: x % 2 == 0)\n",
    "        df_attack_2 = pd.read_csv(\"network/attack_2.csv\", skiprows=lambda x: x % 2 == 0)\n",
    "        df_attack_3 = pd.read_csv(\"network/attack_3.csv\", skiprows=lambda x: x % 2 == 0)\n",
    "        df_attack_4 = pd.read_csv(\"network/attack_4.csv\", skiprows=lambda x: x % 2 == 0)\n",
    "    \n",
    "    elif size==\"quarter\":\n",
    "        df_normal = pd.read_csv(\"network/normal.csv\", skiprows=lambda x: x % 4 == 0)\n",
    "        df_attack_1 = pd.read_csv(\"network/attack_1.csv\", skiprows=lambda x: x % 4 == 0)\n",
    "        df_attack_2 = pd.read_csv(\"network/attack_2.csv\", skiprows=lambda x: x % 4 == 0)\n",
    "        df_attack_3 = pd.read_csv(\"network/attack_3.csv\", skiprows=lambda x: x % 4 == 0)\n",
    "        df_attack_4 = pd.read_csv(\"network/attack_4.csv\", skiprows=lambda x: x % 4 == 0)\n",
    "\n",
    "    elif size==\"tenth\":\n",
    "        df_normal = pd.read_csv(\"network/normal.csv\", skiprows=lambda x: x % 10 == 0)\n",
    "        df_attack_1 = pd.read_csv(\"network/attack_1.csv\", skiprows=lambda x: x % 10 == 0)\n",
    "        df_attack_2 = pd.read_csv(\"network/attack_2.csv\", skiprows=lambda x: x % 10 == 0)\n",
    "        df_attack_3 = pd.read_csv(\"network/attack_3.csv\", skiprows=lambda x: x % 10 == 0)\n",
    "        df_attack_4 = pd.read_csv(\"network/attack_4.csv\", skiprows=lambda x: x % 10 == 0)\n",
    "\n",
    "\n",
    "    \n",
    "    return df_normal, df_attack_1, df_attack_2, df_attack_3, df_attack_4"
   ]
  },
  {
   "cell_type": "code",
   "execution_count": 4,
   "metadata": {},
   "outputs": [
    {
     "ename": "",
     "evalue": "",
     "output_type": "error",
     "traceback": [
      "\u001b[1;31mThe Kernel crashed while executing code in the the current cell or a previous cell. Please review the code in the cell(s) to identify a possible cause of the failure. Click <a href='https://aka.ms/vscodeJupyterKernelCrash'>here</a> for more info. View Jupyter <a href='command:jupyter.viewOutput'>log</a> for further details."
     ]
    }
   ],
   "source": [
    "df_normal, df_attack_1, df_attack_2, df_attack_3, df_attack_4 = load_data(\"full\")"
   ]
  },
  {
   "cell_type": "markdown",
   "metadata": {},
   "source": [
    "Afficher la taille mémoire prise en tout par les dataframe"
   ]
  },
  {
   "cell_type": "code",
   "execution_count": null,
   "metadata": {},
   "outputs": [],
   "source": [
    "df = pd.concat([df_normal, df_attack_1, df_attack_2, df_attack_3, df_attack_4], ignore_index=True)\n",
    "df.info(memory_usage='deep')"
   ]
  },
  {
   "cell_type": "markdown",
   "metadata": {},
   "source": [
    "## III - Analyse"
   ]
  },
  {
   "cell_type": "code",
   "execution_count": 4,
   "metadata": {},
   "outputs": [
    {
     "data": {
      "text/html": [
       "<div>\n",
       "<style scoped>\n",
       "    .dataframe tbody tr th:only-of-type {\n",
       "        vertical-align: middle;\n",
       "    }\n",
       "\n",
       "    .dataframe tbody tr th {\n",
       "        vertical-align: top;\n",
       "    }\n",
       "\n",
       "    .dataframe thead th {\n",
       "        text-align: right;\n",
       "    }\n",
       "</style>\n",
       "<table border=\"1\" class=\"dataframe\">\n",
       "  <thead>\n",
       "    <tr style=\"text-align: right;\">\n",
       "      <th></th>\n",
       "      <th>Time</th>\n",
       "      <th>mac_s</th>\n",
       "      <th>mac_d</th>\n",
       "      <th>ip_s</th>\n",
       "      <th>ip_d</th>\n",
       "      <th>sport</th>\n",
       "      <th>dport</th>\n",
       "      <th>proto</th>\n",
       "      <th>flags</th>\n",
       "      <th>size</th>\n",
       "      <th>modbus_fn</th>\n",
       "      <th>n_pkt_src</th>\n",
       "      <th>n_pkt_dst</th>\n",
       "      <th>modbus_response</th>\n",
       "      <th>label_n</th>\n",
       "      <th>label</th>\n",
       "    </tr>\n",
       "  </thead>\n",
       "  <tbody>\n",
       "    <tr>\n",
       "      <th>0</th>\n",
       "      <td>2021-04-09 11:30:52.716203</td>\n",
       "      <td>74:46:a0:bd:a7:1b</td>\n",
       "      <td>fa:00:bc:90:d7:fa</td>\n",
       "      <td>84.3.251.20</td>\n",
       "      <td>84.3.251.103</td>\n",
       "      <td>61516</td>\n",
       "      <td>502</td>\n",
       "      <td>Modbus</td>\n",
       "      <td>11000</td>\n",
       "      <td>66</td>\n",
       "      <td>Read Holding Registers</td>\n",
       "      <td>0</td>\n",
       "      <td>0</td>\n",
       "      <td>NaN</td>\n",
       "      <td>0</td>\n",
       "      <td>normal</td>\n",
       "    </tr>\n",
       "    <tr>\n",
       "      <th>1</th>\n",
       "      <td>2021-04-09 11:30:52.716499</td>\n",
       "      <td>fa:00:bc:90:d7:fa</td>\n",
       "      <td>74:46:a0:bd:a7:1b</td>\n",
       "      <td>84.3.251.103</td>\n",
       "      <td>84.3.251.20</td>\n",
       "      <td>502</td>\n",
       "      <td>61516</td>\n",
       "      <td>Modbus</td>\n",
       "      <td>11000</td>\n",
       "      <td>65</td>\n",
       "      <td>Read Holding Registers Response</td>\n",
       "      <td>0</td>\n",
       "      <td>0</td>\n",
       "      <td>[0]</td>\n",
       "      <td>0</td>\n",
       "      <td>normal</td>\n",
       "    </tr>\n",
       "    <tr>\n",
       "      <th>2</th>\n",
       "      <td>2021-04-09 11:30:52.717334</td>\n",
       "      <td>74:46:a0:bd:a7:1b</td>\n",
       "      <td>e6:3f:ac:c9:a8:8c</td>\n",
       "      <td>84.3.251.20</td>\n",
       "      <td>84.3.251.101</td>\n",
       "      <td>61515</td>\n",
       "      <td>502</td>\n",
       "      <td>Modbus</td>\n",
       "      <td>11000</td>\n",
       "      <td>66</td>\n",
       "      <td>Read Holding Registers</td>\n",
       "      <td>1</td>\n",
       "      <td>0</td>\n",
       "      <td>NaN</td>\n",
       "      <td>0</td>\n",
       "      <td>normal</td>\n",
       "    </tr>\n",
       "    <tr>\n",
       "      <th>3</th>\n",
       "      <td>2021-04-09 11:30:52.717624</td>\n",
       "      <td>e6:3f:ac:c9:a8:8c</td>\n",
       "      <td>74:46:a0:bd:a7:1b</td>\n",
       "      <td>84.3.251.101</td>\n",
       "      <td>84.3.251.20</td>\n",
       "      <td>502</td>\n",
       "      <td>61515</td>\n",
       "      <td>Modbus</td>\n",
       "      <td>11000</td>\n",
       "      <td>65</td>\n",
       "      <td>Read Holding Registers Response</td>\n",
       "      <td>0</td>\n",
       "      <td>1</td>\n",
       "      <td>[0]</td>\n",
       "      <td>0</td>\n",
       "      <td>normal</td>\n",
       "    </tr>\n",
       "    <tr>\n",
       "      <th>4</th>\n",
       "      <td>2021-04-09 11:30:52.717952</td>\n",
       "      <td>00:80:f4:03:fb:12</td>\n",
       "      <td>74:46:a0:bd:a7:1b</td>\n",
       "      <td>84.3.251.18</td>\n",
       "      <td>84.3.251.20</td>\n",
       "      <td>502</td>\n",
       "      <td>61514</td>\n",
       "      <td>Modbus</td>\n",
       "      <td>11000</td>\n",
       "      <td>64</td>\n",
       "      <td>Read Coils Response</td>\n",
       "      <td>0</td>\n",
       "      <td>2</td>\n",
       "      <td>[0]</td>\n",
       "      <td>0</td>\n",
       "      <td>normal</td>\n",
       "    </tr>\n",
       "  </tbody>\n",
       "</table>\n",
       "</div>"
      ],
      "text/plain": [
       "                         Time              mac_s              mac_d  \\\n",
       "0  2021-04-09 11:30:52.716203  74:46:a0:bd:a7:1b  fa:00:bc:90:d7:fa   \n",
       "1  2021-04-09 11:30:52.716499  fa:00:bc:90:d7:fa  74:46:a0:bd:a7:1b   \n",
       "2  2021-04-09 11:30:52.717334  74:46:a0:bd:a7:1b  e6:3f:ac:c9:a8:8c   \n",
       "3  2021-04-09 11:30:52.717624  e6:3f:ac:c9:a8:8c  74:46:a0:bd:a7:1b   \n",
       "4  2021-04-09 11:30:52.717952  00:80:f4:03:fb:12  74:46:a0:bd:a7:1b   \n",
       "\n",
       "           ip_s          ip_d  sport  dport   proto  flags  size  \\\n",
       "0   84.3.251.20  84.3.251.103  61516    502  Modbus  11000    66   \n",
       "1  84.3.251.103   84.3.251.20    502  61516  Modbus  11000    65   \n",
       "2   84.3.251.20  84.3.251.101  61515    502  Modbus  11000    66   \n",
       "3  84.3.251.101   84.3.251.20    502  61515  Modbus  11000    65   \n",
       "4   84.3.251.18   84.3.251.20    502  61514  Modbus  11000    64   \n",
       "\n",
       "                         modbus_fn  n_pkt_src  n_pkt_dst modbus_response  \\\n",
       "0           Read Holding Registers          0          0             NaN   \n",
       "1  Read Holding Registers Response          0          0             [0]   \n",
       "2           Read Holding Registers          1          0             NaN   \n",
       "3  Read Holding Registers Response          0          1             [0]   \n",
       "4              Read Coils Response          0          2             [0]   \n",
       "\n",
       "   label_n   label  \n",
       "0        0  normal  \n",
       "1        0  normal  \n",
       "2        0  normal  \n",
       "3        0  normal  \n",
       "4        0  normal  "
      ]
     },
     "execution_count": 4,
     "metadata": {},
     "output_type": "execute_result"
    }
   ],
   "source": [
    "df_normal.head()"
   ]
  },
  {
   "cell_type": "markdown",
   "metadata": {},
   "source": [
    "### 1 - Tailles"
   ]
  },
  {
   "cell_type": "code",
   "execution_count": 5,
   "metadata": {},
   "outputs": [
    {
     "name": "stdout",
     "output_type": "stream",
     "text": [
      "normal - 7757289\n",
      "attaque 1 - 5527409\n",
      "attaque 2 - 5159469\n",
      "attaque 3 - 5862547\n",
      "attaque 4 - 5522490\n"
     ]
    }
   ],
   "source": [
    "print(\"normal -\",len(df_normal))\n",
    "print(\"attaque 1 -\",len(df_attack_1))\n",
    "print(\"attaque 2 -\",len(df_attack_2))\n",
    "print(\"attaque 3 -\",len(df_attack_3))\n",
    "print(\"attaque 4 -\",len(df_attack_4))"
   ]
  },
  {
   "cell_type": "markdown",
   "metadata": {},
   "source": [
    "### 2 - Colonnes"
   ]
  },
  {
   "cell_type": "markdown",
   "metadata": {},
   "source": [
    "#### A - Cohérence"
   ]
  },
  {
   "cell_type": "code",
   "execution_count": 6,
   "metadata": {},
   "outputs": [
    {
     "data": {
      "text/plain": [
       "False"
      ]
     },
     "execution_count": 6,
     "metadata": {},
     "output_type": "execute_result"
    }
   ],
   "source": [
    "print(list(df_normal.columns)==list(df_attack_1.columns) and\n",
    "      list(df_attack_1.columns)==list(df_attack_2.columns) and \n",
    "      list(df_attack_1.columns)==list(df_attack_3.columns) and \n",
    "      list(df_attack_1.columns)==list(df_attack_4.columns))"
   ]
  },
  {
   "cell_type": "markdown",
   "metadata": {},
   "source": [
    "Les colonnes ne sont pas identiques. Voyons pourquoi."
   ]
  },
  {
   "cell_type": "code",
   "execution_count": 7,
   "metadata": {},
   "outputs": [
    {
     "name": "stdout",
     "output_type": "stream",
     "text": [
      "['Time', 'mac_s', 'mac_d', 'ip_s', 'ip_d', 'sport', 'dport', 'proto', 'flags', 'size', 'modbus_fn', 'n_pkt_src', 'n_pkt_dst', 'modbus_response', 'label_n', 'label']\n",
      "['Time', ' mac_s', ' mac_d', ' ip_s', ' ip_d', ' sport', ' dport', ' proto', ' flags', ' size', ' modbus_fn', ' n_pkt_src', ' n_pkt_dst', ' modbus_response', ' label_n', ' label']\n",
      "['Time', ' mac_s', ' mac_d', ' ip_s', ' ip_d', ' sport', ' dport', ' proto', ' flags', ' size', ' modbus_fn', ' n_pkt_src', ' n_pkt_dst', ' modbus_response', ' label_n', ' label']\n",
      "['Time', ' mac_s', ' mac_d', ' ip_s', ' ip_d', ' sport', ' dport', ' proto', ' flags', ' size', ' modbus_fn', ' n_pkt_src', ' n_pkt_dst', ' modbus_response', ' label_n', ' label']\n",
      "['Time', 'mac_s', 'mac_d', 'ip_s', 'ip_d', 'sport', 'dport', 'proto', 'flags', 'size', 'modbus_fn', 'modbus_response', 'n_pkt_src', 'n_pkt_dst', 'label_n', 'label']\n"
     ]
    }
   ],
   "source": [
    "print(list(df_normal.columns))\n",
    "print(list(df_attack_1.columns))\n",
    "print(list(df_attack_2.columns))\n",
    "print(list(df_attack_3.columns))\n",
    "print(list(df_attack_4.columns))"
   ]
  },
  {
   "cell_type": "markdown",
   "metadata": {},
   "source": [
    "Même colonnes mais certaines ont un espace avant, il faudra le prendre en compte lors de la préparation de donnée"
   ]
  },
  {
   "cell_type": "code",
   "execution_count": 8,
   "metadata": {},
   "outputs": [
    {
     "data": {
      "text/plain": [
       "Time                 object\n",
       " mac_s               object\n",
       " mac_d               object\n",
       " ip_s                object\n",
       " ip_d                object\n",
       " sport              float64\n",
       " dport              float64\n",
       " proto               object\n",
       " flags              float64\n",
       " size                 int64\n",
       " modbus_fn           object\n",
       " n_pkt_src          float64\n",
       " n_pkt_dst          float64\n",
       " modbus_response     object\n",
       " label_n              int64\n",
       " label               object\n",
       "dtype: object"
      ]
     },
     "execution_count": 8,
     "metadata": {},
     "output_type": "execute_result"
    }
   ],
   "source": [
    "df_attack_1.dtypes"
   ]
  },
  {
   "cell_type": "code",
   "execution_count": 10,
   "metadata": {},
   "outputs": [
    {
     "name": "stdout",
     "output_type": "stream",
     "text": [
      "Time ['2021-04-09 18:23:28.385003', '2021-04-09 18:23:28.385005', '2021-04-09 18:23:28.385006', '2021-04-09 18:23:28.385484', '2021-04-09 18:23:28.385486']\n",
      " mac_s ['74:46:a0:bd:a7:1b', '0a:fe:ec:47:74:fb', 'fa:00:bc:90:d7:fa', 'e6:3f:ac:c9:a8:8c', '00:80:f4:03:fb:12']\n",
      " mac_d ['0a:fe:ec:47:74:fb', 'e6:3f:ac:c9:a8:8c', 'fa:00:bc:90:d7:fa', '74:46:a0:bd:a7:1b', '00:80:f4:03:fb:12']\n",
      " ip_s ['84.3.251.20', '84.3.251.102', '84.3.251.103', '84.3.251.101', '84.3.251.18']\n",
      " ip_d ['84.3.251.102', '84.3.251.101', '84.3.251.103', '84.3.251.20', '84.3.251.18']\n",
      " sport [56667.0, 56666.0, 56668.0, 502.0, 56665.0]\n",
      " dport [502.0, 56667.0, 56668.0, 56666.0, 56665.0]\n",
      " proto ['Modbus', 'TCP', 'ARP', 'ICMP']\n",
      " flags [11000.0, 10.0, 10010.0, 10000.0, 10001.0]\n",
      " size [66, 64, 65, 74, 78]\n",
      " modbus_fn ['Read Coils Request', 'Read Coils Response', 'Read Holding Registers', 'Read Holding Registers Response', nan]\n",
      " n_pkt_src [0.0, 1.0, 2.0, 3.0, 4.0]\n",
      " n_pkt_dst [0.0, 1.0, 2.0, 3.0, 4.0]\n",
      " modbus_response [nan, '[0]', '[7]', '[24]', '[1]']\n",
      " label_n [0, 1]\n",
      " label ['normal', 'anomaly', 'MITM', 'physical fault']\n"
     ]
    }
   ],
   "source": [
    "for k in df_attack_1.columns:\n",
    "    print(k,list(pd.unique(df_attack_1[k]))[:5])"
   ]
  },
  {
   "cell_type": "markdown",
   "metadata": {},
   "source": [
    "Certaines colonnes comme l'IP sont des données catégorielles ou des IP toutes différentes. Il faudra peut être s'en passer"
   ]
  },
  {
   "cell_type": "markdown",
   "metadata": {},
   "source": [
    "### B - Etude des NaN"
   ]
  },
  {
   "cell_type": "code",
   "execution_count": 10,
   "metadata": {},
   "outputs": [
    {
     "name": "stdout",
     "output_type": "stream",
     "text": [
      "Time False\n",
      "mac_s False\n",
      "mac_d False\n",
      "ip_s False\n",
      "ip_d False\n",
      "sport False\n",
      "dport False\n",
      "proto False\n",
      "flags False\n",
      "size False\n",
      "modbus_fn True\n",
      "n_pkt_src False\n",
      "n_pkt_dst False\n",
      "modbus_response True\n",
      "label_n False\n",
      "label False\n"
     ]
    }
   ],
   "source": [
    "for k in df_normal.columns:\n",
    "    print(k,df_normal[k].isna().any())"
   ]
  },
  {
   "cell_type": "markdown",
   "metadata": {},
   "source": [
    "Pas de problème sur le set de données sans attaque à part modbus_response, qui est NaN car il ne peut y avoir de valeur que dans des réponses à des requêtes modbus."
   ]
  },
  {
   "cell_type": "code",
   "execution_count": 11,
   "metadata": {},
   "outputs": [
    {
     "name": "stdout",
     "output_type": "stream",
     "text": [
      "Time False\n",
      " mac_s False\n",
      " mac_d False\n",
      " ip_s True\n",
      " ip_d True\n",
      " sport True\n",
      " dport True\n",
      " proto False\n",
      " flags True\n",
      " size False\n",
      " modbus_fn True\n",
      " n_pkt_src True\n",
      " n_pkt_dst True\n",
      " modbus_response True\n",
      " label_n False\n",
      " label False\n"
     ]
    }
   ],
   "source": [
    "for k in df_attack_1.columns:\n",
    "    print(k,df_attack_1[k].isna().any())"
   ]
  },
  {
   "cell_type": "markdown",
   "metadata": {},
   "source": [
    "La date d'acquisition, la taille de l'attaque, l'adresse mac, le protocole et le label de l'attaque sont les colonnes sans NaN montrant leur importance.\n",
    "\n",
    "Voyons ce qu'il se passe si on supprime les colonnes catégorielles et temporelles difficilement utilisables, pour garder les données numériques et booléennes : "
   ]
  },
  {
   "cell_type": "code",
   "execution_count": 12,
   "metadata": {},
   "outputs": [
    {
     "name": "stdout",
     "output_type": "stream",
     "text": [
      " sport True\n",
      " dport True\n",
      " flags True\n",
      " size False\n",
      " n_pkt_src True\n",
      " n_pkt_dst True\n",
      " label False\n"
     ]
    }
   ],
   "source": [
    "df_temp =  df_attack_1.drop(\"Time\",axis=1)\n",
    "df_temp =  df_temp.drop(\" mac_s\",axis=1)\n",
    "df_temp = df_temp.drop(\" mac_d\",axis=1)\n",
    "df_temp = df_temp.drop(\" ip_s\",axis=1)\n",
    "df_temp = df_temp.drop(\" ip_d\",axis=1)\n",
    "df_temp = df_temp.drop(\" modbus_fn\",axis=1)\n",
    "df_temp = df_temp.drop(\" modbus_response\",axis=1)\n",
    "df_temp = df_temp.drop(\" label_n\",axis=1)\n",
    "df_temp = df_temp.drop(\" proto\",axis=1)\n",
    "\n",
    "for k in df_temp.columns:\n",
    "    print(k,df_temp[k].isna().any())"
   ]
  },
  {
   "cell_type": "markdown",
   "metadata": {},
   "source": [
    "Analysons les NaN sur ces données numériques"
   ]
  },
  {
   "cell_type": "code",
   "execution_count": 17,
   "metadata": {},
   "outputs": [
    {
     "name": "stdout",
     "output_type": "stream",
     "text": [
      "nombre de NaN :  515\n",
      "nombre de NaN :  515\n",
      "nombre de NaN :  475\n",
      "nombre de NaN :  475\n"
     ]
    },
    {
     "data": {
      "text/html": [
       "<div>\n",
       "<style scoped>\n",
       "    .dataframe tbody tr th:only-of-type {\n",
       "        vertical-align: middle;\n",
       "    }\n",
       "\n",
       "    .dataframe tbody tr th {\n",
       "        vertical-align: top;\n",
       "    }\n",
       "\n",
       "    .dataframe thead th {\n",
       "        text-align: right;\n",
       "    }\n",
       "</style>\n",
       "<table border=\"1\" class=\"dataframe\">\n",
       "  <thead>\n",
       "    <tr style=\"text-align: right;\">\n",
       "      <th></th>\n",
       "      <th>sport</th>\n",
       "      <th>dport</th>\n",
       "      <th>flags</th>\n",
       "      <th>size</th>\n",
       "      <th>n_pkt_src</th>\n",
       "      <th>n_pkt_dst</th>\n",
       "      <th>label</th>\n",
       "    </tr>\n",
       "  </thead>\n",
       "  <tbody>\n",
       "    <tr>\n",
       "      <th>65920</th>\n",
       "      <td>NaN</td>\n",
       "      <td>NaN</td>\n",
       "      <td>NaN</td>\n",
       "      <td>60</td>\n",
       "      <td>NaN</td>\n",
       "      <td>NaN</td>\n",
       "      <td>anomaly</td>\n",
       "    </tr>\n",
       "    <tr>\n",
       "      <th>65932</th>\n",
       "      <td>NaN</td>\n",
       "      <td>NaN</td>\n",
       "      <td>NaN</td>\n",
       "      <td>60</td>\n",
       "      <td>NaN</td>\n",
       "      <td>NaN</td>\n",
       "      <td>anomaly</td>\n",
       "    </tr>\n",
       "    <tr>\n",
       "      <th>65933</th>\n",
       "      <td>NaN</td>\n",
       "      <td>NaN</td>\n",
       "      <td>NaN</td>\n",
       "      <td>60</td>\n",
       "      <td>NaN</td>\n",
       "      <td>NaN</td>\n",
       "      <td>anomaly</td>\n",
       "    </tr>\n",
       "    <tr>\n",
       "      <th>70594</th>\n",
       "      <td>NaN</td>\n",
       "      <td>NaN</td>\n",
       "      <td>NaN</td>\n",
       "      <td>60</td>\n",
       "      <td>NaN</td>\n",
       "      <td>NaN</td>\n",
       "      <td>anomaly</td>\n",
       "    </tr>\n",
       "    <tr>\n",
       "      <th>70608</th>\n",
       "      <td>NaN</td>\n",
       "      <td>NaN</td>\n",
       "      <td>NaN</td>\n",
       "      <td>60</td>\n",
       "      <td>NaN</td>\n",
       "      <td>NaN</td>\n",
       "      <td>anomaly</td>\n",
       "    </tr>\n",
       "  </tbody>\n",
       "</table>\n",
       "</div>"
      ],
      "text/plain": [
       "        sport   dport   flags   size   n_pkt_src   n_pkt_dst    label\n",
       "65920     NaN     NaN     NaN     60         NaN         NaN  anomaly\n",
       "65932     NaN     NaN     NaN     60         NaN         NaN  anomaly\n",
       "65933     NaN     NaN     NaN     60         NaN         NaN  anomaly\n",
       "70594     NaN     NaN     NaN     60         NaN         NaN  anomaly\n",
       "70608     NaN     NaN     NaN     60         NaN         NaN  anomaly"
      ]
     },
     "execution_count": 17,
     "metadata": {},
     "output_type": "execute_result"
    }
   ],
   "source": [
    "print(\"nombre de NaN : \",sum(df_temp[\" sport\"].isna()))\n",
    "print(\"nombre de NaN : \",sum(df_temp[\" dport\"].isna()))\n",
    "print(\"nombre de NaN : \",sum(df_temp[\" n_pkt_src\"].isna()))\n",
    "print(\"nombre de NaN : \",sum(df_temp[\" n_pkt_dst\"].isna()))"
   ]
  },
  {
   "cell_type": "markdown",
   "metadata": {},
   "source": [
    "Très peu de valeurs NaN. Correspondent elles aux mêmes lignes ? "
   ]
  },
  {
   "cell_type": "code",
   "execution_count": 20,
   "metadata": {},
   "outputs": [
    {
     "name": "stdout",
     "output_type": "stream",
     "text": [
      "475\n"
     ]
    }
   ],
   "source": [
    "print(sum(df_temp[df_temp[\" n_pkt_src\"].isna()][\" sport\"].isna()))"
   ]
  },
  {
   "cell_type": "markdown",
   "metadata": {},
   "source": [
    "On peut voir que toutes les lignes où \"n_pkt_src\" sont NaN, le sport est aussi NaN."
   ]
  }
 ],
 "metadata": {
  "kernelspec": {
   "display_name": "Python 3",
   "language": "python",
   "name": "python3"
  },
  "language_info": {
   "codemirror_mode": {
    "name": "ipython",
    "version": 3
   },
   "file_extension": ".py",
   "mimetype": "text/x-python",
   "name": "python",
   "nbconvert_exporter": "python",
   "pygments_lexer": "ipython3",
   "version": "3.10.12"
  },
  "orig_nbformat": 4
 },
 "nbformat": 4,
 "nbformat_minor": 2
}
