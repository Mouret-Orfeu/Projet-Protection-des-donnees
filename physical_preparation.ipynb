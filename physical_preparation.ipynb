{
 "cells": [
  {
   "cell_type": "markdown",
   "metadata": {},
   "source": [
    "# Physical attacks - Preparation de données"
   ]
  },
  {
   "cell_type": "markdown",
   "metadata": {},
   "source": [
    "## I - Modules"
   ]
  },
  {
   "cell_type": "code",
   "execution_count": 23,
   "metadata": {},
   "outputs": [],
   "source": [
    "import pandas as pd\n"
   ]
  },
  {
   "cell_type": "markdown",
   "metadata": {},
   "source": [
    "## II - Charger donnée"
   ]
  },
  {
   "cell_type": "code",
   "execution_count": 24,
   "metadata": {},
   "outputs": [],
   "source": [
    "df_normal = pd.read_csv(\"physical/phy_norm.csv\",sep=\";\")\n",
    "df_attack_1 = pd.read_csv(\"physical/phy_att_1.csv\",sep=\";\")\n",
    "df_attack_2 = pd.read_csv(\"physical/phy_att_2.csv\",sep=\";\")\n",
    "df_attack_3 = pd.read_csv(\"physical/phy_att_3.csv\",sep=\";\")\n",
    "df_attack_4 = pd.read_csv(\"physical/phy_att_4.csv\")"
   ]
  },
  {
   "cell_type": "code",
   "execution_count": 25,
   "metadata": {},
   "outputs": [
    {
     "data": {
      "text/html": [
       "<div>\n",
       "<style scoped>\n",
       "    .dataframe tbody tr th:only-of-type {\n",
       "        vertical-align: middle;\n",
       "    }\n",
       "\n",
       "    .dataframe tbody tr th {\n",
       "        vertical-align: top;\n",
       "    }\n",
       "\n",
       "    .dataframe thead th {\n",
       "        text-align: right;\n",
       "    }\n",
       "</style>\n",
       "<table border=\"1\" class=\"dataframe\">\n",
       "  <thead>\n",
       "    <tr style=\"text-align: right;\">\n",
       "      <th></th>\n",
       "      <th>Time</th>\n",
       "      <th>Tank_1</th>\n",
       "      <th>Tank_2</th>\n",
       "      <th>Tank_3</th>\n",
       "      <th>Tank_4</th>\n",
       "      <th>Tank_5</th>\n",
       "      <th>Tank_6</th>\n",
       "      <th>Tank_7</th>\n",
       "      <th>Tank_8</th>\n",
       "      <th>Pump_1</th>\n",
       "      <th>...</th>\n",
       "      <th>Valv_15</th>\n",
       "      <th>Valv_16</th>\n",
       "      <th>Valv_17</th>\n",
       "      <th>Valv_18</th>\n",
       "      <th>Valv_19</th>\n",
       "      <th>Valv_20</th>\n",
       "      <th>Valv_21</th>\n",
       "      <th>Valv_22</th>\n",
       "      <th>Label_n</th>\n",
       "      <th>Label</th>\n",
       "    </tr>\n",
       "  </thead>\n",
       "  <tbody>\n",
       "    <tr>\n",
       "      <th>0</th>\n",
       "      <td>09/04/2021 11:30</td>\n",
       "      <td>0</td>\n",
       "      <td>0</td>\n",
       "      <td>0</td>\n",
       "      <td>0</td>\n",
       "      <td>0</td>\n",
       "      <td>0</td>\n",
       "      <td>0</td>\n",
       "      <td>0</td>\n",
       "      <td>False</td>\n",
       "      <td>...</td>\n",
       "      <td>False</td>\n",
       "      <td>False</td>\n",
       "      <td>False</td>\n",
       "      <td>False</td>\n",
       "      <td>False</td>\n",
       "      <td>False</td>\n",
       "      <td>False</td>\n",
       "      <td>False</td>\n",
       "      <td>0</td>\n",
       "      <td>normal</td>\n",
       "    </tr>\n",
       "    <tr>\n",
       "      <th>1</th>\n",
       "      <td>09/04/2021 11:30</td>\n",
       "      <td>0</td>\n",
       "      <td>0</td>\n",
       "      <td>0</td>\n",
       "      <td>0</td>\n",
       "      <td>0</td>\n",
       "      <td>0</td>\n",
       "      <td>0</td>\n",
       "      <td>0</td>\n",
       "      <td>False</td>\n",
       "      <td>...</td>\n",
       "      <td>False</td>\n",
       "      <td>False</td>\n",
       "      <td>False</td>\n",
       "      <td>False</td>\n",
       "      <td>False</td>\n",
       "      <td>False</td>\n",
       "      <td>False</td>\n",
       "      <td>False</td>\n",
       "      <td>0</td>\n",
       "      <td>normal</td>\n",
       "    </tr>\n",
       "    <tr>\n",
       "      <th>2</th>\n",
       "      <td>09/04/2021 11:30</td>\n",
       "      <td>0</td>\n",
       "      <td>0</td>\n",
       "      <td>0</td>\n",
       "      <td>0</td>\n",
       "      <td>0</td>\n",
       "      <td>0</td>\n",
       "      <td>0</td>\n",
       "      <td>0</td>\n",
       "      <td>False</td>\n",
       "      <td>...</td>\n",
       "      <td>False</td>\n",
       "      <td>False</td>\n",
       "      <td>False</td>\n",
       "      <td>False</td>\n",
       "      <td>False</td>\n",
       "      <td>False</td>\n",
       "      <td>False</td>\n",
       "      <td>False</td>\n",
       "      <td>0</td>\n",
       "      <td>normal</td>\n",
       "    </tr>\n",
       "    <tr>\n",
       "      <th>3</th>\n",
       "      <td>09/04/2021 11:30</td>\n",
       "      <td>0</td>\n",
       "      <td>0</td>\n",
       "      <td>0</td>\n",
       "      <td>0</td>\n",
       "      <td>0</td>\n",
       "      <td>0</td>\n",
       "      <td>0</td>\n",
       "      <td>0</td>\n",
       "      <td>False</td>\n",
       "      <td>...</td>\n",
       "      <td>False</td>\n",
       "      <td>False</td>\n",
       "      <td>False</td>\n",
       "      <td>False</td>\n",
       "      <td>False</td>\n",
       "      <td>False</td>\n",
       "      <td>False</td>\n",
       "      <td>False</td>\n",
       "      <td>0</td>\n",
       "      <td>normal</td>\n",
       "    </tr>\n",
       "    <tr>\n",
       "      <th>4</th>\n",
       "      <td>09/04/2021 11:30</td>\n",
       "      <td>0</td>\n",
       "      <td>0</td>\n",
       "      <td>0</td>\n",
       "      <td>0</td>\n",
       "      <td>0</td>\n",
       "      <td>0</td>\n",
       "      <td>0</td>\n",
       "      <td>0</td>\n",
       "      <td>False</td>\n",
       "      <td>...</td>\n",
       "      <td>False</td>\n",
       "      <td>False</td>\n",
       "      <td>False</td>\n",
       "      <td>False</td>\n",
       "      <td>False</td>\n",
       "      <td>False</td>\n",
       "      <td>False</td>\n",
       "      <td>False</td>\n",
       "      <td>0</td>\n",
       "      <td>normal</td>\n",
       "    </tr>\n",
       "  </tbody>\n",
       "</table>\n",
       "<p>5 rows × 43 columns</p>\n",
       "</div>"
      ],
      "text/plain": [
       "               Time  Tank_1  Tank_2  Tank_3  Tank_4  Tank_5  Tank_6  Tank_7  \\\n",
       "0  09/04/2021 11:30       0       0       0       0       0       0       0   \n",
       "1  09/04/2021 11:30       0       0       0       0       0       0       0   \n",
       "2  09/04/2021 11:30       0       0       0       0       0       0       0   \n",
       "3  09/04/2021 11:30       0       0       0       0       0       0       0   \n",
       "4  09/04/2021 11:30       0       0       0       0       0       0       0   \n",
       "\n",
       "   Tank_8  Pump_1  ...  Valv_15  Valv_16  Valv_17  Valv_18  Valv_19  Valv_20  \\\n",
       "0       0   False  ...    False    False    False    False    False    False   \n",
       "1       0   False  ...    False    False    False    False    False    False   \n",
       "2       0   False  ...    False    False    False    False    False    False   \n",
       "3       0   False  ...    False    False    False    False    False    False   \n",
       "4       0   False  ...    False    False    False    False    False    False   \n",
       "\n",
       "   Valv_21  Valv_22  Label_n   Label  \n",
       "0    False    False        0  normal  \n",
       "1    False    False        0  normal  \n",
       "2    False    False        0  normal  \n",
       "3    False    False        0  normal  \n",
       "4    False    False        0  normal  \n",
       "\n",
       "[5 rows x 43 columns]"
      ]
     },
     "execution_count": 25,
     "metadata": {},
     "output_type": "execute_result"
    }
   ],
   "source": [
    "df_normal.head()"
   ]
  },
  {
   "cell_type": "code",
   "execution_count": 26,
   "metadata": {},
   "outputs": [
    {
     "data": {
      "text/html": [
       "<div>\n",
       "<style scoped>\n",
       "    .dataframe tbody tr th:only-of-type {\n",
       "        vertical-align: middle;\n",
       "    }\n",
       "\n",
       "    .dataframe tbody tr th {\n",
       "        vertical-align: top;\n",
       "    }\n",
       "\n",
       "    .dataframe thead th {\n",
       "        text-align: right;\n",
       "    }\n",
       "</style>\n",
       "<table border=\"1\" class=\"dataframe\">\n",
       "  <thead>\n",
       "    <tr style=\"text-align: right;\">\n",
       "      <th></th>\n",
       "      <th>Time</th>\n",
       "      <th>Tank_1</th>\n",
       "      <th>Tank_2</th>\n",
       "      <th>Tank_3</th>\n",
       "      <th>Tank_4</th>\n",
       "      <th>Tank_5</th>\n",
       "      <th>Tank_6</th>\n",
       "      <th>Tank_7</th>\n",
       "      <th>Tank_8</th>\n",
       "      <th>Pump_1</th>\n",
       "      <th>...</th>\n",
       "      <th>Valv_15</th>\n",
       "      <th>Valv_16</th>\n",
       "      <th>Valv_17</th>\n",
       "      <th>Valv_18</th>\n",
       "      <th>Valv_19</th>\n",
       "      <th>Valv_20</th>\n",
       "      <th>Valv_21</th>\n",
       "      <th>Valv_22</th>\n",
       "      <th>Label_n</th>\n",
       "      <th>Label</th>\n",
       "    </tr>\n",
       "  </thead>\n",
       "  <tbody>\n",
       "    <tr>\n",
       "      <th>0</th>\n",
       "      <td>21/02/2022 14:45:18</td>\n",
       "      <td>0</td>\n",
       "      <td>0</td>\n",
       "      <td>0</td>\n",
       "      <td>0</td>\n",
       "      <td>0</td>\n",
       "      <td>0</td>\n",
       "      <td>0</td>\n",
       "      <td>0</td>\n",
       "      <td>False</td>\n",
       "      <td>...</td>\n",
       "      <td>False</td>\n",
       "      <td>False</td>\n",
       "      <td>False</td>\n",
       "      <td>False</td>\n",
       "      <td>False</td>\n",
       "      <td>False</td>\n",
       "      <td>False</td>\n",
       "      <td>False</td>\n",
       "      <td>0</td>\n",
       "      <td>normal</td>\n",
       "    </tr>\n",
       "    <tr>\n",
       "      <th>1</th>\n",
       "      <td>21/02/2022 14:45:19</td>\n",
       "      <td>0</td>\n",
       "      <td>0</td>\n",
       "      <td>0</td>\n",
       "      <td>0</td>\n",
       "      <td>0</td>\n",
       "      <td>0</td>\n",
       "      <td>0</td>\n",
       "      <td>0</td>\n",
       "      <td>False</td>\n",
       "      <td>...</td>\n",
       "      <td>False</td>\n",
       "      <td>False</td>\n",
       "      <td>False</td>\n",
       "      <td>False</td>\n",
       "      <td>False</td>\n",
       "      <td>False</td>\n",
       "      <td>False</td>\n",
       "      <td>False</td>\n",
       "      <td>0</td>\n",
       "      <td>normal</td>\n",
       "    </tr>\n",
       "    <tr>\n",
       "      <th>2</th>\n",
       "      <td>21/02/2022 14:45:20</td>\n",
       "      <td>0</td>\n",
       "      <td>0</td>\n",
       "      <td>0</td>\n",
       "      <td>0</td>\n",
       "      <td>0</td>\n",
       "      <td>0</td>\n",
       "      <td>0</td>\n",
       "      <td>0</td>\n",
       "      <td>False</td>\n",
       "      <td>...</td>\n",
       "      <td>False</td>\n",
       "      <td>False</td>\n",
       "      <td>False</td>\n",
       "      <td>False</td>\n",
       "      <td>False</td>\n",
       "      <td>False</td>\n",
       "      <td>False</td>\n",
       "      <td>False</td>\n",
       "      <td>0</td>\n",
       "      <td>normal</td>\n",
       "    </tr>\n",
       "    <tr>\n",
       "      <th>3</th>\n",
       "      <td>21/02/2022 14:45:21</td>\n",
       "      <td>0</td>\n",
       "      <td>0</td>\n",
       "      <td>0</td>\n",
       "      <td>0</td>\n",
       "      <td>0</td>\n",
       "      <td>0</td>\n",
       "      <td>0</td>\n",
       "      <td>0</td>\n",
       "      <td>False</td>\n",
       "      <td>...</td>\n",
       "      <td>False</td>\n",
       "      <td>False</td>\n",
       "      <td>False</td>\n",
       "      <td>False</td>\n",
       "      <td>False</td>\n",
       "      <td>False</td>\n",
       "      <td>False</td>\n",
       "      <td>False</td>\n",
       "      <td>0</td>\n",
       "      <td>normal</td>\n",
       "    </tr>\n",
       "    <tr>\n",
       "      <th>4</th>\n",
       "      <td>21/02/2022 14:45:22</td>\n",
       "      <td>0</td>\n",
       "      <td>0</td>\n",
       "      <td>0</td>\n",
       "      <td>0</td>\n",
       "      <td>0</td>\n",
       "      <td>0</td>\n",
       "      <td>0</td>\n",
       "      <td>0</td>\n",
       "      <td>False</td>\n",
       "      <td>...</td>\n",
       "      <td>False</td>\n",
       "      <td>False</td>\n",
       "      <td>False</td>\n",
       "      <td>False</td>\n",
       "      <td>False</td>\n",
       "      <td>False</td>\n",
       "      <td>False</td>\n",
       "      <td>False</td>\n",
       "      <td>0</td>\n",
       "      <td>normal</td>\n",
       "    </tr>\n",
       "  </tbody>\n",
       "</table>\n",
       "<p>5 rows × 43 columns</p>\n",
       "</div>"
      ],
      "text/plain": [
       "                  Time  Tank_1  Tank_2  Tank_3  Tank_4  Tank_5  Tank_6  \\\n",
       "0  21/02/2022 14:45:18       0       0       0       0       0       0   \n",
       "1  21/02/2022 14:45:19       0       0       0       0       0       0   \n",
       "2  21/02/2022 14:45:20       0       0       0       0       0       0   \n",
       "3  21/02/2022 14:45:21       0       0       0       0       0       0   \n",
       "4  21/02/2022 14:45:22       0       0       0       0       0       0   \n",
       "\n",
       "   Tank_7  Tank_8  Pump_1  ...  Valv_15  Valv_16  Valv_17  Valv_18  Valv_19  \\\n",
       "0       0       0   False  ...    False    False    False    False    False   \n",
       "1       0       0   False  ...    False    False    False    False    False   \n",
       "2       0       0   False  ...    False    False    False    False    False   \n",
       "3       0       0   False  ...    False    False    False    False    False   \n",
       "4       0       0   False  ...    False    False    False    False    False   \n",
       "\n",
       "   Valv_20  Valv_21  Valv_22  Label_n   Label  \n",
       "0    False    False    False        0  normal  \n",
       "1    False    False    False        0  normal  \n",
       "2    False    False    False        0  normal  \n",
       "3    False    False    False        0  normal  \n",
       "4    False    False    False        0  normal  \n",
       "\n",
       "[5 rows x 43 columns]"
      ]
     },
     "execution_count": 26,
     "metadata": {},
     "output_type": "execute_result"
    }
   ],
   "source": [
    "df_attack_4.head()"
   ]
  },
  {
   "cell_type": "markdown",
   "metadata": {},
   "source": [
    "## III - Nettoyer donnée"
   ]
  },
  {
   "cell_type": "markdown",
   "metadata": {},
   "source": [
    "Nous allons nettoyer la donnée avec les informations obtenus à partir de l'exploration"
   ]
  },
  {
   "cell_type": "markdown",
   "metadata": {},
   "source": [
    "### 1 - Corriger faute d'orthographe de la colonne"
   ]
  },
  {
   "cell_type": "markdown",
   "metadata": {},
   "source": [
    "On a vu que \"Lable_n\" était parfois mal orthographié en \"Label_n\""
   ]
  },
  {
   "cell_type": "code",
   "execution_count": 27,
   "metadata": {},
   "outputs": [],
   "source": [
    "def corriger_titre(df):\n",
    "    df_ret = df.copy()\n",
    "    for col in df_ret.columns:\n",
    "        df_ret = df_ret.rename(columns={\"Lable_n\":\"Label_n\"})\n",
    "    return df_ret"
   ]
  },
  {
   "cell_type": "code",
   "execution_count": 28,
   "metadata": {},
   "outputs": [
    {
     "data": {
      "text/plain": [
       "Index(['Time', 'Tank_1', 'Tank_2', 'Tank_3', 'Tank_4', 'Tank_5', 'Tank_6',\n",
       "       'Tank_7', 'Tank_8', 'Pump_1', 'Pump_2', 'Pump_3', 'Pump_4', 'Pump_5',\n",
       "       'Pump_6', 'Flow_sensor_1', 'Flow_sensor_2', 'Flow_sensor_3',\n",
       "       'Flow_sensor_4', 'Valv_1', 'Valv_2', 'Valv_3', 'Valv_4', 'Valv_5',\n",
       "       'Valv_6', 'Valv_7', 'Valv_8', 'Valv_9', 'Valv_10', 'Valv_11', 'Valv_12',\n",
       "       'Valv_13', 'Valv_14', 'Valv_15', 'Valv_16', 'Valv_17', 'Valv_18',\n",
       "       'Valv_19', 'Valv_20', 'Valv_21', 'Valv_22', 'Lable_n', 'Label'],\n",
       "      dtype='object')"
      ]
     },
     "execution_count": 28,
     "metadata": {},
     "output_type": "execute_result"
    }
   ],
   "source": [
    "df_attack_2.columns"
   ]
  },
  {
   "cell_type": "code",
   "execution_count": 29,
   "metadata": {},
   "outputs": [],
   "source": [
    "cleaned_normal = corriger_titre(df_normal)\n",
    "cleaned_attack_1 = corriger_titre(df_attack_1)\n",
    "cleaned_attack_2 = corriger_titre(df_attack_2)\n",
    "cleaned_attack_3 = corriger_titre(df_attack_3)\n",
    "cleaned_attack_4 = corriger_titre(df_attack_4)"
   ]
  },
  {
   "cell_type": "code",
   "execution_count": 30,
   "metadata": {},
   "outputs": [
    {
     "data": {
      "text/plain": [
       "Index(['Time', 'Tank_1', 'Tank_2', 'Tank_3', 'Tank_4', 'Tank_5', 'Tank_6',\n",
       "       'Tank_7', 'Tank_8', 'Pump_1', 'Pump_2', 'Pump_3', 'Pump_4', 'Pump_5',\n",
       "       'Pump_6', 'Flow_sensor_1', 'Flow_sensor_2', 'Flow_sensor_3',\n",
       "       'Flow_sensor_4', 'Valv_1', 'Valv_2', 'Valv_3', 'Valv_4', 'Valv_5',\n",
       "       'Valv_6', 'Valv_7', 'Valv_8', 'Valv_9', 'Valv_10', 'Valv_11', 'Valv_12',\n",
       "       'Valv_13', 'Valv_14', 'Valv_15', 'Valv_16', 'Valv_17', 'Valv_18',\n",
       "       'Valv_19', 'Valv_20', 'Valv_21', 'Valv_22', 'Label_n', 'Label'],\n",
       "      dtype='object')"
      ]
     },
     "execution_count": 30,
     "metadata": {},
     "output_type": "execute_result"
    }
   ],
   "source": [
    "cleaned_attack_2.columns"
   ]
  },
  {
   "cell_type": "markdown",
   "metadata": {},
   "source": [
    "Cela a fonctionné. "
   ]
  },
  {
   "cell_type": "markdown",
   "metadata": {},
   "source": [
    "Vérifions que tous les dataset ont désormais les mêmes colonnes : "
   ]
  },
  {
   "cell_type": "code",
   "execution_count": 31,
   "metadata": {},
   "outputs": [
    {
     "name": "stdout",
     "output_type": "stream",
     "text": [
      "True\n"
     ]
    }
   ],
   "source": [
    "print(list(cleaned_normal.columns)==list(cleaned_attack_2.columns) and\n",
    "      list(cleaned_attack_1.columns)==list(cleaned_attack_2.columns) and \n",
    "      list(cleaned_attack_1.columns)==list(cleaned_attack_3.columns) and \n",
    "      list(cleaned_attack_1.columns)==list(cleaned_attack_3.columns))"
   ]
  },
  {
   "cell_type": "markdown",
   "metadata": {},
   "source": [
    "### 2 - Supprimer colonnes temporelles"
   ]
  },
  {
   "cell_type": "markdown",
   "metadata": {},
   "source": [
    "Toutes les données sont soit numériques soit booléennes (sans compter le Label qu'on doit garder) à part Time, on va donc la supprimer"
   ]
  },
  {
   "cell_type": "code",
   "execution_count": 32,
   "metadata": {},
   "outputs": [],
   "source": [
    "def clean_category(df):\n",
    "    new_df = df.copy()\n",
    "    df_ret = new_df.drop(\"Time\",axis=1)\n",
    "    df_ret = df_ret.drop(\"Label_n\",axis=1)\n",
    "    return df_ret"
   ]
  },
  {
   "cell_type": "code",
   "execution_count": 33,
   "metadata": {},
   "outputs": [],
   "source": [
    "cleaned_normal = clean_category(cleaned_normal)\n",
    "cleaned_attack_1 = clean_category(cleaned_attack_1)\n",
    "cleaned_attack_2 = clean_category(cleaned_attack_2)\n",
    "cleaned_attack_3 = clean_category(cleaned_attack_3)\n",
    "cleaned_attack_4 = clean_category(cleaned_attack_4)"
   ]
  },
  {
   "cell_type": "markdown",
   "metadata": {},
   "source": [
    "Vérifions :"
   ]
  },
  {
   "cell_type": "code",
   "execution_count": 34,
   "metadata": {},
   "outputs": [
    {
     "data": {
      "text/html": [
       "<div>\n",
       "<style scoped>\n",
       "    .dataframe tbody tr th:only-of-type {\n",
       "        vertical-align: middle;\n",
       "    }\n",
       "\n",
       "    .dataframe tbody tr th {\n",
       "        vertical-align: top;\n",
       "    }\n",
       "\n",
       "    .dataframe thead th {\n",
       "        text-align: right;\n",
       "    }\n",
       "</style>\n",
       "<table border=\"1\" class=\"dataframe\">\n",
       "  <thead>\n",
       "    <tr style=\"text-align: right;\">\n",
       "      <th></th>\n",
       "      <th>Tank_1</th>\n",
       "      <th>Tank_2</th>\n",
       "      <th>Tank_3</th>\n",
       "      <th>Tank_4</th>\n",
       "      <th>Tank_5</th>\n",
       "      <th>Tank_6</th>\n",
       "      <th>Tank_7</th>\n",
       "      <th>Tank_8</th>\n",
       "      <th>Pump_1</th>\n",
       "      <th>Pump_2</th>\n",
       "      <th>...</th>\n",
       "      <th>Valv_14</th>\n",
       "      <th>Valv_15</th>\n",
       "      <th>Valv_16</th>\n",
       "      <th>Valv_17</th>\n",
       "      <th>Valv_18</th>\n",
       "      <th>Valv_19</th>\n",
       "      <th>Valv_20</th>\n",
       "      <th>Valv_21</th>\n",
       "      <th>Valv_22</th>\n",
       "      <th>Label</th>\n",
       "    </tr>\n",
       "  </thead>\n",
       "  <tbody>\n",
       "    <tr>\n",
       "      <th>0</th>\n",
       "      <td>0</td>\n",
       "      <td>0</td>\n",
       "      <td>0</td>\n",
       "      <td>0</td>\n",
       "      <td>0</td>\n",
       "      <td>0</td>\n",
       "      <td>0</td>\n",
       "      <td>0</td>\n",
       "      <td>False</td>\n",
       "      <td>False</td>\n",
       "      <td>...</td>\n",
       "      <td>False</td>\n",
       "      <td>False</td>\n",
       "      <td>False</td>\n",
       "      <td>False</td>\n",
       "      <td>False</td>\n",
       "      <td>False</td>\n",
       "      <td>False</td>\n",
       "      <td>False</td>\n",
       "      <td>False</td>\n",
       "      <td>normal</td>\n",
       "    </tr>\n",
       "    <tr>\n",
       "      <th>1</th>\n",
       "      <td>0</td>\n",
       "      <td>0</td>\n",
       "      <td>0</td>\n",
       "      <td>0</td>\n",
       "      <td>0</td>\n",
       "      <td>0</td>\n",
       "      <td>0</td>\n",
       "      <td>0</td>\n",
       "      <td>False</td>\n",
       "      <td>False</td>\n",
       "      <td>...</td>\n",
       "      <td>False</td>\n",
       "      <td>False</td>\n",
       "      <td>False</td>\n",
       "      <td>False</td>\n",
       "      <td>False</td>\n",
       "      <td>False</td>\n",
       "      <td>False</td>\n",
       "      <td>False</td>\n",
       "      <td>False</td>\n",
       "      <td>normal</td>\n",
       "    </tr>\n",
       "    <tr>\n",
       "      <th>2</th>\n",
       "      <td>0</td>\n",
       "      <td>0</td>\n",
       "      <td>0</td>\n",
       "      <td>0</td>\n",
       "      <td>0</td>\n",
       "      <td>0</td>\n",
       "      <td>0</td>\n",
       "      <td>0</td>\n",
       "      <td>False</td>\n",
       "      <td>False</td>\n",
       "      <td>...</td>\n",
       "      <td>False</td>\n",
       "      <td>False</td>\n",
       "      <td>False</td>\n",
       "      <td>False</td>\n",
       "      <td>False</td>\n",
       "      <td>False</td>\n",
       "      <td>False</td>\n",
       "      <td>False</td>\n",
       "      <td>False</td>\n",
       "      <td>normal</td>\n",
       "    </tr>\n",
       "    <tr>\n",
       "      <th>3</th>\n",
       "      <td>0</td>\n",
       "      <td>0</td>\n",
       "      <td>0</td>\n",
       "      <td>0</td>\n",
       "      <td>0</td>\n",
       "      <td>0</td>\n",
       "      <td>0</td>\n",
       "      <td>0</td>\n",
       "      <td>False</td>\n",
       "      <td>False</td>\n",
       "      <td>...</td>\n",
       "      <td>False</td>\n",
       "      <td>False</td>\n",
       "      <td>False</td>\n",
       "      <td>False</td>\n",
       "      <td>False</td>\n",
       "      <td>False</td>\n",
       "      <td>False</td>\n",
       "      <td>False</td>\n",
       "      <td>False</td>\n",
       "      <td>normal</td>\n",
       "    </tr>\n",
       "    <tr>\n",
       "      <th>4</th>\n",
       "      <td>0</td>\n",
       "      <td>0</td>\n",
       "      <td>0</td>\n",
       "      <td>0</td>\n",
       "      <td>0</td>\n",
       "      <td>0</td>\n",
       "      <td>0</td>\n",
       "      <td>0</td>\n",
       "      <td>False</td>\n",
       "      <td>False</td>\n",
       "      <td>...</td>\n",
       "      <td>False</td>\n",
       "      <td>False</td>\n",
       "      <td>False</td>\n",
       "      <td>False</td>\n",
       "      <td>False</td>\n",
       "      <td>False</td>\n",
       "      <td>False</td>\n",
       "      <td>False</td>\n",
       "      <td>False</td>\n",
       "      <td>normal</td>\n",
       "    </tr>\n",
       "  </tbody>\n",
       "</table>\n",
       "<p>5 rows × 41 columns</p>\n",
       "</div>"
      ],
      "text/plain": [
       "   Tank_1  Tank_2  Tank_3  Tank_4  Tank_5  Tank_6  Tank_7  Tank_8  Pump_1  \\\n",
       "0       0       0       0       0       0       0       0       0   False   \n",
       "1       0       0       0       0       0       0       0       0   False   \n",
       "2       0       0       0       0       0       0       0       0   False   \n",
       "3       0       0       0       0       0       0       0       0   False   \n",
       "4       0       0       0       0       0       0       0       0   False   \n",
       "\n",
       "   Pump_2  ...  Valv_14  Valv_15  Valv_16  Valv_17  Valv_18  Valv_19  Valv_20  \\\n",
       "0   False  ...    False    False    False    False    False    False    False   \n",
       "1   False  ...    False    False    False    False    False    False    False   \n",
       "2   False  ...    False    False    False    False    False    False    False   \n",
       "3   False  ...    False    False    False    False    False    False    False   \n",
       "4   False  ...    False    False    False    False    False    False    False   \n",
       "\n",
       "   Valv_21  Valv_22   Label  \n",
       "0    False    False  normal  \n",
       "1    False    False  normal  \n",
       "2    False    False  normal  \n",
       "3    False    False  normal  \n",
       "4    False    False  normal  \n",
       "\n",
       "[5 rows x 41 columns]"
      ]
     },
     "execution_count": 34,
     "metadata": {},
     "output_type": "execute_result"
    }
   ],
   "source": [
    "cleaned_normal.head()"
   ]
  },
  {
   "cell_type": "code",
   "execution_count": 35,
   "metadata": {},
   "outputs": [
    {
     "data": {
      "text/html": [
       "<div>\n",
       "<style scoped>\n",
       "    .dataframe tbody tr th:only-of-type {\n",
       "        vertical-align: middle;\n",
       "    }\n",
       "\n",
       "    .dataframe tbody tr th {\n",
       "        vertical-align: top;\n",
       "    }\n",
       "\n",
       "    .dataframe thead th {\n",
       "        text-align: right;\n",
       "    }\n",
       "</style>\n",
       "<table border=\"1\" class=\"dataframe\">\n",
       "  <thead>\n",
       "    <tr style=\"text-align: right;\">\n",
       "      <th></th>\n",
       "      <th>Tank_1</th>\n",
       "      <th>Tank_2</th>\n",
       "      <th>Tank_3</th>\n",
       "      <th>Tank_4</th>\n",
       "      <th>Tank_5</th>\n",
       "      <th>Tank_6</th>\n",
       "      <th>Tank_7</th>\n",
       "      <th>Tank_8</th>\n",
       "      <th>Pump_1</th>\n",
       "      <th>Pump_2</th>\n",
       "      <th>...</th>\n",
       "      <th>Valv_14</th>\n",
       "      <th>Valv_15</th>\n",
       "      <th>Valv_16</th>\n",
       "      <th>Valv_17</th>\n",
       "      <th>Valv_18</th>\n",
       "      <th>Valv_19</th>\n",
       "      <th>Valv_20</th>\n",
       "      <th>Valv_21</th>\n",
       "      <th>Valv_22</th>\n",
       "      <th>Label</th>\n",
       "    </tr>\n",
       "  </thead>\n",
       "  <tbody>\n",
       "    <tr>\n",
       "      <th>0</th>\n",
       "      <td>0</td>\n",
       "      <td>0</td>\n",
       "      <td>0</td>\n",
       "      <td>0</td>\n",
       "      <td>0</td>\n",
       "      <td>0</td>\n",
       "      <td>0</td>\n",
       "      <td>0</td>\n",
       "      <td>False</td>\n",
       "      <td>False</td>\n",
       "      <td>...</td>\n",
       "      <td>False</td>\n",
       "      <td>False</td>\n",
       "      <td>False</td>\n",
       "      <td>False</td>\n",
       "      <td>False</td>\n",
       "      <td>False</td>\n",
       "      <td>False</td>\n",
       "      <td>False</td>\n",
       "      <td>False</td>\n",
       "      <td>normal</td>\n",
       "    </tr>\n",
       "    <tr>\n",
       "      <th>1</th>\n",
       "      <td>0</td>\n",
       "      <td>0</td>\n",
       "      <td>0</td>\n",
       "      <td>0</td>\n",
       "      <td>0</td>\n",
       "      <td>0</td>\n",
       "      <td>0</td>\n",
       "      <td>0</td>\n",
       "      <td>False</td>\n",
       "      <td>False</td>\n",
       "      <td>...</td>\n",
       "      <td>False</td>\n",
       "      <td>False</td>\n",
       "      <td>False</td>\n",
       "      <td>False</td>\n",
       "      <td>False</td>\n",
       "      <td>False</td>\n",
       "      <td>False</td>\n",
       "      <td>False</td>\n",
       "      <td>False</td>\n",
       "      <td>normal</td>\n",
       "    </tr>\n",
       "    <tr>\n",
       "      <th>2</th>\n",
       "      <td>0</td>\n",
       "      <td>0</td>\n",
       "      <td>0</td>\n",
       "      <td>0</td>\n",
       "      <td>0</td>\n",
       "      <td>0</td>\n",
       "      <td>0</td>\n",
       "      <td>0</td>\n",
       "      <td>False</td>\n",
       "      <td>False</td>\n",
       "      <td>...</td>\n",
       "      <td>False</td>\n",
       "      <td>False</td>\n",
       "      <td>False</td>\n",
       "      <td>False</td>\n",
       "      <td>False</td>\n",
       "      <td>False</td>\n",
       "      <td>False</td>\n",
       "      <td>False</td>\n",
       "      <td>False</td>\n",
       "      <td>normal</td>\n",
       "    </tr>\n",
       "    <tr>\n",
       "      <th>3</th>\n",
       "      <td>0</td>\n",
       "      <td>0</td>\n",
       "      <td>0</td>\n",
       "      <td>0</td>\n",
       "      <td>0</td>\n",
       "      <td>0</td>\n",
       "      <td>0</td>\n",
       "      <td>0</td>\n",
       "      <td>False</td>\n",
       "      <td>False</td>\n",
       "      <td>...</td>\n",
       "      <td>False</td>\n",
       "      <td>False</td>\n",
       "      <td>False</td>\n",
       "      <td>False</td>\n",
       "      <td>False</td>\n",
       "      <td>False</td>\n",
       "      <td>False</td>\n",
       "      <td>False</td>\n",
       "      <td>False</td>\n",
       "      <td>normal</td>\n",
       "    </tr>\n",
       "    <tr>\n",
       "      <th>4</th>\n",
       "      <td>0</td>\n",
       "      <td>0</td>\n",
       "      <td>0</td>\n",
       "      <td>0</td>\n",
       "      <td>0</td>\n",
       "      <td>0</td>\n",
       "      <td>0</td>\n",
       "      <td>0</td>\n",
       "      <td>True</td>\n",
       "      <td>True</td>\n",
       "      <td>...</td>\n",
       "      <td>False</td>\n",
       "      <td>False</td>\n",
       "      <td>False</td>\n",
       "      <td>False</td>\n",
       "      <td>False</td>\n",
       "      <td>False</td>\n",
       "      <td>False</td>\n",
       "      <td>False</td>\n",
       "      <td>False</td>\n",
       "      <td>normal</td>\n",
       "    </tr>\n",
       "  </tbody>\n",
       "</table>\n",
       "<p>5 rows × 41 columns</p>\n",
       "</div>"
      ],
      "text/plain": [
       "   Tank_1  Tank_2  Tank_3  Tank_4  Tank_5  Tank_6  Tank_7  Tank_8  Pump_1  \\\n",
       "0       0       0       0       0       0       0       0       0   False   \n",
       "1       0       0       0       0       0       0       0       0   False   \n",
       "2       0       0       0       0       0       0       0       0   False   \n",
       "3       0       0       0       0       0       0       0       0   False   \n",
       "4       0       0       0       0       0       0       0       0    True   \n",
       "\n",
       "   Pump_2  ...  Valv_14  Valv_15  Valv_16  Valv_17  Valv_18  Valv_19  Valv_20  \\\n",
       "0   False  ...    False    False    False    False    False    False    False   \n",
       "1   False  ...    False    False    False    False    False    False    False   \n",
       "2   False  ...    False    False    False    False    False    False    False   \n",
       "3   False  ...    False    False    False    False    False    False    False   \n",
       "4    True  ...    False    False    False    False    False    False    False   \n",
       "\n",
       "   Valv_21  Valv_22   Label  \n",
       "0    False    False  normal  \n",
       "1    False    False  normal  \n",
       "2    False    False  normal  \n",
       "3    False    False  normal  \n",
       "4    False    False  normal  \n",
       "\n",
       "[5 rows x 41 columns]"
      ]
     },
     "execution_count": 35,
     "metadata": {},
     "output_type": "execute_result"
    }
   ],
   "source": [
    "cleaned_attack_1.head()"
   ]
  },
  {
   "cell_type": "markdown",
   "metadata": {},
   "source": [
    "### 3 - Corriger les fautes d'orthographes dans les variables"
   ]
  },
  {
   "cell_type": "markdown",
   "metadata": {},
   "source": [
    "Nous avons vu que le label \"normal\" pouvait être mal orthographié en \"nomal\""
   ]
  },
  {
   "cell_type": "code",
   "execution_count": 36,
   "metadata": {},
   "outputs": [
    {
     "name": "stdout",
     "output_type": "stream",
     "text": [
      "labels attaque 2 : ['normal', 'scan', 'DoS', 'physical fault', 'nomal', 'MITM']\n"
     ]
    }
   ],
   "source": [
    "print(\"labels attaque 2 :\", list(pd.unique(cleaned_attack_2[\"Label\"])))"
   ]
  },
  {
   "cell_type": "code",
   "execution_count": 37,
   "metadata": {},
   "outputs": [],
   "source": [
    "cleaned_normal['Label'] = cleaned_normal['Label'].replace('nomal', 'normal')\n",
    "cleaned_attack_1[\"Label\"] = cleaned_attack_1['Label'].replace('nomal', 'normal')\n",
    "cleaned_attack_2[\"Label\"] = cleaned_attack_2['Label'].replace('nomal', 'normal')\n",
    "cleaned_attack_3[\"Label\"] = cleaned_attack_3['Label'].replace('nomal', 'normal')\n",
    "cleaned_attack_4[\"Label\"] = cleaned_attack_4['Label'].replace('nomal', 'normal')"
   ]
  },
  {
   "cell_type": "markdown",
   "metadata": {},
   "source": [
    "Vérifions qu'il n'y a plus de telle faute :"
   ]
  },
  {
   "cell_type": "code",
   "execution_count": 38,
   "metadata": {},
   "outputs": [
    {
     "name": "stdout",
     "output_type": "stream",
     "text": [
      "labels normal : ['normal']\n",
      "labels attaque 1 : ['normal', 'MITM', 'physical fault']\n",
      "labels attaque 2 : ['normal', 'scan', 'DoS', 'physical fault', 'MITM']\n",
      "labels attaque 3 : ['normal', 'physical fault', 'DoS', 'MITM']\n",
      "labels attaque 4 : ['normal', 'scan', 'DoS', 'physical fault', 'MITM']\n"
     ]
    }
   ],
   "source": [
    "print(\"labels normal :\", list(pd.unique(cleaned_normal[\"Label\"])))\n",
    "print(\"labels attaque 1 :\", list(pd.unique(cleaned_attack_1[\"Label\"])))\n",
    "print(\"labels attaque 2 :\", list(pd.unique(cleaned_attack_2[\"Label\"])))\n",
    "print(\"labels attaque 3 :\", list(pd.unique(cleaned_attack_3[\"Label\"])))\n",
    "print(\"labels attaque 4 :\", list(pd.unique(cleaned_attack_4[\"Label\"])))"
   ]
  },
  {
   "cell_type": "markdown",
   "metadata": {},
   "source": [
    "## IV - Enregistrer données nettoyées"
   ]
  },
  {
   "cell_type": "code",
   "execution_count": 39,
   "metadata": {},
   "outputs": [],
   "source": [
    "cleaned_normal.to_csv(\"preparation/physical_normal.csv\")\n",
    "cleaned_attack_1.to_csv(\"preparation/physical_1.csv\")\n",
    "cleaned_attack_2.to_csv(\"preparation/physical_2.csv\")\n",
    "cleaned_attack_3.to_csv(\"preparation/physical_3.csv\")\n",
    "cleaned_attack_4.to_csv(\"preparation/physical_4.csv\")"
   ]
  },
  {
   "cell_type": "code",
   "execution_count": 20,
   "metadata": {},
   "outputs": [
    {
     "name": "stderr",
     "output_type": "stream",
     "text": [
      "/tmp/ipykernel_11662/3650669045.py:3: FutureWarning:\n",
      "\n",
      "The default value of numeric_only in DataFrame.corr is deprecated. In a future version, it will default to False. Select only valid columns or specify the value of numeric_only to silence this warning.\n",
      "\n"
     ]
    },
    {
     "data": {
      "application/vnd.plotly.v1+json": {
       "config": {
        "plotlyServerURL": "https://plot.ly"
       },
       "data": [
        {
         "type": "heatmap",
         "x": [
          "Tank_1",
          "Tank_2",
          "Tank_3",
          "Tank_4",
          "Tank_5",
          "Tank_6",
          "Tank_7",
          "Tank_8",
          "Pump_1",
          "Pump_2",
          "Pump_3",
          "Pump_4",
          "Pump_5",
          "Pump_6",
          "Flow_sensor_1",
          "Flow_sensor_2",
          "Flow_sensor_3",
          "Flow_sensor_4",
          "Valv_1",
          "Valv_2",
          "Valv_3",
          "Valv_4",
          "Valv_5",
          "Valv_6",
          "Valv_7",
          "Valv_8",
          "Valv_9",
          "Valv_10",
          "Valv_11",
          "Valv_12",
          "Valv_13",
          "Valv_14",
          "Valv_15",
          "Valv_16",
          "Valv_17",
          "Valv_18",
          "Valv_19",
          "Valv_20",
          "Valv_21",
          "Valv_22",
          "Label_n"
         ],
         "y": [
          "Tank_1",
          "Tank_2",
          "Tank_3",
          "Tank_4",
          "Tank_5",
          "Tank_6",
          "Tank_7",
          "Tank_8",
          "Pump_1",
          "Pump_2",
          "Pump_3",
          "Pump_4",
          "Pump_5",
          "Pump_6",
          "Flow_sensor_1",
          "Flow_sensor_2",
          "Flow_sensor_3",
          "Flow_sensor_4",
          "Valv_1",
          "Valv_2",
          "Valv_3",
          "Valv_4",
          "Valv_5",
          "Valv_6",
          "Valv_7",
          "Valv_8",
          "Valv_9",
          "Valv_10",
          "Valv_11",
          "Valv_12",
          "Valv_13",
          "Valv_14",
          "Valv_15",
          "Valv_16",
          "Valv_17",
          "Valv_18",
          "Valv_19",
          "Valv_20",
          "Valv_21",
          "Valv_22",
          "Label_n"
         ],
         "z": [
          [
           1,
           0.3505465869945372,
           -0.7698574057714732,
           -0.5719967488145907,
           -0.07369753606643169,
           -0.8186940494994308,
           0.34540575470697393,
           0.4997129583627452,
           0.645938754894908,
           0.1866669977799443,
           null,
           0.688967555731861,
           -0.28329518647337293,
           0.5012997383052764,
           -0.2744100609486558,
           0.5020316662747593,
           null,
           0.25622093240008686,
           null,
           null,
           null,
           null,
           null,
           null,
           null,
           null,
           null,
           -0.6415163603664911,
           -0.6425590930877241,
           -0.6425590930877241,
           -0.6420466735096034,
           -0.6420466735096034,
           -0.6420466735096034,
           null,
           -0.4278240326949594,
           -0.1396017894314588,
           null,
           -0.7128490977655529,
           null,
           0.09885475223183243,
           0.09045091718602914
          ],
          [
           0.3505465869945372,
           1,
           -0.38172234969778585,
           0.13655093933634246,
           0.7031639574237021,
           -0.5777061160949976,
           -0.4392840660488034,
           0.5139535286195414,
           0.3336813388932139,
           -0.4459334874135232,
           null,
           0.4059070229487175,
           -0.7310781838691129,
           0.11701099240023066,
           -0.7311780499866275,
           0.1194626257119701,
           null,
           0.5211981836181295,
           null,
           null,
           null,
           null,
           null,
           null,
           null,
           null,
           null,
           -0.41474578955261243,
           -0.41657730951578603,
           -0.41657730951578603,
           0.03687175242551608,
           0.03687175242551608,
           0.03687175242551608,
           null,
           0.32573415711276155,
           0.4614958440915062,
           null,
           -0.028314175893021952,
           null,
           0.43795106390020305,
           0.08091517354676173
          ],
          [
           -0.7698574057714732,
           -0.38172234969778585,
           1,
           0.5288185910475576,
           0.02878856328993888,
           0.8621859367153929,
           -0.31522350213427747,
           -0.517784012714949,
           -0.7915607883163569,
           -0.2361967503274796,
           null,
           -0.528745949045355,
           0.31480796008586315,
           -0.583473342008279,
           0.30797185251812453,
           -0.583921334127616,
           null,
           -0.21867512910403597,
           null,
           null,
           null,
           null,
           null,
           null,
           null,
           null,
           null,
           0.8343593134145283,
           0.8344162287501915,
           0.8344162287501915,
           0.6001215183770697,
           0.6001215183770697,
           0.6001215183770697,
           null,
           0.572634982141465,
           0.056081969496292995,
           null,
           0.7708734659394894,
           null,
           -0.01782886746131427,
           -0.2017032397657665
          ],
          [
           -0.5719967488145907,
           0.13655093933634246,
           0.5288185910475576,
           1,
           0.42080413461257715,
           0.3905347648375151,
           -0.45976271485404246,
           -0.09654892470594388,
           -0.3893817164093511,
           -0.42090344334186297,
           null,
           -0.4140408318558753,
           -0.20557926288052997,
           -0.22538065181817127,
           -0.2089228818214647,
           -0.22548107760332345,
           null,
           0.06618572987597375,
           null,
           null,
           null,
           null,
           null,
           null,
           null,
           null,
           null,
           0.4038048390643563,
           0.4048162403360665,
           0.4048162403360665,
           0.7850953391769703,
           0.7850953391769703,
           0.7850953391769703,
           null,
           0.6084231031862133,
           0.4584983966178325,
           null,
           0.649386602133976,
           null,
           0.1900889781026806,
           0.01100799024978505
          ],
          [
           -0.07369753606643169,
           0.7031639574237021,
           0.02878856328993888,
           0.42080413461257715,
           1,
           -0.25944908528945987,
           -0.5171780907072124,
           0.17877518229785475,
           -0.014918715889294061,
           -0.7080164969259355,
           null,
           0.16763904052200124,
           -0.6344939198093916,
           -0.053664090938428825,
           -0.6367269355136556,
           -0.05333349921489138,
           null,
           0.4004193945291165,
           null,
           null,
           null,
           null,
           null,
           null,
           null,
           null,
           null,
           -0.021741308073956845,
           -0.022595790192827942,
           -0.022595790192827942,
           0.3488269682039467,
           0.3488269682039467,
           0.3488269682039467,
           null,
           0.5090007117989299,
           0.6472294584123043,
           null,
           0.33541951701047307,
           null,
           0.45315302511857697,
           0.18558124795021458
          ],
          [
           -0.8186940494994308,
           -0.5777061160949976,
           0.8621859367153929,
           0.3905347648375151,
           -0.25944908528945987,
           1,
           -0.062463928869394225,
           -0.46785610218611173,
           -0.6869226269718671,
           -0.02088877341595736,
           null,
           -0.5801630047718622,
           0.5632391720628358,
           -0.43513618592518016,
           0.5555655400114341,
           -0.4358343551637998,
           null,
           -0.31066911850924595,
           null,
           null,
           null,
           null,
           null,
           null,
           null,
           null,
           null,
           0.7423483077917392,
           0.7433505318635417,
           0.7433505318635417,
           0.4999067686660568,
           0.4999067686660568,
           0.4999067686660568,
           null,
           0.2908583067936292,
           -0.1591940693571362,
           null,
           0.6277617101773352,
           null,
           -0.20156415374592293,
           -0.1291128651604223
          ],
          [
           0.34540575470697393,
           -0.4392840660488034,
           -0.31522350213427747,
           -0.45976271485404246,
           -0.5171780907072124,
           -0.062463928869394225,
           1,
           0.061473321499033014,
           0.19026098673554376,
           0.5062331276444266,
           null,
           0.09667983015534855,
           0.4773581410135839,
           0.4308513076180871,
           0.48548851032838025,
           0.4269896165694567,
           null,
           -0.26483353713577834,
           null,
           null,
           null,
           null,
           null,
           null,
           null,
           null,
           null,
           -0.13477902410281026,
           -0.13366312547710807,
           -0.13366312547710807,
           -0.39686466891826155,
           -0.39686466891826155,
           -0.39686466891826155,
           null,
           -0.5690398533293526,
           -0.32535695725213115,
           null,
           -0.42432305648948176,
           null,
           -0.3265694225750178,
           0.19815798719016578
          ],
          [
           0.4997129583627452,
           0.5139535286195414,
           -0.517784012714949,
           -0.09654892470594388,
           0.17877518229785475,
           -0.46785610218611173,
           0.061473321499033014,
           1,
           0.4738080300859403,
           -0.12198694060222227,
           null,
           0.45438870067784665,
           -0.3189608821754284,
           0.6505792808367301,
           -0.31563390786413364,
           0.6532598447915956,
           null,
           0.6981948415771092,
           null,
           null,
           null,
           null,
           null,
           null,
           null,
           null,
           null,
           -0.4896246500446232,
           -0.4884354928587881,
           -0.4884354928587881,
           -0.21097806021260215,
           -0.21097806021260215,
           -0.21097806021260215,
           null,
           -0.11664666501941433,
           0.0478248336131022,
           null,
           -0.2860511007490906,
           null,
           0.46836537440070963,
           0.014436123980736827
          ],
          [
           0.645938754894908,
           0.3336813388932139,
           -0.7915607883163569,
           -0.3893817164093511,
           -0.014918715889294061,
           -0.6869226269718671,
           0.19026098673554376,
           0.4738080300859403,
           1,
           0.09828811279414153,
           null,
           0.4972661909208497,
           -0.34209869912379176,
           0.4916595545597659,
           -0.3366318060212099,
           0.4941749505019564,
           null,
           0.18223161550331896,
           null,
           null,
           null,
           null,
           null,
           null,
           null,
           null,
           null,
           -0.9165165786140238,
           -0.9153854005362513,
           -0.9153854005362513,
           -0.4566589054146409,
           -0.4566589054146409,
           -0.4566589054146409,
           null,
           -0.5683665485137965,
           -0.13398571873870277,
           null,
           -0.6070474878773918,
           null,
           0.017259611639692436,
           0.24418127745791113
          ],
          [
           0.1866669977799443,
           -0.4459334874135232,
           -0.2361967503274796,
           -0.42090344334186297,
           -0.7080164969259355,
           -0.02088877341595736,
           0.5062331276444266,
           -0.12198694060222227,
           0.09828811279414153,
           1,
           null,
           -0.2992962378884835,
           0.4705649937535231,
           0.19157400018841392,
           0.4735670833863701,
           0.19157400018841364,
           null,
           -0.32698662932293127,
           null,
           null,
           null,
           null,
           null,
           null,
           null,
           null,
           null,
           -0.04992115920890757,
           -0.04921861099539958,
           -0.04921861099539958,
           -0.36827072351539036,
           -0.36827072351539036,
           -0.36827072351539036,
           null,
           -0.436351063935326,
           -0.32121769431410757,
           null,
           -0.5103245883780785,
           null,
           -0.32449617826585536,
           -0.09916412452728969
          ],
          [
           null,
           null,
           null,
           null,
           null,
           null,
           null,
           null,
           null,
           null,
           null,
           null,
           null,
           null,
           null,
           null,
           null,
           null,
           null,
           null,
           null,
           null,
           null,
           null,
           null,
           null,
           null,
           null,
           null,
           null,
           null,
           null,
           null,
           null,
           null,
           null,
           null,
           null,
           null,
           null,
           null
          ],
          [
           0.688967555731861,
           0.4059070229487175,
           -0.528745949045355,
           -0.4140408318558753,
           0.16763904052200124,
           -0.5801630047718622,
           0.09667983015534855,
           0.45438870067784665,
           0.4972661909208497,
           -0.2992962378884835,
           null,
           1,
           -0.37422206463897734,
           0.30918611945508473,
           -0.3702393887601085,
           0.30918611945508506,
           null,
           0.39668549049254814,
           null,
           null,
           null,
           null,
           null,
           null,
           null,
           null,
           null,
           -0.5367299123644744,
           -0.5386572572277741,
           -0.5386572572277741,
           -0.49715333078002977,
           -0.49715333078002977,
           -0.49715333078002977,
           null,
           -0.25493276451680014,
           -0.31855613769048147,
           null,
           -0.5246868226329562,
           null,
           0.21322493435178727,
           0.11573530430258727
          ],
          [
           -0.28329518647337293,
           -0.7310781838691129,
           0.31480796008586315,
           -0.20557926288052997,
           -0.6344939198093916,
           0.5632391720628358,
           0.4773581410135839,
           -0.3189608821754284,
           -0.34209869912379176,
           0.4705649937535231,
           null,
           -0.37422206463897734,
           1,
           -0.05238153330827504,
           0.9935901464119787,
           -0.054890924583359674,
           null,
           -0.3443126504311212,
           null,
           null,
           null,
           null,
           null,
           null,
           null,
           null,
           null,
           0.39281581658865394,
           0.3935759844996478,
           0.3935759844996478,
           -0.04150621314738629,
           -0.04150621314738629,
           -0.04150621314738629,
           null,
           -0.3323243369109383,
           -0.40773510577225885,
           null,
           0.0008529534312072712,
           null,
           -0.34585555855012956,
           -0.09322838841235363
          ],
          [
           0.5012997383052764,
           0.11701099240023066,
           -0.583473342008279,
           -0.22538065181817127,
           -0.053664090938428825,
           -0.43513618592518016,
           0.4308513076180871,
           0.6505792808367301,
           0.4916595545597659,
           0.19157400018841392,
           null,
           0.30918611945508473,
           -0.05238153330827504,
           1,
           -0.04521984479906139,
           0.9877485258272782,
           null,
           0.3270362935949677,
           null,
           null,
           null,
           null,
           null,
           null,
           null,
           null,
           null,
           -0.47287850323279107,
           -0.4717861209531667,
           -0.4717861209531667,
           -0.35149657719043337,
           -0.35149657719043337,
           -0.35149657719043337,
           null,
           -0.4449433355667135,
           -0.033993288716604016,
           null,
           -0.5247601673234934,
           null,
           0.17690183109669097,
           0.12474717934506864
          ],
          [
           -0.2744100609486558,
           -0.7311780499866275,
           0.30797185251812453,
           -0.2089228818214647,
           -0.6367269355136556,
           0.5555655400114341,
           0.48548851032838025,
           -0.31563390786413364,
           -0.3366318060212099,
           0.4735670833863701,
           null,
           -0.3702393887601085,
           0.9935901464119787,
           -0.04521984479906139,
           1,
           -0.0477263003473708,
           null,
           -0.3448483473947472,
           null,
           null,
           null,
           null,
           null,
           null,
           null,
           null,
           null,
           0.3876997888647356,
           0.38846480245613707,
           0.38846480245613707,
           -0.04709553952838531,
           -0.04709553952838531,
           -0.04709553952838531,
           null,
           -0.33738201770638604,
           -0.40930805497916445,
           null,
           -0.005010412037949351,
           null,
           -0.34632887297996445,
           -0.09305398146761676
          ],
          [
           0.5020316662747593,
           0.1194626257119701,
           -0.583921334127616,
           -0.22548107760332345,
           -0.05333349921489138,
           -0.4358343551637998,
           0.4269896165694567,
           0.6532598447915956,
           0.4941749505019564,
           0.19157400018841364,
           null,
           0.30918611945508506,
           -0.054890924583359674,
           0.9877485258272782,
           -0.0477263003473708,
           1,
           null,
           0.32657570374904404,
           null,
           null,
           null,
           null,
           null,
           null,
           null,
           null,
           null,
           -0.475336372065056,
           -0.47424328070490934,
           -0.47424328070490934,
           -0.351496577190432,
           -0.351496577190432,
           -0.351496577190432,
           null,
           -0.4449433355667138,
           -0.036797616623509055,
           null,
           -0.5247601673234923,
           null,
           0.17930187885415028,
           0.12219661959209198
          ],
          [
           null,
           null,
           null,
           null,
           null,
           null,
           null,
           null,
           null,
           null,
           null,
           null,
           null,
           null,
           null,
           null,
           null,
           null,
           null,
           null,
           null,
           null,
           null,
           null,
           null,
           null,
           null,
           null,
           null,
           null,
           null,
           null,
           null,
           null,
           null,
           null,
           null,
           null,
           null,
           null,
           null
          ],
          [
           0.25622093240008686,
           0.5211981836181295,
           -0.21867512910403597,
           0.06618572987597375,
           0.4004193945291165,
           -0.31066911850924595,
           -0.26483353713577834,
           0.6981948415771092,
           0.18223161550331896,
           -0.32698662932293127,
           null,
           0.39668549049254814,
           -0.3443126504311212,
           0.3270362935949677,
           -0.3448483473947472,
           0.32657570374904404,
           null,
           1,
           null,
           null,
           null,
           null,
           null,
           null,
           null,
           null,
           null,
           -0.18722149274366354,
           -0.1862310023797635,
           -0.1862310023797635,
           0.005356866336598091,
           0.005356866336598091,
           0.005356866336598091,
           null,
           0.11159505574998706,
           0.17429175086054674,
           null,
           -0.12268114020649262,
           null,
           0.8594768114059487,
           0.033227858620830115
          ],
          [
           null,
           null,
           null,
           null,
           null,
           null,
           null,
           null,
           null,
           null,
           null,
           null,
           null,
           null,
           null,
           null,
           null,
           null,
           null,
           null,
           null,
           null,
           null,
           null,
           null,
           null,
           null,
           null,
           null,
           null,
           null,
           null,
           null,
           null,
           null,
           null,
           null,
           null,
           null,
           null,
           null
          ],
          [
           null,
           null,
           null,
           null,
           null,
           null,
           null,
           null,
           null,
           null,
           null,
           null,
           null,
           null,
           null,
           null,
           null,
           null,
           null,
           null,
           null,
           null,
           null,
           null,
           null,
           null,
           null,
           null,
           null,
           null,
           null,
           null,
           null,
           null,
           null,
           null,
           null,
           null,
           null,
           null,
           null
          ],
          [
           null,
           null,
           null,
           null,
           null,
           null,
           null,
           null,
           null,
           null,
           null,
           null,
           null,
           null,
           null,
           null,
           null,
           null,
           null,
           null,
           null,
           null,
           null,
           null,
           null,
           null,
           null,
           null,
           null,
           null,
           null,
           null,
           null,
           null,
           null,
           null,
           null,
           null,
           null,
           null,
           null
          ],
          [
           null,
           null,
           null,
           null,
           null,
           null,
           null,
           null,
           null,
           null,
           null,
           null,
           null,
           null,
           null,
           null,
           null,
           null,
           null,
           null,
           null,
           null,
           null,
           null,
           null,
           null,
           null,
           null,
           null,
           null,
           null,
           null,
           null,
           null,
           null,
           null,
           null,
           null,
           null,
           null,
           null
          ],
          [
           null,
           null,
           null,
           null,
           null,
           null,
           null,
           null,
           null,
           null,
           null,
           null,
           null,
           null,
           null,
           null,
           null,
           null,
           null,
           null,
           null,
           null,
           null,
           null,
           null,
           null,
           null,
           null,
           null,
           null,
           null,
           null,
           null,
           null,
           null,
           null,
           null,
           null,
           null,
           null,
           null
          ],
          [
           null,
           null,
           null,
           null,
           null,
           null,
           null,
           null,
           null,
           null,
           null,
           null,
           null,
           null,
           null,
           null,
           null,
           null,
           null,
           null,
           null,
           null,
           null,
           null,
           null,
           null,
           null,
           null,
           null,
           null,
           null,
           null,
           null,
           null,
           null,
           null,
           null,
           null,
           null,
           null,
           null
          ],
          [
           null,
           null,
           null,
           null,
           null,
           null,
           null,
           null,
           null,
           null,
           null,
           null,
           null,
           null,
           null,
           null,
           null,
           null,
           null,
           null,
           null,
           null,
           null,
           null,
           null,
           null,
           null,
           null,
           null,
           null,
           null,
           null,
           null,
           null,
           null,
           null,
           null,
           null,
           null,
           null,
           null
          ],
          [
           null,
           null,
           null,
           null,
           null,
           null,
           null,
           null,
           null,
           null,
           null,
           null,
           null,
           null,
           null,
           null,
           null,
           null,
           null,
           null,
           null,
           null,
           null,
           null,
           null,
           null,
           null,
           null,
           null,
           null,
           null,
           null,
           null,
           null,
           null,
           null,
           null,
           null,
           null,
           null,
           null
          ],
          [
           null,
           null,
           null,
           null,
           null,
           null,
           null,
           null,
           null,
           null,
           null,
           null,
           null,
           null,
           null,
           null,
           null,
           null,
           null,
           null,
           null,
           null,
           null,
           null,
           null,
           null,
           null,
           null,
           null,
           null,
           null,
           null,
           null,
           null,
           null,
           null,
           null,
           null,
           null,
           null,
           null
          ],
          [
           -0.6415163603664911,
           -0.41474578955261243,
           0.8343593134145283,
           0.4038048390643563,
           -0.021741308073956845,
           0.7423483077917392,
           -0.13477902410281026,
           -0.4896246500446232,
           -0.9165165786140238,
           -0.04992115920890757,
           null,
           -0.5367299123644744,
           0.39281581658865394,
           -0.47287850323279107,
           0.3876997888647356,
           -0.475336372065056,
           null,
           -0.18722149274366354,
           null,
           null,
           null,
           null,
           null,
           null,
           null,
           null,
           null,
           1,
           0.9987683818921919,
           0.9987683818921919,
           0.4768361170039557,
           0.4768361170039557,
           0.4768361170039557,
           null,
           0.49219084649033457,
           0.13080842098715847,
           null,
           0.6414603410623254,
           null,
           -0.011280179090907725,
           -0.20079834174419472
          ],
          [
           -0.6425590930877241,
           -0.41657730951578603,
           0.8344162287501915,
           0.4048162403360665,
           -0.022595790192827942,
           0.7433505318635417,
           -0.13366312547710807,
           -0.4884354928587881,
           -0.9153854005362513,
           -0.04921861099539958,
           null,
           -0.5386572572277741,
           0.3935759844996478,
           -0.4717861209531667,
           0.38846480245613707,
           -0.47424328070490934,
           null,
           -0.1862310023797635,
           null,
           null,
           null,
           null,
           null,
           null,
           null,
           null,
           null,
           0.9987683818921919,
           1,
           1,
           0.477733719445838,
           0.477733719445838,
           0.477733719445838,
           null,
           0.49055680781282385,
           0.13144056329519774,
           null,
           0.6423902821685271,
           null,
           -0.010187779942613138,
           -0.19990919554584816
          ],
          [
           -0.6425590930877241,
           -0.41657730951578603,
           0.8344162287501915,
           0.4048162403360665,
           -0.022595790192827942,
           0.7433505318635417,
           -0.13366312547710807,
           -0.4884354928587881,
           -0.9153854005362513,
           -0.04921861099539958,
           null,
           -0.5386572572277741,
           0.3935759844996478,
           -0.4717861209531667,
           0.38846480245613707,
           -0.47424328070490934,
           null,
           -0.1862310023797635,
           null,
           null,
           null,
           null,
           null,
           null,
           null,
           null,
           null,
           0.9987683818921919,
           1,
           1,
           0.477733719445838,
           0.477733719445838,
           0.477733719445838,
           null,
           0.49055680781282385,
           0.13144056329519774,
           null,
           0.6423902821685271,
           null,
           -0.010187779942613138,
           -0.19990919554584816
          ],
          [
           -0.6420466735096034,
           0.03687175242551608,
           0.6001215183770697,
           0.7850953391769703,
           0.3488269682039467,
           0.4999067686660568,
           -0.39686466891826155,
           -0.21097806021260215,
           -0.4566589054146409,
           -0.36827072351539036,
           null,
           -0.49715333078002977,
           -0.04150621314738629,
           -0.35149657719043337,
           -0.04709553952838531,
           -0.351496577190432,
           null,
           0.005356866336598091,
           null,
           null,
           null,
           null,
           null,
           null,
           null,
           null,
           null,
           0.4768361170039557,
           0.477733719445838,
           0.477733719445838,
           1,
           1,
           1,
           null,
           0.5457214813093901,
           0.4702501627023096,
           null,
           0.687620691196854,
           null,
           0.14626603745663191,
           0.07907785749678105
          ],
          [
           -0.6420466735096034,
           0.03687175242551608,
           0.6001215183770697,
           0.7850953391769703,
           0.3488269682039467,
           0.4999067686660568,
           -0.39686466891826155,
           -0.21097806021260215,
           -0.4566589054146409,
           -0.36827072351539036,
           null,
           -0.49715333078002977,
           -0.04150621314738629,
           -0.35149657719043337,
           -0.04709553952838531,
           -0.351496577190432,
           null,
           0.005356866336598091,
           null,
           null,
           null,
           null,
           null,
           null,
           null,
           null,
           null,
           0.4768361170039557,
           0.477733719445838,
           0.477733719445838,
           1,
           1,
           1,
           null,
           0.5457214813093901,
           0.4702501627023096,
           null,
           0.687620691196854,
           null,
           0.14626603745663191,
           0.07907785749678105
          ],
          [
           -0.6420466735096034,
           0.03687175242551608,
           0.6001215183770697,
           0.7850953391769703,
           0.3488269682039467,
           0.4999067686660568,
           -0.39686466891826155,
           -0.21097806021260215,
           -0.4566589054146409,
           -0.36827072351539036,
           null,
           -0.49715333078002977,
           -0.04150621314738629,
           -0.35149657719043337,
           -0.04709553952838531,
           -0.351496577190432,
           null,
           0.005356866336598091,
           null,
           null,
           null,
           null,
           null,
           null,
           null,
           null,
           null,
           0.4768361170039557,
           0.477733719445838,
           0.477733719445838,
           1,
           1,
           1,
           null,
           0.5457214813093901,
           0.4702501627023096,
           null,
           0.687620691196854,
           null,
           0.14626603745663191,
           0.07907785749678105
          ],
          [
           null,
           null,
           null,
           null,
           null,
           null,
           null,
           null,
           null,
           null,
           null,
           null,
           null,
           null,
           null,
           null,
           null,
           null,
           null,
           null,
           null,
           null,
           null,
           null,
           null,
           null,
           null,
           null,
           null,
           null,
           null,
           null,
           null,
           null,
           null,
           null,
           null,
           null,
           null,
           null,
           null
          ],
          [
           -0.4278240326949594,
           0.32573415711276155,
           0.572634982141465,
           0.6084231031862133,
           0.5090007117989299,
           0.2908583067936292,
           -0.5690398533293526,
           -0.11664666501941433,
           -0.5683665485137965,
           -0.436351063935326,
           null,
           -0.25493276451680014,
           -0.3323243369109383,
           -0.4449433355667135,
           -0.33738201770638604,
           -0.4449433355667138,
           null,
           0.11159505574998706,
           null,
           null,
           null,
           null,
           null,
           null,
           null,
           null,
           null,
           0.49219084649033457,
           0.49055680781282385,
           0.49055680781282385,
           0.5457214813093901,
           0.5457214813093901,
           0.5457214813093901,
           null,
           1,
           0.4388141594813227,
           null,
           0.6592917581795983,
           null,
           0.2695119833717134,
           -0.16993330133245732
          ],
          [
           -0.1396017894314588,
           0.4614958440915062,
           0.056081969496292995,
           0.4584983966178325,
           0.6472294584123043,
           -0.1591940693571362,
           -0.32535695725213115,
           0.0478248336131022,
           -0.13398571873870277,
           -0.32121769431410757,
           null,
           -0.31855613769048147,
           -0.40773510577225885,
           -0.033993288716604016,
           -0.40930805497916445,
           -0.036797616623509055,
           null,
           0.17429175086054674,
           null,
           null,
           null,
           null,
           null,
           null,
           null,
           null,
           null,
           0.13080842098715847,
           0.13144056329519774,
           0.13144056329519774,
           0.4702501627023096,
           0.4702501627023096,
           0.4702501627023096,
           null,
           0.4388141594813227,
           1,
           null,
           0.4006632989965049,
           null,
           0.30191352456547826,
           0.18121925551610135
          ],
          [
           null,
           null,
           null,
           null,
           null,
           null,
           null,
           null,
           null,
           null,
           null,
           null,
           null,
           null,
           null,
           null,
           null,
           null,
           null,
           null,
           null,
           null,
           null,
           null,
           null,
           null,
           null,
           null,
           null,
           null,
           null,
           null,
           null,
           null,
           null,
           null,
           null,
           null,
           null,
           null,
           null
          ],
          [
           -0.7128490977655529,
           -0.028314175893021952,
           0.7708734659394894,
           0.649386602133976,
           0.33541951701047307,
           0.6277617101773352,
           -0.42432305648948176,
           -0.2860511007490906,
           -0.6070474878773918,
           -0.5103245883780785,
           null,
           -0.5246868226329562,
           0.0008529534312072712,
           -0.5247601673234934,
           -0.005010412037949351,
           -0.5247601673234923,
           null,
           -0.12268114020649262,
           null,
           null,
           null,
           null,
           null,
           null,
           null,
           null,
           null,
           0.6414603410623254,
           0.6423902821685271,
           0.6423902821685271,
           0.687620691196854,
           0.687620691196854,
           0.687620691196854,
           null,
           0.6592917581795983,
           0.4006632989965049,
           null,
           1,
           null,
           0.012507368681372472,
           -0.1296891395885251
          ],
          [
           null,
           null,
           null,
           null,
           null,
           null,
           null,
           null,
           null,
           null,
           null,
           null,
           null,
           null,
           null,
           null,
           null,
           null,
           null,
           null,
           null,
           null,
           null,
           null,
           null,
           null,
           null,
           null,
           null,
           null,
           null,
           null,
           null,
           null,
           null,
           null,
           null,
           null,
           null,
           null,
           null
          ],
          [
           0.09885475223183243,
           0.43795106390020305,
           -0.01782886746131427,
           0.1900889781026806,
           0.45315302511857697,
           -0.20156415374592293,
           -0.3265694225750178,
           0.46836537440070963,
           0.017259611639692436,
           -0.32449617826585536,
           null,
           0.21322493435178727,
           -0.34585555855012956,
           0.17690183109669097,
           -0.34632887297996445,
           0.17930187885415028,
           null,
           0.8594768114059487,
           null,
           null,
           null,
           null,
           null,
           null,
           null,
           null,
           null,
           -0.011280179090907725,
           -0.010187779942613138,
           -0.010187779942613138,
           0.14626603745663191,
           0.14626603745663191,
           0.14626603745663191,
           null,
           0.2695119833717134,
           0.30191352456547826,
           null,
           0.012507368681372472,
           null,
           1,
           0.04618355410105288
          ],
          [
           0.09045091718602914,
           0.08091517354676173,
           -0.2017032397657665,
           0.01100799024978505,
           0.18558124795021458,
           -0.1291128651604223,
           0.19815798719016578,
           0.014436123980736827,
           0.24418127745791113,
           -0.09916412452728969,
           null,
           0.11573530430258727,
           -0.09322838841235363,
           0.12474717934506864,
           -0.09305398146761676,
           0.12219661959209198,
           null,
           0.033227858620830115,
           null,
           null,
           null,
           null,
           null,
           null,
           null,
           null,
           null,
           -0.20079834174419472,
           -0.19990919554584816,
           -0.19990919554584816,
           0.07907785749678105,
           0.07907785749678105,
           0.07907785749678105,
           null,
           -0.16993330133245732,
           0.18121925551610135,
           null,
           -0.1296891395885251,
           null,
           0.04618355410105288,
           1
          ]
         ]
        }
       ],
       "layout": {
        "template": {
         "data": {
          "bar": [
           {
            "error_x": {
             "color": "#2a3f5f"
            },
            "error_y": {
             "color": "#2a3f5f"
            },
            "marker": {
             "line": {
              "color": "#E5ECF6",
              "width": 0.5
             },
             "pattern": {
              "fillmode": "overlay",
              "size": 10,
              "solidity": 0.2
             }
            },
            "type": "bar"
           }
          ],
          "barpolar": [
           {
            "marker": {
             "line": {
              "color": "#E5ECF6",
              "width": 0.5
             },
             "pattern": {
              "fillmode": "overlay",
              "size": 10,
              "solidity": 0.2
             }
            },
            "type": "barpolar"
           }
          ],
          "carpet": [
           {
            "aaxis": {
             "endlinecolor": "#2a3f5f",
             "gridcolor": "white",
             "linecolor": "white",
             "minorgridcolor": "white",
             "startlinecolor": "#2a3f5f"
            },
            "baxis": {
             "endlinecolor": "#2a3f5f",
             "gridcolor": "white",
             "linecolor": "white",
             "minorgridcolor": "white",
             "startlinecolor": "#2a3f5f"
            },
            "type": "carpet"
           }
          ],
          "choropleth": [
           {
            "colorbar": {
             "outlinewidth": 0,
             "ticks": ""
            },
            "type": "choropleth"
           }
          ],
          "contour": [
           {
            "colorbar": {
             "outlinewidth": 0,
             "ticks": ""
            },
            "colorscale": [
             [
              0,
              "#0d0887"
             ],
             [
              0.1111111111111111,
              "#46039f"
             ],
             [
              0.2222222222222222,
              "#7201a8"
             ],
             [
              0.3333333333333333,
              "#9c179e"
             ],
             [
              0.4444444444444444,
              "#bd3786"
             ],
             [
              0.5555555555555556,
              "#d8576b"
             ],
             [
              0.6666666666666666,
              "#ed7953"
             ],
             [
              0.7777777777777778,
              "#fb9f3a"
             ],
             [
              0.8888888888888888,
              "#fdca26"
             ],
             [
              1,
              "#f0f921"
             ]
            ],
            "type": "contour"
           }
          ],
          "contourcarpet": [
           {
            "colorbar": {
             "outlinewidth": 0,
             "ticks": ""
            },
            "type": "contourcarpet"
           }
          ],
          "heatmap": [
           {
            "colorbar": {
             "outlinewidth": 0,
             "ticks": ""
            },
            "colorscale": [
             [
              0,
              "#0d0887"
             ],
             [
              0.1111111111111111,
              "#46039f"
             ],
             [
              0.2222222222222222,
              "#7201a8"
             ],
             [
              0.3333333333333333,
              "#9c179e"
             ],
             [
              0.4444444444444444,
              "#bd3786"
             ],
             [
              0.5555555555555556,
              "#d8576b"
             ],
             [
              0.6666666666666666,
              "#ed7953"
             ],
             [
              0.7777777777777778,
              "#fb9f3a"
             ],
             [
              0.8888888888888888,
              "#fdca26"
             ],
             [
              1,
              "#f0f921"
             ]
            ],
            "type": "heatmap"
           }
          ],
          "heatmapgl": [
           {
            "colorbar": {
             "outlinewidth": 0,
             "ticks": ""
            },
            "colorscale": [
             [
              0,
              "#0d0887"
             ],
             [
              0.1111111111111111,
              "#46039f"
             ],
             [
              0.2222222222222222,
              "#7201a8"
             ],
             [
              0.3333333333333333,
              "#9c179e"
             ],
             [
              0.4444444444444444,
              "#bd3786"
             ],
             [
              0.5555555555555556,
              "#d8576b"
             ],
             [
              0.6666666666666666,
              "#ed7953"
             ],
             [
              0.7777777777777778,
              "#fb9f3a"
             ],
             [
              0.8888888888888888,
              "#fdca26"
             ],
             [
              1,
              "#f0f921"
             ]
            ],
            "type": "heatmapgl"
           }
          ],
          "histogram": [
           {
            "marker": {
             "pattern": {
              "fillmode": "overlay",
              "size": 10,
              "solidity": 0.2
             }
            },
            "type": "histogram"
           }
          ],
          "histogram2d": [
           {
            "colorbar": {
             "outlinewidth": 0,
             "ticks": ""
            },
            "colorscale": [
             [
              0,
              "#0d0887"
             ],
             [
              0.1111111111111111,
              "#46039f"
             ],
             [
              0.2222222222222222,
              "#7201a8"
             ],
             [
              0.3333333333333333,
              "#9c179e"
             ],
             [
              0.4444444444444444,
              "#bd3786"
             ],
             [
              0.5555555555555556,
              "#d8576b"
             ],
             [
              0.6666666666666666,
              "#ed7953"
             ],
             [
              0.7777777777777778,
              "#fb9f3a"
             ],
             [
              0.8888888888888888,
              "#fdca26"
             ],
             [
              1,
              "#f0f921"
             ]
            ],
            "type": "histogram2d"
           }
          ],
          "histogram2dcontour": [
           {
            "colorbar": {
             "outlinewidth": 0,
             "ticks": ""
            },
            "colorscale": [
             [
              0,
              "#0d0887"
             ],
             [
              0.1111111111111111,
              "#46039f"
             ],
             [
              0.2222222222222222,
              "#7201a8"
             ],
             [
              0.3333333333333333,
              "#9c179e"
             ],
             [
              0.4444444444444444,
              "#bd3786"
             ],
             [
              0.5555555555555556,
              "#d8576b"
             ],
             [
              0.6666666666666666,
              "#ed7953"
             ],
             [
              0.7777777777777778,
              "#fb9f3a"
             ],
             [
              0.8888888888888888,
              "#fdca26"
             ],
             [
              1,
              "#f0f921"
             ]
            ],
            "type": "histogram2dcontour"
           }
          ],
          "mesh3d": [
           {
            "colorbar": {
             "outlinewidth": 0,
             "ticks": ""
            },
            "type": "mesh3d"
           }
          ],
          "parcoords": [
           {
            "line": {
             "colorbar": {
              "outlinewidth": 0,
              "ticks": ""
             }
            },
            "type": "parcoords"
           }
          ],
          "pie": [
           {
            "automargin": true,
            "type": "pie"
           }
          ],
          "scatter": [
           {
            "fillpattern": {
             "fillmode": "overlay",
             "size": 10,
             "solidity": 0.2
            },
            "type": "scatter"
           }
          ],
          "scatter3d": [
           {
            "line": {
             "colorbar": {
              "outlinewidth": 0,
              "ticks": ""
             }
            },
            "marker": {
             "colorbar": {
              "outlinewidth": 0,
              "ticks": ""
             }
            },
            "type": "scatter3d"
           }
          ],
          "scattercarpet": [
           {
            "marker": {
             "colorbar": {
              "outlinewidth": 0,
              "ticks": ""
             }
            },
            "type": "scattercarpet"
           }
          ],
          "scattergeo": [
           {
            "marker": {
             "colorbar": {
              "outlinewidth": 0,
              "ticks": ""
             }
            },
            "type": "scattergeo"
           }
          ],
          "scattergl": [
           {
            "marker": {
             "colorbar": {
              "outlinewidth": 0,
              "ticks": ""
             }
            },
            "type": "scattergl"
           }
          ],
          "scattermapbox": [
           {
            "marker": {
             "colorbar": {
              "outlinewidth": 0,
              "ticks": ""
             }
            },
            "type": "scattermapbox"
           }
          ],
          "scatterpolar": [
           {
            "marker": {
             "colorbar": {
              "outlinewidth": 0,
              "ticks": ""
             }
            },
            "type": "scatterpolar"
           }
          ],
          "scatterpolargl": [
           {
            "marker": {
             "colorbar": {
              "outlinewidth": 0,
              "ticks": ""
             }
            },
            "type": "scatterpolargl"
           }
          ],
          "scatterternary": [
           {
            "marker": {
             "colorbar": {
              "outlinewidth": 0,
              "ticks": ""
             }
            },
            "type": "scatterternary"
           }
          ],
          "surface": [
           {
            "colorbar": {
             "outlinewidth": 0,
             "ticks": ""
            },
            "colorscale": [
             [
              0,
              "#0d0887"
             ],
             [
              0.1111111111111111,
              "#46039f"
             ],
             [
              0.2222222222222222,
              "#7201a8"
             ],
             [
              0.3333333333333333,
              "#9c179e"
             ],
             [
              0.4444444444444444,
              "#bd3786"
             ],
             [
              0.5555555555555556,
              "#d8576b"
             ],
             [
              0.6666666666666666,
              "#ed7953"
             ],
             [
              0.7777777777777778,
              "#fb9f3a"
             ],
             [
              0.8888888888888888,
              "#fdca26"
             ],
             [
              1,
              "#f0f921"
             ]
            ],
            "type": "surface"
           }
          ],
          "table": [
           {
            "cells": {
             "fill": {
              "color": "#EBF0F8"
             },
             "line": {
              "color": "white"
             }
            },
            "header": {
             "fill": {
              "color": "#C8D4E3"
             },
             "line": {
              "color": "white"
             }
            },
            "type": "table"
           }
          ]
         },
         "layout": {
          "annotationdefaults": {
           "arrowcolor": "#2a3f5f",
           "arrowhead": 0,
           "arrowwidth": 1
          },
          "autotypenumbers": "strict",
          "coloraxis": {
           "colorbar": {
            "outlinewidth": 0,
            "ticks": ""
           }
          },
          "colorscale": {
           "diverging": [
            [
             0,
             "#8e0152"
            ],
            [
             0.1,
             "#c51b7d"
            ],
            [
             0.2,
             "#de77ae"
            ],
            [
             0.3,
             "#f1b6da"
            ],
            [
             0.4,
             "#fde0ef"
            ],
            [
             0.5,
             "#f7f7f7"
            ],
            [
             0.6,
             "#e6f5d0"
            ],
            [
             0.7,
             "#b8e186"
            ],
            [
             0.8,
             "#7fbc41"
            ],
            [
             0.9,
             "#4d9221"
            ],
            [
             1,
             "#276419"
            ]
           ],
           "sequential": [
            [
             0,
             "#0d0887"
            ],
            [
             0.1111111111111111,
             "#46039f"
            ],
            [
             0.2222222222222222,
             "#7201a8"
            ],
            [
             0.3333333333333333,
             "#9c179e"
            ],
            [
             0.4444444444444444,
             "#bd3786"
            ],
            [
             0.5555555555555556,
             "#d8576b"
            ],
            [
             0.6666666666666666,
             "#ed7953"
            ],
            [
             0.7777777777777778,
             "#fb9f3a"
            ],
            [
             0.8888888888888888,
             "#fdca26"
            ],
            [
             1,
             "#f0f921"
            ]
           ],
           "sequentialminus": [
            [
             0,
             "#0d0887"
            ],
            [
             0.1111111111111111,
             "#46039f"
            ],
            [
             0.2222222222222222,
             "#7201a8"
            ],
            [
             0.3333333333333333,
             "#9c179e"
            ],
            [
             0.4444444444444444,
             "#bd3786"
            ],
            [
             0.5555555555555556,
             "#d8576b"
            ],
            [
             0.6666666666666666,
             "#ed7953"
            ],
            [
             0.7777777777777778,
             "#fb9f3a"
            ],
            [
             0.8888888888888888,
             "#fdca26"
            ],
            [
             1,
             "#f0f921"
            ]
           ]
          },
          "colorway": [
           "#636efa",
           "#EF553B",
           "#00cc96",
           "#ab63fa",
           "#FFA15A",
           "#19d3f3",
           "#FF6692",
           "#B6E880",
           "#FF97FF",
           "#FECB52"
          ],
          "font": {
           "color": "#2a3f5f"
          },
          "geo": {
           "bgcolor": "white",
           "lakecolor": "white",
           "landcolor": "#E5ECF6",
           "showlakes": true,
           "showland": true,
           "subunitcolor": "white"
          },
          "hoverlabel": {
           "align": "left"
          },
          "hovermode": "closest",
          "mapbox": {
           "style": "light"
          },
          "paper_bgcolor": "white",
          "plot_bgcolor": "#E5ECF6",
          "polar": {
           "angularaxis": {
            "gridcolor": "white",
            "linecolor": "white",
            "ticks": ""
           },
           "bgcolor": "#E5ECF6",
           "radialaxis": {
            "gridcolor": "white",
            "linecolor": "white",
            "ticks": ""
           }
          },
          "scene": {
           "xaxis": {
            "backgroundcolor": "#E5ECF6",
            "gridcolor": "white",
            "gridwidth": 2,
            "linecolor": "white",
            "showbackground": true,
            "ticks": "",
            "zerolinecolor": "white"
           },
           "yaxis": {
            "backgroundcolor": "#E5ECF6",
            "gridcolor": "white",
            "gridwidth": 2,
            "linecolor": "white",
            "showbackground": true,
            "ticks": "",
            "zerolinecolor": "white"
           },
           "zaxis": {
            "backgroundcolor": "#E5ECF6",
            "gridcolor": "white",
            "gridwidth": 2,
            "linecolor": "white",
            "showbackground": true,
            "ticks": "",
            "zerolinecolor": "white"
           }
          },
          "shapedefaults": {
           "line": {
            "color": "#2a3f5f"
           }
          },
          "ternary": {
           "aaxis": {
            "gridcolor": "white",
            "linecolor": "white",
            "ticks": ""
           },
           "baxis": {
            "gridcolor": "white",
            "linecolor": "white",
            "ticks": ""
           },
           "bgcolor": "#E5ECF6",
           "caxis": {
            "gridcolor": "white",
            "linecolor": "white",
            "ticks": ""
           }
          },
          "title": {
           "x": 0.05
          },
          "xaxis": {
           "automargin": true,
           "gridcolor": "white",
           "linecolor": "white",
           "ticks": "",
           "title": {
            "standoff": 15
           },
           "zerolinecolor": "white",
           "zerolinewidth": 2
          },
          "yaxis": {
           "automargin": true,
           "gridcolor": "white",
           "linecolor": "white",
           "ticks": "",
           "title": {
            "standoff": 15
           },
           "zerolinecolor": "white",
           "zerolinewidth": 2
          }
         }
        },
        "title": {
         "text": "Correlation Matrix of df_attack_4"
        }
       }
      }
     },
     "metadata": {},
     "output_type": "display_data"
    }
   ],
   "source": []
  }
 ],
 "metadata": {
  "kernelspec": {
   "display_name": "Python 3",
   "language": "python",
   "name": "python3"
  },
  "language_info": {
   "codemirror_mode": {
    "name": "ipython",
    "version": 3
   },
   "file_extension": ".py",
   "mimetype": "text/x-python",
   "name": "python",
   "nbconvert_exporter": "python",
   "pygments_lexer": "ipython3",
   "version": "3.10.12"
  },
  "orig_nbformat": 4
 },
 "nbformat": 4,
 "nbformat_minor": 2
}
