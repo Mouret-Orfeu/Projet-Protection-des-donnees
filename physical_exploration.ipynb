{
 "cells": [
  {
   "cell_type": "markdown",
   "metadata": {},
   "source": [
    "# Physical attacks - Exploration des données"
   ]
  },
  {
   "cell_type": "markdown",
   "metadata": {},
   "source": [
    "## I - Modules"
   ]
  },
  {
   "cell_type": "code",
   "execution_count": 1,
   "metadata": {},
   "outputs": [],
   "source": [
    "import pandas as pd"
   ]
  },
  {
   "cell_type": "markdown",
   "metadata": {},
   "source": [
    "## II - Charger donnée"
   ]
  },
  {
   "cell_type": "markdown",
   "metadata": {},
   "source": [
    "Première remarque : les csv sont dans un mauvais format, il faut les rouvrir avec excel et les réengistrer en tant que\" CSV UTF-8 séparés par des virgules \""
   ]
  },
  {
   "cell_type": "code",
   "execution_count": 17,
   "metadata": {},
   "outputs": [],
   "source": [
    "df_normal = pd.read_csv(\"physical/phy_norm.csv\",sep=\";\")\n",
    "df_attack_1 = pd.read_csv(\"physical/phy_att_1.csv\",sep=\";\")\n",
    "df_attack_2 = pd.read_csv(\"physical/phy_att_2.csv\",sep=\";\")\n",
    "df_attack_3 = pd.read_csv(\"physical/phy_att_3.csv\",sep=\";\")\n",
    "df_attack_4 = pd.read_csv(\"physical/phy_att_4.csv\")"
   ]
  },
  {
   "cell_type": "markdown",
   "metadata": {},
   "source": [
    "## III - Analyse"
   ]
  },
  {
   "cell_type": "code",
   "execution_count": 18,
   "metadata": {},
   "outputs": [
    {
     "data": {
      "text/html": [
       "<div>\n",
       "<style scoped>\n",
       "    .dataframe tbody tr th:only-of-type {\n",
       "        vertical-align: middle;\n",
       "    }\n",
       "\n",
       "    .dataframe tbody tr th {\n",
       "        vertical-align: top;\n",
       "    }\n",
       "\n",
       "    .dataframe thead th {\n",
       "        text-align: right;\n",
       "    }\n",
       "</style>\n",
       "<table border=\"1\" class=\"dataframe\">\n",
       "  <thead>\n",
       "    <tr style=\"text-align: right;\">\n",
       "      <th></th>\n",
       "      <th>Time</th>\n",
       "      <th>Tank_1</th>\n",
       "      <th>Tank_2</th>\n",
       "      <th>Tank_3</th>\n",
       "      <th>Tank_4</th>\n",
       "      <th>Tank_5</th>\n",
       "      <th>Tank_6</th>\n",
       "      <th>Tank_7</th>\n",
       "      <th>Tank_8</th>\n",
       "      <th>Pump_1</th>\n",
       "      <th>...</th>\n",
       "      <th>Valv_15</th>\n",
       "      <th>Valv_16</th>\n",
       "      <th>Valv_17</th>\n",
       "      <th>Valv_18</th>\n",
       "      <th>Valv_19</th>\n",
       "      <th>Valv_20</th>\n",
       "      <th>Valv_21</th>\n",
       "      <th>Valv_22</th>\n",
       "      <th>Label_n</th>\n",
       "      <th>Label</th>\n",
       "    </tr>\n",
       "  </thead>\n",
       "  <tbody>\n",
       "    <tr>\n",
       "      <th>0</th>\n",
       "      <td>21/02/2022 14:45:18</td>\n",
       "      <td>0</td>\n",
       "      <td>0</td>\n",
       "      <td>0</td>\n",
       "      <td>0</td>\n",
       "      <td>0</td>\n",
       "      <td>0</td>\n",
       "      <td>0</td>\n",
       "      <td>0</td>\n",
       "      <td>False</td>\n",
       "      <td>...</td>\n",
       "      <td>False</td>\n",
       "      <td>False</td>\n",
       "      <td>False</td>\n",
       "      <td>False</td>\n",
       "      <td>False</td>\n",
       "      <td>False</td>\n",
       "      <td>False</td>\n",
       "      <td>False</td>\n",
       "      <td>0</td>\n",
       "      <td>normal</td>\n",
       "    </tr>\n",
       "    <tr>\n",
       "      <th>1</th>\n",
       "      <td>21/02/2022 14:45:19</td>\n",
       "      <td>0</td>\n",
       "      <td>0</td>\n",
       "      <td>0</td>\n",
       "      <td>0</td>\n",
       "      <td>0</td>\n",
       "      <td>0</td>\n",
       "      <td>0</td>\n",
       "      <td>0</td>\n",
       "      <td>False</td>\n",
       "      <td>...</td>\n",
       "      <td>False</td>\n",
       "      <td>False</td>\n",
       "      <td>False</td>\n",
       "      <td>False</td>\n",
       "      <td>False</td>\n",
       "      <td>False</td>\n",
       "      <td>False</td>\n",
       "      <td>False</td>\n",
       "      <td>0</td>\n",
       "      <td>normal</td>\n",
       "    </tr>\n",
       "    <tr>\n",
       "      <th>2</th>\n",
       "      <td>21/02/2022 14:45:20</td>\n",
       "      <td>0</td>\n",
       "      <td>0</td>\n",
       "      <td>0</td>\n",
       "      <td>0</td>\n",
       "      <td>0</td>\n",
       "      <td>0</td>\n",
       "      <td>0</td>\n",
       "      <td>0</td>\n",
       "      <td>False</td>\n",
       "      <td>...</td>\n",
       "      <td>False</td>\n",
       "      <td>False</td>\n",
       "      <td>False</td>\n",
       "      <td>False</td>\n",
       "      <td>False</td>\n",
       "      <td>False</td>\n",
       "      <td>False</td>\n",
       "      <td>False</td>\n",
       "      <td>0</td>\n",
       "      <td>normal</td>\n",
       "    </tr>\n",
       "    <tr>\n",
       "      <th>3</th>\n",
       "      <td>21/02/2022 14:45:21</td>\n",
       "      <td>0</td>\n",
       "      <td>0</td>\n",
       "      <td>0</td>\n",
       "      <td>0</td>\n",
       "      <td>0</td>\n",
       "      <td>0</td>\n",
       "      <td>0</td>\n",
       "      <td>0</td>\n",
       "      <td>False</td>\n",
       "      <td>...</td>\n",
       "      <td>False</td>\n",
       "      <td>False</td>\n",
       "      <td>False</td>\n",
       "      <td>False</td>\n",
       "      <td>False</td>\n",
       "      <td>False</td>\n",
       "      <td>False</td>\n",
       "      <td>False</td>\n",
       "      <td>0</td>\n",
       "      <td>normal</td>\n",
       "    </tr>\n",
       "    <tr>\n",
       "      <th>4</th>\n",
       "      <td>21/02/2022 14:45:22</td>\n",
       "      <td>0</td>\n",
       "      <td>0</td>\n",
       "      <td>0</td>\n",
       "      <td>0</td>\n",
       "      <td>0</td>\n",
       "      <td>0</td>\n",
       "      <td>0</td>\n",
       "      <td>0</td>\n",
       "      <td>False</td>\n",
       "      <td>...</td>\n",
       "      <td>False</td>\n",
       "      <td>False</td>\n",
       "      <td>False</td>\n",
       "      <td>False</td>\n",
       "      <td>False</td>\n",
       "      <td>False</td>\n",
       "      <td>False</td>\n",
       "      <td>False</td>\n",
       "      <td>0</td>\n",
       "      <td>normal</td>\n",
       "    </tr>\n",
       "  </tbody>\n",
       "</table>\n",
       "<p>5 rows × 43 columns</p>\n",
       "</div>"
      ],
      "text/plain": [
       "                  Time  Tank_1  Tank_2  Tank_3  Tank_4  Tank_5  Tank_6  \\\n",
       "0  21/02/2022 14:45:18       0       0       0       0       0       0   \n",
       "1  21/02/2022 14:45:19       0       0       0       0       0       0   \n",
       "2  21/02/2022 14:45:20       0       0       0       0       0       0   \n",
       "3  21/02/2022 14:45:21       0       0       0       0       0       0   \n",
       "4  21/02/2022 14:45:22       0       0       0       0       0       0   \n",
       "\n",
       "   Tank_7  Tank_8  Pump_1  ...  Valv_15  Valv_16  Valv_17  Valv_18  Valv_19  \\\n",
       "0       0       0   False  ...    False    False    False    False    False   \n",
       "1       0       0   False  ...    False    False    False    False    False   \n",
       "2       0       0   False  ...    False    False    False    False    False   \n",
       "3       0       0   False  ...    False    False    False    False    False   \n",
       "4       0       0   False  ...    False    False    False    False    False   \n",
       "\n",
       "   Valv_20  Valv_21  Valv_22  Label_n   Label  \n",
       "0    False    False    False        0  normal  \n",
       "1    False    False    False        0  normal  \n",
       "2    False    False    False        0  normal  \n",
       "3    False    False    False        0  normal  \n",
       "4    False    False    False        0  normal  \n",
       "\n",
       "[5 rows x 43 columns]"
      ]
     },
     "execution_count": 18,
     "metadata": {},
     "output_type": "execute_result"
    }
   ],
   "source": [
    "df_attack_4.head()"
   ]
  },
  {
   "cell_type": "markdown",
   "metadata": {},
   "source": [
    "### 1 - Tailles"
   ]
  },
  {
   "cell_type": "code",
   "execution_count": 19,
   "metadata": {},
   "outputs": [
    {
     "name": "stdout",
     "output_type": "stream",
     "text": [
      "normal - 3428\n",
      "attaque 1 - 2420\n",
      "attaque 2 - 2104\n",
      "attaque 3 - 1254\n",
      "attaque 4 - 1717\n"
     ]
    }
   ],
   "source": [
    "print(\"normal -\",len(df_normal))\n",
    "print(\"attaque 1 -\",len(df_attack_1))\n",
    "print(\"attaque 2 -\",len(df_attack_2))\n",
    "print(\"attaque 3 -\",len(df_attack_3))\n",
    "print(\"attaque 4 -\",len(df_attack_4))"
   ]
  },
  {
   "cell_type": "markdown",
   "metadata": {},
   "source": [
    "### 2 - Colonnes"
   ]
  },
  {
   "cell_type": "markdown",
   "metadata": {},
   "source": [
    "#### A - Cohérence"
   ]
  },
  {
   "cell_type": "code",
   "execution_count": 20,
   "metadata": {},
   "outputs": [
    {
     "name": "stdout",
     "output_type": "stream",
     "text": [
      "False\n"
     ]
    }
   ],
   "source": [
    "print(list(df_normal.columns)==list(df_attack_1.columns) and\n",
    "      list(df_attack_1.columns)==list(df_attack_2.columns) and \n",
    "      list(df_attack_1.columns)==list(df_attack_3.columns) and \n",
    "      list(df_attack_1.columns)==list(df_attack_4.columns))"
   ]
  },
  {
   "cell_type": "markdown",
   "metadata": {},
   "source": [
    "Les colonnes ne sont pas identiques. Voyons pourquoi."
   ]
  },
  {
   "cell_type": "code",
   "execution_count": 21,
   "metadata": {},
   "outputs": [
    {
     "name": "stdout",
     "output_type": "stream",
     "text": [
      "['Time', 'Tank_1', 'Tank_2', 'Tank_3', 'Tank_4', 'Tank_5', 'Tank_6', 'Tank_7', 'Tank_8', 'Pump_1', 'Pump_2', 'Pump_3', 'Pump_4', 'Pump_5', 'Pump_6', 'Flow_sensor_1', 'Flow_sensor_2', 'Flow_sensor_3', 'Flow_sensor_4', 'Valv_1', 'Valv_2', 'Valv_3', 'Valv_4', 'Valv_5', 'Valv_6', 'Valv_7', 'Valv_8', 'Valv_9', 'Valv_10', 'Valv_11', 'Valv_12', 'Valv_13', 'Valv_14', 'Valv_15', 'Valv_16', 'Valv_17', 'Valv_18', 'Valv_19', 'Valv_20', 'Valv_21', 'Valv_22', 'Label_n', 'Label']\n",
      "['Time', 'Tank_1', 'Tank_2', 'Tank_3', 'Tank_4', 'Tank_5', 'Tank_6', 'Tank_7', 'Tank_8', 'Pump_1', 'Pump_2', 'Pump_3', 'Pump_4', 'Pump_5', 'Pump_6', 'Flow_sensor_1', 'Flow_sensor_2', 'Flow_sensor_3', 'Flow_sensor_4', 'Valv_1', 'Valv_2', 'Valv_3', 'Valv_4', 'Valv_5', 'Valv_6', 'Valv_7', 'Valv_8', 'Valv_9', 'Valv_10', 'Valv_11', 'Valv_12', 'Valv_13', 'Valv_14', 'Valv_15', 'Valv_16', 'Valv_17', 'Valv_18', 'Valv_19', 'Valv_20', 'Valv_21', 'Valv_22', 'Label_n', 'Label']\n",
      "['Time', 'Tank_1', 'Tank_2', 'Tank_3', 'Tank_4', 'Tank_5', 'Tank_6', 'Tank_7', 'Tank_8', 'Pump_1', 'Pump_2', 'Pump_3', 'Pump_4', 'Pump_5', 'Pump_6', 'Flow_sensor_1', 'Flow_sensor_2', 'Flow_sensor_3', 'Flow_sensor_4', 'Valv_1', 'Valv_2', 'Valv_3', 'Valv_4', 'Valv_5', 'Valv_6', 'Valv_7', 'Valv_8', 'Valv_9', 'Valv_10', 'Valv_11', 'Valv_12', 'Valv_13', 'Valv_14', 'Valv_15', 'Valv_16', 'Valv_17', 'Valv_18', 'Valv_19', 'Valv_20', 'Valv_21', 'Valv_22', 'Lable_n', 'Label']\n",
      "['Time', 'Tank_1', 'Tank_2', 'Tank_3', 'Tank_4', 'Tank_5', 'Tank_6', 'Tank_7', 'Tank_8', 'Pump_1', 'Pump_2', 'Pump_3', 'Pump_4', 'Pump_5', 'Pump_6', 'Flow_sensor_1', 'Flow_sensor_2', 'Flow_sensor_3', 'Flow_sensor_4', 'Valv_1', 'Valv_2', 'Valv_3', 'Valv_4', 'Valv_5', 'Valv_6', 'Valv_7', 'Valv_8', 'Valv_9', 'Valv_10', 'Valv_11', 'Valv_12', 'Valv_13', 'Valv_14', 'Valv_15', 'Valv_16', 'Valv_17', 'Valv_18', 'Valv_19', 'Valv_20', 'Valv_21', 'Valv_22', 'Label_n', 'Label']\n",
      "['Time', 'Tank_1', 'Tank_2', 'Tank_3', 'Tank_4', 'Tank_5', 'Tank_6', 'Tank_7', 'Tank_8', 'Pump_1', 'Pump_2', 'Pump_3', 'Pump_4', 'Pump_5', 'Pump_6', 'Flow_sensor_1', 'Flow_sensor_2', 'Flow_sensor_3', 'Flow_sensor_4', 'Valv_1', 'Valv_2', 'Valv_3', 'Valv_4', 'Valv_5', 'Valv_6', 'Valv_7', 'Valv_8', 'Valv_9', 'Valv_10', 'Valv_11', 'Valv_12', 'Valv_13', 'Valv_14', 'Valv_15', 'Valv_16', 'Valv_17', 'Valv_18', 'Valv_19', 'Valv_20', 'Valv_21', 'Valv_22', 'Label_n', 'Label']\n"
     ]
    }
   ],
   "source": [
    "print(list(df_normal.columns))\n",
    "print(list(df_attack_1.columns))\n",
    "print(list(df_attack_2.columns))\n",
    "print(list(df_attack_3.columns))\n",
    "print(list(df_attack_4.columns))"
   ]
  },
  {
   "cell_type": "markdown",
   "metadata": {},
   "source": [
    "On remarque que les colonnes sont identiques à part pour df_attack_2 qui contient une faute d'orthographe en ayant une colonne \"Lable_n\" au lieu de \"Label_n\""
   ]
  },
  {
   "cell_type": "markdown",
   "metadata": {},
   "source": [
    "#### B - Types"
   ]
  },
  {
   "cell_type": "code",
   "execution_count": 22,
   "metadata": {},
   "outputs": [
    {
     "data": {
      "text/plain": [
       "Time             object\n",
       "Tank_1            int64\n",
       "Tank_2            int64\n",
       "Tank_3            int64\n",
       "Tank_4            int64\n",
       "Tank_5            int64\n",
       "Tank_6            int64\n",
       "Tank_7            int64\n",
       "Tank_8            int64\n",
       "Pump_1             bool\n",
       "Pump_2             bool\n",
       "Pump_3             bool\n",
       "Pump_4             bool\n",
       "Pump_5             bool\n",
       "Pump_6             bool\n",
       "Flow_sensor_1     int64\n",
       "Flow_sensor_2     int64\n",
       "Flow_sensor_3     int64\n",
       "Flow_sensor_4     int64\n",
       "Valv_1             bool\n",
       "Valv_2             bool\n",
       "Valv_3             bool\n",
       "Valv_4             bool\n",
       "Valv_5             bool\n",
       "Valv_6             bool\n",
       "Valv_7             bool\n",
       "Valv_8             bool\n",
       "Valv_9             bool\n",
       "Valv_10            bool\n",
       "Valv_11            bool\n",
       "Valv_12            bool\n",
       "Valv_13            bool\n",
       "Valv_14            bool\n",
       "Valv_15            bool\n",
       "Valv_16            bool\n",
       "Valv_17            bool\n",
       "Valv_18            bool\n",
       "Valv_19            bool\n",
       "Valv_20            bool\n",
       "Valv_21            bool\n",
       "Valv_22            bool\n",
       "Label_n           int64\n",
       "Label            object\n",
       "dtype: object"
      ]
     },
     "execution_count": 22,
     "metadata": {},
     "output_type": "execute_result"
    }
   ],
   "source": [
    "df_attack_1.dtypes"
   ]
  },
  {
   "cell_type": "code",
   "execution_count": 27,
   "metadata": {},
   "outputs": [
    {
     "name": "stdout",
     "output_type": "stream",
     "text": [
      "variables numériques : 13\n",
      "variables booleennes : 28\n",
      "variables categorielles et string: 2\n"
     ]
    }
   ],
   "source": [
    "print(\"variables numériques :\", len(df_attack_1.select_dtypes(include=\"number\").columns))\n",
    "print(\"variables booleennes :\", len(df_attack_1.select_dtypes(include=\"bool\").columns))\n",
    "print(\"variables categorielles et string:\", len(df_attack_1.select_dtypes(include=\"object\").columns)+len(df_attack_1.select_dtypes(include=\"category\").columns))"
   ]
  },
  {
   "cell_type": "markdown",
   "metadata": {},
   "source": [
    "Il faudra peut être numériser les variables booléennes nombreuses ou les enlever selon les modèles."
   ]
  },
  {
   "cell_type": "code",
   "execution_count": 30,
   "metadata": {},
   "outputs": [
    {
     "name": "stdout",
     "output_type": "stream",
     "text": [
      "variables categorielles et string: ['Time', 'Label'] []\n"
     ]
    }
   ],
   "source": [
    "print(\"variables categorielles et string:\", list(df_attack_1.select_dtypes(include=\"object\").columns),list(df_attack_1.select_dtypes(include=\"category\").columns))"
   ]
  },
  {
   "cell_type": "markdown",
   "metadata": {},
   "source": [
    "On pourra supprimer le temps mais le Label est important car c'est justement ce qu'on doit détecter"
   ]
  },
  {
   "cell_type": "markdown",
   "metadata": {},
   "source": [
    "### 3 - Variables"
   ]
  },
  {
   "cell_type": "markdown",
   "metadata": {},
   "source": [
    "#### A - Quelques valeurs étranges"
   ]
  },
  {
   "cell_type": "markdown",
   "metadata": {},
   "source": [
    "Observons la donnée catégorielle Label :"
   ]
  },
  {
   "cell_type": "code",
   "execution_count": 32,
   "metadata": {},
   "outputs": [
    {
     "name": "stdout",
     "output_type": "stream",
     "text": [
      "labels normal : ['normal']\n",
      "labels attaque 1 : ['normal', 'MITM', 'physical fault']\n",
      "labels attaque 2 : ['normal', 'scan', 'DoS', 'physical fault', 'nomal', 'MITM']\n",
      "labels attaque 3 : ['normal', 'physical fault', 'DoS', 'MITM']\n",
      "labels attaque 4 : ['normal', 'scan', 'DoS', 'physical fault', 'MITM']\n"
     ]
    }
   ],
   "source": [
    "print(\"labels normal :\", list(pd.unique(df_normal[\"Label\"])))\n",
    "print(\"labels attaque 1 :\", list(pd.unique(df_attack_1[\"Label\"])))\n",
    "print(\"labels attaque 2 :\", list(pd.unique(df_attack_2[\"Label\"])))\n",
    "print(\"labels attaque 3 :\", list(pd.unique(df_attack_3[\"Label\"])))\n",
    "print(\"labels attaque 4 :\", list(pd.unique(df_attack_4[\"Label\"])))"
   ]
  },
  {
   "cell_type": "markdown",
   "metadata": {},
   "source": [
    "On peut voir que dans attack_2, il y a une faute d'orthographe avec des valeurs de types \" nomal \" au lieu de \" normal \"."
   ]
  },
  {
   "cell_type": "markdown",
   "metadata": {},
   "source": [
    "#### B - Etudes des NaN"
   ]
  },
  {
   "cell_type": "code",
   "execution_count": 34,
   "metadata": {},
   "outputs": [],
   "source": [
    "for k in df_normal.columns:\n",
    "    if df_normal[k].isna().any():\n",
    "        print(k)\n",
    "        "
   ]
  },
  {
   "cell_type": "markdown",
   "metadata": {},
   "source": [
    "Pas de problème sur le set de données sans attaque à part modbus_response, qui est NaN car il ne peut y avoir de valeur que dans des réponses à des requêtes modbus."
   ]
  },
  {
   "cell_type": "code",
   "execution_count": 37,
   "metadata": {},
   "outputs": [],
   "source": [
    "for k in df_attack_1.columns:\n",
    "    if df_attack_1[k].isna().any():\n",
    "        print(k)\n",
    "\n",
    "for k in df_attack_2.columns:\n",
    "    if df_attack_2[k].isna().any():\n",
    "        print(k)\n",
    "\n",
    "for k in df_attack_3.columns:\n",
    "    if df_attack_3[k].isna().any():\n",
    "        print(k)\n",
    "\n",
    "for k in df_attack_4.columns:\n",
    "    if df_attack_4[k].isna().any():\n",
    "        print(k)\n"
   ]
  },
  {
   "cell_type": "markdown",
   "metadata": {},
   "source": [
    "Il n'y a jamais aucun NaN dans nos données."
   ]
  }
 ],
 "metadata": {
  "kernelspec": {
   "display_name": "Python 3",
   "language": "python",
   "name": "python3"
  },
  "language_info": {
   "codemirror_mode": {
    "name": "ipython",
    "version": 3
   },
   "file_extension": ".py",
   "mimetype": "text/x-python",
   "name": "python",
   "nbconvert_exporter": "python",
   "pygments_lexer": "ipython3",
   "version": "3.11.3"
  },
  "orig_nbformat": 4
 },
 "nbformat": 4,
 "nbformat_minor": 2
}
