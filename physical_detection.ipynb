{
 "cells": [
  {
   "cell_type": "markdown",
   "metadata": {},
   "source": [
    "# Physical attacks - Detection"
   ]
  },
  {
   "cell_type": "markdown",
   "metadata": {},
   "source": [
    "## I - Modules"
   ]
  },
  {
   "cell_type": "code",
   "execution_count": 1,
   "metadata": {},
   "outputs": [],
   "source": [
    "import pandas as pd\n",
    "from sklearn.metrics import accuracy_score, precision_score,recall_score,ConfusionMatrixDisplay, confusion_matrix\n",
    "from sklearn.model_selection import train_test_split\n",
    "from sklearn.neighbors import KNeighborsClassifier\n",
    "import matplotlib.pyplot as plt\n",
    "from sklearn.ensemble import RandomForestRegressor\n",
    "import numpy as np\n"
   ]
  },
  {
   "cell_type": "markdown",
   "metadata": {},
   "source": [
    "## II - Charger donnée"
   ]
  },
  {
   "cell_type": "markdown",
   "metadata": {},
   "source": [
    "Utilisons donnée préparée :"
   ]
  },
  {
   "cell_type": "code",
   "execution_count": 2,
   "metadata": {},
   "outputs": [],
   "source": [
    "df_normal = pd.read_csv(\"preparation/physical_normal.csv\")\n",
    "df_attack_1 = pd.read_csv(\"preparation/physical_1.csv\")\n",
    "df_attack_2 = pd.read_csv(\"preparation/physical_2.csv\")\n",
    "df_attack_3 = pd.read_csv(\"preparation/physical_3.csv\")\n",
    "df_attack_4 = pd.read_csv(\"preparation/physical_4.csv\")"
   ]
  },
  {
   "cell_type": "code",
   "execution_count": 3,
   "metadata": {},
   "outputs": [
    {
     "data": {
      "text/html": [
       "<div>\n",
       "<style scoped>\n",
       "    .dataframe tbody tr th:only-of-type {\n",
       "        vertical-align: middle;\n",
       "    }\n",
       "\n",
       "    .dataframe tbody tr th {\n",
       "        vertical-align: top;\n",
       "    }\n",
       "\n",
       "    .dataframe thead th {\n",
       "        text-align: right;\n",
       "    }\n",
       "</style>\n",
       "<table border=\"1\" class=\"dataframe\">\n",
       "  <thead>\n",
       "    <tr style=\"text-align: right;\">\n",
       "      <th></th>\n",
       "      <th>Unnamed: 0</th>\n",
       "      <th>Tank_1</th>\n",
       "      <th>Tank_2</th>\n",
       "      <th>Tank_3</th>\n",
       "      <th>Tank_4</th>\n",
       "      <th>Tank_5</th>\n",
       "      <th>Tank_6</th>\n",
       "      <th>Tank_7</th>\n",
       "      <th>Tank_8</th>\n",
       "      <th>Pump_1</th>\n",
       "      <th>...</th>\n",
       "      <th>Valv_14</th>\n",
       "      <th>Valv_15</th>\n",
       "      <th>Valv_16</th>\n",
       "      <th>Valv_17</th>\n",
       "      <th>Valv_18</th>\n",
       "      <th>Valv_19</th>\n",
       "      <th>Valv_20</th>\n",
       "      <th>Valv_21</th>\n",
       "      <th>Valv_22</th>\n",
       "      <th>Label</th>\n",
       "    </tr>\n",
       "  </thead>\n",
       "  <tbody>\n",
       "    <tr>\n",
       "      <th>0</th>\n",
       "      <td>0</td>\n",
       "      <td>0</td>\n",
       "      <td>0</td>\n",
       "      <td>0</td>\n",
       "      <td>0</td>\n",
       "      <td>0</td>\n",
       "      <td>0</td>\n",
       "      <td>0</td>\n",
       "      <td>0</td>\n",
       "      <td>False</td>\n",
       "      <td>...</td>\n",
       "      <td>False</td>\n",
       "      <td>False</td>\n",
       "      <td>False</td>\n",
       "      <td>False</td>\n",
       "      <td>False</td>\n",
       "      <td>False</td>\n",
       "      <td>False</td>\n",
       "      <td>False</td>\n",
       "      <td>False</td>\n",
       "      <td>normal</td>\n",
       "    </tr>\n",
       "    <tr>\n",
       "      <th>1</th>\n",
       "      <td>1</td>\n",
       "      <td>0</td>\n",
       "      <td>0</td>\n",
       "      <td>0</td>\n",
       "      <td>0</td>\n",
       "      <td>0</td>\n",
       "      <td>0</td>\n",
       "      <td>0</td>\n",
       "      <td>0</td>\n",
       "      <td>False</td>\n",
       "      <td>...</td>\n",
       "      <td>False</td>\n",
       "      <td>False</td>\n",
       "      <td>False</td>\n",
       "      <td>False</td>\n",
       "      <td>False</td>\n",
       "      <td>False</td>\n",
       "      <td>False</td>\n",
       "      <td>False</td>\n",
       "      <td>False</td>\n",
       "      <td>normal</td>\n",
       "    </tr>\n",
       "    <tr>\n",
       "      <th>2</th>\n",
       "      <td>2</td>\n",
       "      <td>0</td>\n",
       "      <td>0</td>\n",
       "      <td>0</td>\n",
       "      <td>0</td>\n",
       "      <td>0</td>\n",
       "      <td>0</td>\n",
       "      <td>0</td>\n",
       "      <td>0</td>\n",
       "      <td>False</td>\n",
       "      <td>...</td>\n",
       "      <td>False</td>\n",
       "      <td>False</td>\n",
       "      <td>False</td>\n",
       "      <td>False</td>\n",
       "      <td>False</td>\n",
       "      <td>False</td>\n",
       "      <td>False</td>\n",
       "      <td>False</td>\n",
       "      <td>False</td>\n",
       "      <td>normal</td>\n",
       "    </tr>\n",
       "    <tr>\n",
       "      <th>3</th>\n",
       "      <td>3</td>\n",
       "      <td>0</td>\n",
       "      <td>0</td>\n",
       "      <td>0</td>\n",
       "      <td>0</td>\n",
       "      <td>0</td>\n",
       "      <td>0</td>\n",
       "      <td>0</td>\n",
       "      <td>0</td>\n",
       "      <td>False</td>\n",
       "      <td>...</td>\n",
       "      <td>False</td>\n",
       "      <td>False</td>\n",
       "      <td>False</td>\n",
       "      <td>False</td>\n",
       "      <td>False</td>\n",
       "      <td>False</td>\n",
       "      <td>False</td>\n",
       "      <td>False</td>\n",
       "      <td>False</td>\n",
       "      <td>normal</td>\n",
       "    </tr>\n",
       "    <tr>\n",
       "      <th>4</th>\n",
       "      <td>4</td>\n",
       "      <td>0</td>\n",
       "      <td>0</td>\n",
       "      <td>0</td>\n",
       "      <td>0</td>\n",
       "      <td>0</td>\n",
       "      <td>0</td>\n",
       "      <td>0</td>\n",
       "      <td>0</td>\n",
       "      <td>False</td>\n",
       "      <td>...</td>\n",
       "      <td>False</td>\n",
       "      <td>False</td>\n",
       "      <td>False</td>\n",
       "      <td>False</td>\n",
       "      <td>False</td>\n",
       "      <td>False</td>\n",
       "      <td>False</td>\n",
       "      <td>False</td>\n",
       "      <td>False</td>\n",
       "      <td>normal</td>\n",
       "    </tr>\n",
       "  </tbody>\n",
       "</table>\n",
       "<p>5 rows × 42 columns</p>\n",
       "</div>"
      ],
      "text/plain": [
       "   Unnamed: 0  Tank_1  Tank_2  Tank_3  Tank_4  Tank_5  Tank_6  Tank_7  Tank_8  \\\n",
       "0           0       0       0       0       0       0       0       0       0   \n",
       "1           1       0       0       0       0       0       0       0       0   \n",
       "2           2       0       0       0       0       0       0       0       0   \n",
       "3           3       0       0       0       0       0       0       0       0   \n",
       "4           4       0       0       0       0       0       0       0       0   \n",
       "\n",
       "   Pump_1  ...  Valv_14  Valv_15  Valv_16  Valv_17  Valv_18  Valv_19  Valv_20  \\\n",
       "0   False  ...    False    False    False    False    False    False    False   \n",
       "1   False  ...    False    False    False    False    False    False    False   \n",
       "2   False  ...    False    False    False    False    False    False    False   \n",
       "3   False  ...    False    False    False    False    False    False    False   \n",
       "4   False  ...    False    False    False    False    False    False    False   \n",
       "\n",
       "   Valv_21  Valv_22   Label  \n",
       "0    False    False  normal  \n",
       "1    False    False  normal  \n",
       "2    False    False  normal  \n",
       "3    False    False  normal  \n",
       "4    False    False  normal  \n",
       "\n",
       "[5 rows x 42 columns]"
      ]
     },
     "execution_count": 3,
     "metadata": {},
     "output_type": "execute_result"
    }
   ],
   "source": [
    "df_normal.head()"
   ]
  },
  {
   "cell_type": "code",
   "execution_count": 4,
   "metadata": {},
   "outputs": [
    {
     "data": {
      "text/html": [
       "<div>\n",
       "<style scoped>\n",
       "    .dataframe tbody tr th:only-of-type {\n",
       "        vertical-align: middle;\n",
       "    }\n",
       "\n",
       "    .dataframe tbody tr th {\n",
       "        vertical-align: top;\n",
       "    }\n",
       "\n",
       "    .dataframe thead th {\n",
       "        text-align: right;\n",
       "    }\n",
       "</style>\n",
       "<table border=\"1\" class=\"dataframe\">\n",
       "  <thead>\n",
       "    <tr style=\"text-align: right;\">\n",
       "      <th></th>\n",
       "      <th>Unnamed: 0</th>\n",
       "      <th>Tank_1</th>\n",
       "      <th>Tank_2</th>\n",
       "      <th>Tank_3</th>\n",
       "      <th>Tank_4</th>\n",
       "      <th>Tank_5</th>\n",
       "      <th>Tank_6</th>\n",
       "      <th>Tank_7</th>\n",
       "      <th>Tank_8</th>\n",
       "      <th>Pump_1</th>\n",
       "      <th>...</th>\n",
       "      <th>Valv_14</th>\n",
       "      <th>Valv_15</th>\n",
       "      <th>Valv_16</th>\n",
       "      <th>Valv_17</th>\n",
       "      <th>Valv_18</th>\n",
       "      <th>Valv_19</th>\n",
       "      <th>Valv_20</th>\n",
       "      <th>Valv_21</th>\n",
       "      <th>Valv_22</th>\n",
       "      <th>Label</th>\n",
       "    </tr>\n",
       "  </thead>\n",
       "  <tbody>\n",
       "    <tr>\n",
       "      <th>0</th>\n",
       "      <td>0</td>\n",
       "      <td>0</td>\n",
       "      <td>0</td>\n",
       "      <td>0</td>\n",
       "      <td>0</td>\n",
       "      <td>0</td>\n",
       "      <td>0</td>\n",
       "      <td>0</td>\n",
       "      <td>0</td>\n",
       "      <td>False</td>\n",
       "      <td>...</td>\n",
       "      <td>False</td>\n",
       "      <td>False</td>\n",
       "      <td>False</td>\n",
       "      <td>False</td>\n",
       "      <td>False</td>\n",
       "      <td>False</td>\n",
       "      <td>False</td>\n",
       "      <td>False</td>\n",
       "      <td>False</td>\n",
       "      <td>normal</td>\n",
       "    </tr>\n",
       "    <tr>\n",
       "      <th>1</th>\n",
       "      <td>1</td>\n",
       "      <td>0</td>\n",
       "      <td>0</td>\n",
       "      <td>0</td>\n",
       "      <td>0</td>\n",
       "      <td>0</td>\n",
       "      <td>0</td>\n",
       "      <td>0</td>\n",
       "      <td>0</td>\n",
       "      <td>False</td>\n",
       "      <td>...</td>\n",
       "      <td>False</td>\n",
       "      <td>False</td>\n",
       "      <td>False</td>\n",
       "      <td>False</td>\n",
       "      <td>False</td>\n",
       "      <td>False</td>\n",
       "      <td>False</td>\n",
       "      <td>False</td>\n",
       "      <td>False</td>\n",
       "      <td>normal</td>\n",
       "    </tr>\n",
       "    <tr>\n",
       "      <th>2</th>\n",
       "      <td>2</td>\n",
       "      <td>0</td>\n",
       "      <td>0</td>\n",
       "      <td>0</td>\n",
       "      <td>0</td>\n",
       "      <td>0</td>\n",
       "      <td>0</td>\n",
       "      <td>0</td>\n",
       "      <td>0</td>\n",
       "      <td>False</td>\n",
       "      <td>...</td>\n",
       "      <td>False</td>\n",
       "      <td>False</td>\n",
       "      <td>False</td>\n",
       "      <td>False</td>\n",
       "      <td>False</td>\n",
       "      <td>False</td>\n",
       "      <td>False</td>\n",
       "      <td>False</td>\n",
       "      <td>False</td>\n",
       "      <td>normal</td>\n",
       "    </tr>\n",
       "    <tr>\n",
       "      <th>3</th>\n",
       "      <td>3</td>\n",
       "      <td>0</td>\n",
       "      <td>0</td>\n",
       "      <td>0</td>\n",
       "      <td>0</td>\n",
       "      <td>0</td>\n",
       "      <td>0</td>\n",
       "      <td>0</td>\n",
       "      <td>0</td>\n",
       "      <td>False</td>\n",
       "      <td>...</td>\n",
       "      <td>False</td>\n",
       "      <td>False</td>\n",
       "      <td>False</td>\n",
       "      <td>False</td>\n",
       "      <td>False</td>\n",
       "      <td>False</td>\n",
       "      <td>False</td>\n",
       "      <td>False</td>\n",
       "      <td>False</td>\n",
       "      <td>normal</td>\n",
       "    </tr>\n",
       "    <tr>\n",
       "      <th>4</th>\n",
       "      <td>4</td>\n",
       "      <td>0</td>\n",
       "      <td>0</td>\n",
       "      <td>0</td>\n",
       "      <td>0</td>\n",
       "      <td>0</td>\n",
       "      <td>0</td>\n",
       "      <td>0</td>\n",
       "      <td>0</td>\n",
       "      <td>True</td>\n",
       "      <td>...</td>\n",
       "      <td>False</td>\n",
       "      <td>False</td>\n",
       "      <td>False</td>\n",
       "      <td>False</td>\n",
       "      <td>False</td>\n",
       "      <td>False</td>\n",
       "      <td>False</td>\n",
       "      <td>False</td>\n",
       "      <td>False</td>\n",
       "      <td>normal</td>\n",
       "    </tr>\n",
       "  </tbody>\n",
       "</table>\n",
       "<p>5 rows × 42 columns</p>\n",
       "</div>"
      ],
      "text/plain": [
       "   Unnamed: 0  Tank_1  Tank_2  Tank_3  Tank_4  Tank_5  Tank_6  Tank_7  Tank_8  \\\n",
       "0           0       0       0       0       0       0       0       0       0   \n",
       "1           1       0       0       0       0       0       0       0       0   \n",
       "2           2       0       0       0       0       0       0       0       0   \n",
       "3           3       0       0       0       0       0       0       0       0   \n",
       "4           4       0       0       0       0       0       0       0       0   \n",
       "\n",
       "   Pump_1  ...  Valv_14  Valv_15  Valv_16  Valv_17  Valv_18  Valv_19  Valv_20  \\\n",
       "0   False  ...    False    False    False    False    False    False    False   \n",
       "1   False  ...    False    False    False    False    False    False    False   \n",
       "2   False  ...    False    False    False    False    False    False    False   \n",
       "3   False  ...    False    False    False    False    False    False    False   \n",
       "4    True  ...    False    False    False    False    False    False    False   \n",
       "\n",
       "   Valv_21  Valv_22   Label  \n",
       "0    False    False  normal  \n",
       "1    False    False  normal  \n",
       "2    False    False  normal  \n",
       "3    False    False  normal  \n",
       "4    False    False  normal  \n",
       "\n",
       "[5 rows x 42 columns]"
      ]
     },
     "execution_count": 4,
     "metadata": {},
     "output_type": "execute_result"
    }
   ],
   "source": [
    "df_attack_1.head()"
   ]
  },
  {
   "cell_type": "markdown",
   "metadata": {},
   "source": [
    "## III - Fonctions"
   ]
  },
  {
   "cell_type": "markdown",
   "metadata": {},
   "source": [
    "### 0 - Fonction d'évaluation et matrice de confusion"
   ]
  },
  {
   "cell_type": "code",
   "execution_count": 67,
   "metadata": {},
   "outputs": [],
   "source": [
    "from sklearn.metrics import classification_report\n",
    "from sklearn.metrics import confusion_matrix\n",
    "\n",
    "def plot_confusion_matrix(y_preds, y_true, labels):\n",
    "    cm = confusion_matrix(y_true, y_preds,normalize=\"true\")\n",
    "    fig, ax = plt.subplots(figsize=(6, 6))\n",
    "\n",
    "    labels_for_fig = [(l[0:4]+'.' if isinstance(l, str) else str(l)) for l in labels]\n",
    "    disp = ConfusionMatrixDisplay(confusion_matrix=cm,\n",
    "                                  display_labels=labels_for_fig)\n",
    "    try:\n",
    "        disp.plot(cmap=\"Blues\", values_format=\"4f\", ax=ax, colorbar=False)\n",
    "    except:\n",
    "        print(pd.unique(y_preds))\n",
    "        print(pd.unique(y_true))\n",
    "        print(labels)\n",
    "    plt.title(\"Normalized confusion matrix\")\n",
    "    plt.show()\n",
    "\n",
    "\n",
    "\n",
    "def eval_model(y_pred, y_test, labels):\n",
    "    plot_confusion_matrix(list(y_pred), list(y_test), labels)\n",
    "\n",
    "    print(classification_report(y_test, y_pred))\n",
    "    \n",
    "    # Print the confusion matrix directly\n",
    "    cm = confusion_matrix(y_test, y_pred, labels=labels)\n",
    "    \n",
    "    # Compute and print metrics for each class\n",
    "    for i, label in enumerate(labels):\n",
    "        tp = cm[i, i]\n",
    "        fp = cm[:, i].sum() - tp\n",
    "        fn = cm[i, :].sum() - tp\n",
    "        tn = cm.sum() - (tp + fp + fn)\n",
    "\n",
    "        # print(\"tp\", tp)\n",
    "        # print(\"fp\", fp)\n",
    "        # print(\"fn\", fn)\n",
    "        # print(\"tn\", tn)\n",
    "        \n",
    "        tnr = tn / (tn + fp)  # True negative rate\n",
    "        tpr = tp / (tp + fn)  # True positive rate\n",
    "        fnr = fn / (fn + tp)  # False negative rate\n",
    "        fpr = fp / (fp + tn)  # False positive rate\n",
    "\n",
    "        \n",
    "        \n",
    "        print(f\"\\nMetrics for class {label}:\")\n",
    "        print(f\"True negative rate: {tnr:.4f}\")\n",
    "        print(f\"True positive rate: {tpr:.4f}\")\n",
    "        print(f\"False negative rate: {fnr:.4f}\")\n",
    "        print(f\"False positive rate: {fpr:.4f}\")\n",
    "    \n",
    "    \n",
    "    "
   ]
  },
  {
   "cell_type": "markdown",
   "metadata": {},
   "source": [
    "### 2 - KNN"
   ]
  },
  {
   "cell_type": "code",
   "execution_count": 38,
   "metadata": {},
   "outputs": [],
   "source": [
    "def KNN_attack_detection(df):\n",
    "    new_df = df.copy()\n",
    "    print(\"taille\",len(df))\n",
    "    X = new_df.drop('Label', axis=1)  # Caractéristiques\n",
    "    y = new_df['Label']  # Cible\n",
    "    X_train, X_test, y_train, y_test = train_test_split(X, y, test_size=0.2, random_state=1)\n",
    "    k = len(pd.unique(y_test))\n",
    "    knn_model = KNeighborsClassifier(n_neighbors=k)\n",
    "    knn_model.fit(X_train, y_train)\n",
    "\n",
    "\n",
    "    y_pred = knn_model.predict(X_test)\n",
    "    eval_model(y_pred, y_test, knn_model.classes_)\n",
    "    #print(\"Précision du modèle KNN : {:.2f}%\".format(accuracy * 100))\n",
    "    #plot_confusion_matrix(list(y_pred),list(y_test),knn_model.classes_)"
   ]
  },
  {
   "cell_type": "markdown",
   "metadata": {},
   "source": [
    "### 3 - Random Forest"
   ]
  },
  {
   "cell_type": "code",
   "execution_count": 70,
   "metadata": {},
   "outputs": [],
   "source": [
    "from sklearn.ensemble import RandomForestClassifier\n",
    "\n",
    "def randomForest_attack_detector(df):\n",
    "    new_df = df.copy()\n",
    "    n = 0\n",
    "    labels = pd.unique(new_df[\"Label\"])\n",
    "    mapping = {}\n",
    "    for label in labels:\n",
    "        mapping[label] = n\n",
    "        n += 1\n",
    "\n",
    "    new_df[\"Label\"] = new_df[\"Label\"].map(mapping)\n",
    "    \n",
    "    X = new_df.drop('Label', axis=1)  # Features\n",
    "    y = new_df['Label']  # Target\n",
    "    X_train, X_test, y_train, y_test = train_test_split(X, y, test_size=0.2, random_state=1)\n",
    "\n",
    "    rf = RandomForestClassifier(n_estimators=20, random_state=42)\n",
    "    rf.fit(X_train, y_train)\n",
    "\n",
    "    y_pred = rf.predict(X_test)\n",
    "    eval_model(y_pred, y_test, rf.classes_)\n",
    "    # accuracy = accuracy_score(list(y_pred), list(y_test))\n",
    "    # recall = recall_score(list(y_pred), list(y_test), average='macro')\n",
    "    # print(\"Accuracy du modèle Random Forest : {:.2f}%\".format(accuracy * 100))\n",
    "    "
   ]
  },
  {
   "cell_type": "markdown",
   "metadata": {},
   "source": [
    "## IV - Detection"
   ]
  },
  {
   "cell_type": "code",
   "execution_count": 63,
   "metadata": {},
   "outputs": [
    {
     "name": "stdout",
     "output_type": "stream",
     "text": [
      "taille 2420\n"
     ]
    },
    {
     "data": {
      "image/png": "[encoded data removed]",
      "text/plain": [
       "<Figure size 432x432 with 1 Axes>"
      ]
     },
     "metadata": {
      "needs_background": "light"
     },
     "output_type": "display_data"
    },
    {
     "name": "stdout",
     "output_type": "stream",
     "text": [
      "                precision    recall  f1-score   support\n",
      "\n",
      "          MITM       0.99      1.00      1.00       109\n",
      "        normal       1.00      1.00      1.00       321\n",
      "physical fault       1.00      0.98      0.99        54\n",
      "\n",
      "      accuracy                           1.00       484\n",
      "     macro avg       1.00      0.99      0.99       484\n",
      "  weighted avg       1.00      1.00      1.00       484\n",
      "\n",
      "\n",
      "Metrics for class MITM:\n",
      "True negative rate: 0.9973\n",
      "True positive rate: 1.0000\n",
      "False negative rate: 0.0000\n",
      "False positive rate: 0.0027\n",
      "\n",
      "Metrics for class normal:\n",
      "True negative rate: 0.9939\n",
      "True positive rate: 0.9969\n",
      "False negative rate: 0.0031\n",
      "False positive rate: 0.0061\n",
      "\n",
      "Metrics for class physical fault:\n",
      "True negative rate: 1.0000\n",
      "True positive rate: 0.9815\n",
      "False negative rate: 0.0185\n",
      "False positive rate: 0.0000\n"
     ]
    }
   ],
   "source": [
    "KNN_attack_detection(df_attack_1)"
   ]
  },
  {
   "cell_type": "code",
   "execution_count": 51,
   "metadata": {},
   "outputs": [
    {
     "name": "stdout",
     "output_type": "stream",
     "text": [
      "taille 2104\n"
     ]
    },
    {
     "data": {
      "image/png": "[encoded data removed]",
      "text/plain": [
       "<Figure size 432x432 with 1 Axes>"
      ]
     },
     "metadata": {
      "needs_background": "light"
     },
     "output_type": "display_data"
    },
    {
     "name": "stdout",
     "output_type": "stream",
     "text": [
      "                precision    recall  f1-score   support\n",
      "\n",
      "           DoS       1.00      0.95      0.97        20\n",
      "          MITM       0.89      1.00      0.94        16\n",
      "        normal       1.00      0.99      0.99       354\n",
      "physical fault       0.94      1.00      0.97        30\n",
      "          scan       0.00      0.00      0.00         1\n",
      "\n",
      "      accuracy                           0.99       421\n",
      "     macro avg       0.76      0.79      0.78       421\n",
      "  weighted avg       0.99      0.99      0.99       421\n",
      "\n",
      "\n",
      "Metrics for class DoS:\n",
      "True negative rate: 1.0000\n",
      "True positive rate: 0.9500\n",
      "False negative rate: 0.0500\n",
      "False positive rate: 0.0000\n",
      "\n",
      "Metrics for class MITM:\n",
      "True negative rate: 0.9951\n",
      "True positive rate: 1.0000\n",
      "False negative rate: 0.0000\n",
      "False positive rate: 0.0049\n",
      "\n",
      "Metrics for class normal:\n",
      "True negative rate: 0.9851\n",
      "True positive rate: 0.9915\n",
      "False negative rate: 0.0085\n",
      "False positive rate: 0.0149\n",
      "\n",
      "Metrics for class physical fault:\n",
      "True negative rate: 0.9949\n",
      "True positive rate: 1.0000\n",
      "False negative rate: 0.0000\n",
      "False positive rate: 0.0051\n",
      "\n",
      "Metrics for class scan:\n",
      "True negative rate: 1.0000\n",
      "True positive rate: 0.0000\n",
      "False negative rate: 1.0000\n",
      "False positive rate: 0.0000\n"
     ]
    },
    {
     "name": "stderr",
     "output_type": "stream",
     "text": [
      "/home/orfeu/.local/lib/python3.10/site-packages/sklearn/metrics/_classification.py:1344: UndefinedMetricWarning: Precision and F-score are ill-defined and being set to 0.0 in labels with no predicted samples. Use `zero_division` parameter to control this behavior.\n",
      "  _warn_prf(average, modifier, msg_start, len(result))\n",
      "/home/orfeu/.local/lib/python3.10/site-packages/sklearn/metrics/_classification.py:1344: UndefinedMetricWarning: Precision and F-score are ill-defined and being set to 0.0 in labels with no predicted samples. Use `zero_division` parameter to control this behavior.\n",
      "  _warn_prf(average, modifier, msg_start, len(result))\n",
      "/home/orfeu/.local/lib/python3.10/site-packages/sklearn/metrics/_classification.py:1344: UndefinedMetricWarning: Precision and F-score are ill-defined and being set to 0.0 in labels with no predicted samples. Use `zero_division` parameter to control this behavior.\n",
      "  _warn_prf(average, modifier, msg_start, len(result))\n"
     ]
    }
   ],
   "source": [
    "KNN_attack_detection(df_attack_2)"
   ]
  },
  {
   "cell_type": "code",
   "execution_count": 52,
   "metadata": {},
   "outputs": [
    {
     "name": "stdout",
     "output_type": "stream",
     "text": [
      "taille 1254\n"
     ]
    },
    {
     "data": {
      "image/png": "[encoded data removed]",
      "text/plain": [
       "<Figure size 432x432 with 1 Axes>"
      ]
     },
     "metadata": {
      "needs_background": "light"
     },
     "output_type": "display_data"
    },
    {
     "name": "stdout",
     "output_type": "stream",
     "text": [
      "                precision    recall  f1-score   support\n",
      "\n",
      "           DoS       0.92      1.00      0.96        12\n",
      "          MITM       1.00      0.95      0.98        22\n",
      "        normal       0.99      0.99      0.99       181\n",
      "physical fault       1.00      1.00      1.00        36\n",
      "\n",
      "      accuracy                           0.99       251\n",
      "     macro avg       0.98      0.99      0.98       251\n",
      "  weighted avg       0.99      0.99      0.99       251\n",
      "\n",
      "\n",
      "Metrics for class DoS:\n",
      "True negative rate: 0.9958\n",
      "True positive rate: 1.0000\n",
      "False negative rate: 0.0000\n",
      "False positive rate: 0.0042\n",
      "\n",
      "Metrics for class MITM:\n",
      "True negative rate: 1.0000\n",
      "True positive rate: 0.9545\n",
      "False negative rate: 0.0455\n",
      "False positive rate: 0.0000\n",
      "\n",
      "Metrics for class normal:\n",
      "True negative rate: 0.9857\n",
      "True positive rate: 0.9945\n",
      "False negative rate: 0.0055\n",
      "False positive rate: 0.0143\n",
      "\n",
      "Metrics for class physical fault:\n",
      "True negative rate: 1.0000\n",
      "True positive rate: 1.0000\n",
      "False negative rate: 0.0000\n",
      "False positive rate: 0.0000\n"
     ]
    }
   ],
   "source": [
    "KNN_attack_detection(df_attack_3)"
   ]
  },
  {
   "cell_type": "code",
   "execution_count": 53,
   "metadata": {},
   "outputs": [
    {
     "name": "stdout",
     "output_type": "stream",
     "text": [
      "taille 1717\n"
     ]
    },
    {
     "data": {
      "image/png": "[encoded data removed]",
      "text/plain": [
       "<Figure size 432x432 with 1 Axes>"
      ]
     },
     "metadata": {
      "needs_background": "light"
     },
     "output_type": "display_data"
    },
    {
     "name": "stdout",
     "output_type": "stream",
     "text": [
      "                precision    recall  f1-score   support\n",
      "\n",
      "           DoS       0.94      1.00      0.97        29\n",
      "          MITM       1.00      0.98      0.99        56\n",
      "        normal       0.99      0.99      0.99       229\n",
      "physical fault       1.00      0.97      0.98        29\n",
      "          scan       0.00      0.00      0.00         1\n",
      "\n",
      "      accuracy                           0.99       344\n",
      "     macro avg       0.78      0.79      0.79       344\n",
      "  weighted avg       0.98      0.99      0.98       344\n",
      "\n",
      "\n",
      "Metrics for class DoS:\n",
      "True negative rate: 0.9937\n",
      "True positive rate: 1.0000\n",
      "False negative rate: 0.0000\n",
      "False positive rate: 0.0063\n",
      "\n",
      "Metrics for class MITM:\n",
      "True negative rate: 1.0000\n",
      "True positive rate: 0.9821\n",
      "False negative rate: 0.0179\n",
      "False positive rate: 0.0000\n",
      "\n",
      "Metrics for class normal:\n",
      "True negative rate: 0.9739\n",
      "True positive rate: 0.9913\n",
      "False negative rate: 0.0087\n",
      "False positive rate: 0.0261\n",
      "\n",
      "Metrics for class physical fault:\n",
      "True negative rate: 1.0000\n",
      "True positive rate: 0.9655\n",
      "False negative rate: 0.0345\n",
      "False positive rate: 0.0000\n",
      "\n",
      "Metrics for class scan:\n",
      "True negative rate: 1.0000\n",
      "True positive rate: 0.0000\n",
      "False negative rate: 1.0000\n",
      "False positive rate: 0.0000\n"
     ]
    },
    {
     "name": "stderr",
     "output_type": "stream",
     "text": [
      "/home/orfeu/.local/lib/python3.10/site-packages/sklearn/metrics/_classification.py:1344: UndefinedMetricWarning: Precision and F-score are ill-defined and being set to 0.0 in labels with no predicted samples. Use `zero_division` parameter to control this behavior.\n",
      "  _warn_prf(average, modifier, msg_start, len(result))\n",
      "/home/orfeu/.local/lib/python3.10/site-packages/sklearn/metrics/_classification.py:1344: UndefinedMetricWarning: Precision and F-score are ill-defined and being set to 0.0 in labels with no predicted samples. Use `zero_division` parameter to control this behavior.\n",
      "  _warn_prf(average, modifier, msg_start, len(result))\n",
      "/home/orfeu/.local/lib/python3.10/site-packages/sklearn/metrics/_classification.py:1344: UndefinedMetricWarning: Precision and F-score are ill-defined and being set to 0.0 in labels with no predicted samples. Use `zero_division` parameter to control this behavior.\n",
      "  _warn_prf(average, modifier, msg_start, len(result))\n"
     ]
    }
   ],
   "source": [
    "KNN_attack_detection(df_attack_4)"
   ]
  },
  {
   "cell_type": "code",
   "execution_count": 54,
   "metadata": {},
   "outputs": [
    {
     "name": "stdout",
     "output_type": "stream",
     "text": [
      "taille 7495\n"
     ]
    },
    {
     "data": {
      "image/png": "[encoded data removed]",
      "text/plain": [
       "<Figure size 432x432 with 1 Axes>"
      ]
     },
     "metadata": {
      "needs_background": "light"
     },
     "output_type": "display_data"
    },
    {
     "name": "stdout",
     "output_type": "stream",
     "text": [
      "                precision    recall  f1-score   support\n",
      "\n",
      "           DoS       0.82      0.94      0.87        52\n",
      "          MITM       0.93      0.96      0.94       188\n",
      "        normal       0.98      0.98      0.98      1119\n",
      "physical fault       0.96      0.96      0.96       137\n",
      "          scan       0.00      0.00      0.00         3\n",
      "\n",
      "      accuracy                           0.97      1499\n",
      "     macro avg       0.74      0.77      0.75      1499\n",
      "  weighted avg       0.97      0.97      0.97      1499\n",
      "\n",
      "\n",
      "Metrics for class DoS:\n",
      "True negative rate: 0.9924\n",
      "True positive rate: 0.9423\n",
      "False negative rate: 0.0577\n",
      "False positive rate: 0.0076\n",
      "\n",
      "Metrics for class MITM:\n",
      "True negative rate: 0.9901\n",
      "True positive rate: 0.9574\n",
      "False negative rate: 0.0426\n",
      "False positive rate: 0.0099\n",
      "\n",
      "Metrics for class normal:\n",
      "True negative rate: 0.9553\n",
      "True positive rate: 0.9759\n",
      "False negative rate: 0.0241\n",
      "False positive rate: 0.0447\n",
      "\n",
      "Metrics for class physical fault:\n",
      "True negative rate: 0.9963\n",
      "True positive rate: 0.9635\n",
      "False negative rate: 0.0365\n",
      "False positive rate: 0.0037\n",
      "\n",
      "Metrics for class scan:\n",
      "True negative rate: 1.0000\n",
      "True positive rate: 0.0000\n",
      "False negative rate: 1.0000\n",
      "False positive rate: 0.0000\n"
     ]
    },
    {
     "name": "stderr",
     "output_type": "stream",
     "text": [
      "/home/orfeu/.local/lib/python3.10/site-packages/sklearn/metrics/_classification.py:1344: UndefinedMetricWarning: Precision and F-score are ill-defined and being set to 0.0 in labels with no predicted samples. Use `zero_division` parameter to control this behavior.\n",
      "  _warn_prf(average, modifier, msg_start, len(result))\n",
      "/home/orfeu/.local/lib/python3.10/site-packages/sklearn/metrics/_classification.py:1344: UndefinedMetricWarning: Precision and F-score are ill-defined and being set to 0.0 in labels with no predicted samples. Use `zero_division` parameter to control this behavior.\n",
      "  _warn_prf(average, modifier, msg_start, len(result))\n",
      "/home/orfeu/.local/lib/python3.10/site-packages/sklearn/metrics/_classification.py:1344: UndefinedMetricWarning: Precision and F-score are ill-defined and being set to 0.0 in labels with no predicted samples. Use `zero_division` parameter to control this behavior.\n",
      "  _warn_prf(average, modifier, msg_start, len(result))\n"
     ]
    }
   ],
   "source": [
    "KNN_attack_detection(pd.concat([df_attack_1,df_attack_2,df_attack_3,df_attack_4]))"
   ]
  },
  {
   "cell_type": "code",
   "execution_count": 55,
   "metadata": {},
   "outputs": [
    {
     "name": "stdout",
     "output_type": "stream",
     "text": [
      "taille 10923\n"
     ]
    },
    {
     "data": {
      "image/png": "[encoded data removed]",
      "text/plain": [
       "<Figure size 432x432 with 1 Axes>"
      ]
     },
     "metadata": {
      "needs_background": "light"
     },
     "output_type": "display_data"
    },
    {
     "name": "stdout",
     "output_type": "stream",
     "text": [
      "                precision    recall  f1-score   support\n",
      "\n",
      "           DoS       0.95      0.97      0.96        73\n",
      "          MITM       0.96      0.93      0.94       196\n",
      "        normal       0.99      0.99      0.99      1790\n",
      "physical fault       0.98      1.00      0.99       124\n",
      "          scan       0.00      0.00      0.00         2\n",
      "\n",
      "      accuracy                           0.99      2185\n",
      "     macro avg       0.77      0.78      0.78      2185\n",
      "  weighted avg       0.98      0.99      0.98      2185\n",
      "\n",
      "\n",
      "Metrics for class DoS:\n",
      "True negative rate: 0.9981\n",
      "True positive rate: 0.9726\n",
      "False negative rate: 0.0274\n",
      "False positive rate: 0.0019\n",
      "\n",
      "Metrics for class MITM:\n",
      "True negative rate: 0.9960\n",
      "True positive rate: 0.9286\n",
      "False negative rate: 0.0714\n",
      "False positive rate: 0.0040\n",
      "\n",
      "Metrics for class normal:\n",
      "True negative rate: 0.9570\n",
      "True positive rate: 0.9922\n",
      "False negative rate: 0.0078\n",
      "False positive rate: 0.0430\n",
      "\n",
      "Metrics for class physical fault:\n",
      "True negative rate: 0.9985\n",
      "True positive rate: 1.0000\n",
      "False negative rate: 0.0000\n",
      "False positive rate: 0.0015\n",
      "\n",
      "Metrics for class scan:\n",
      "True negative rate: 1.0000\n",
      "True positive rate: 0.0000\n",
      "False negative rate: 1.0000\n",
      "False positive rate: 0.0000\n"
     ]
    },
    {
     "name": "stderr",
     "output_type": "stream",
     "text": [
      "/home/orfeu/.local/lib/python3.10/site-packages/sklearn/metrics/_classification.py:1344: UndefinedMetricWarning: Precision and F-score are ill-defined and being set to 0.0 in labels with no predicted samples. Use `zero_division` parameter to control this behavior.\n",
      "  _warn_prf(average, modifier, msg_start, len(result))\n",
      "/home/orfeu/.local/lib/python3.10/site-packages/sklearn/metrics/_classification.py:1344: UndefinedMetricWarning: Precision and F-score are ill-defined and being set to 0.0 in labels with no predicted samples. Use `zero_division` parameter to control this behavior.\n",
      "  _warn_prf(average, modifier, msg_start, len(result))\n",
      "/home/orfeu/.local/lib/python3.10/site-packages/sklearn/metrics/_classification.py:1344: UndefinedMetricWarning: Precision and F-score are ill-defined and being set to 0.0 in labels with no predicted samples. Use `zero_division` parameter to control this behavior.\n",
      "  _warn_prf(average, modifier, msg_start, len(result))\n"
     ]
    }
   ],
   "source": [
    "KNN_attack_detection(pd.concat([df_normal,df_attack_1,df_attack_2,df_attack_3,df_attack_4]))"
   ]
  },
  {
   "cell_type": "markdown",
   "metadata": {},
   "source": [
    "### 3 - Random Forest"
   ]
  },
  {
   "cell_type": "code",
   "execution_count": 71,
   "metadata": {},
   "outputs": [
    {
     "data": {
      "image/png": "[encoded data removed]",
      "text/plain": [
       "<Figure size 432x432 with 1 Axes>"
      ]
     },
     "metadata": {
      "needs_background": "light"
     },
     "output_type": "display_data"
    },
    {
     "name": "stdout",
     "output_type": "stream",
     "text": [
      "              precision    recall  f1-score   support\n",
      "\n",
      "           0       0.99      1.00      1.00       321\n",
      "           1       1.00      0.98      0.99       109\n",
      "           2       1.00      0.98      0.99        54\n",
      "\n",
      "    accuracy                           0.99       484\n",
      "   macro avg       1.00      0.99      0.99       484\n",
      "weighted avg       0.99      0.99      0.99       484\n",
      "\n",
      "\n",
      "Metrics for class 0:\n",
      "True negative rate: 0.9816\n",
      "True positive rate: 1.0000\n",
      "False negative rate: 0.0000\n",
      "False positive rate: 0.0184\n",
      "\n",
      "Metrics for class 1:\n",
      "True negative rate: 1.0000\n",
      "True positive rate: 0.9817\n",
      "False negative rate: 0.0183\n",
      "False positive rate: 0.0000\n",
      "\n",
      "Metrics for class 2:\n",
      "True negative rate: 1.0000\n",
      "True positive rate: 0.9815\n",
      "False negative rate: 0.0185\n",
      "False positive rate: 0.0000\n"
     ]
    }
   ],
   "source": [
    "randomForest_attack_detector(df_attack_1)"
   ]
  },
  {
   "cell_type": "code",
   "execution_count": 72,
   "metadata": {},
   "outputs": [
    {
     "data": {
      "image/png": "[encoded data removed]",
      "text/plain": [
       "<Figure size 432x432 with 1 Axes>"
      ]
     },
     "metadata": {
      "needs_background": "light"
     },
     "output_type": "display_data"
    },
    {
     "name": "stdout",
     "output_type": "stream",
     "text": [
      "              precision    recall  f1-score   support\n",
      "\n",
      "           0       0.99      1.00      0.99      1790\n",
      "           1       0.99      0.94      0.97       196\n",
      "           2       0.98      0.97      0.98       124\n",
      "           3       0.00      0.00      0.00         2\n",
      "           4       0.99      0.97      0.98        73\n",
      "\n",
      "    accuracy                           0.99      2185\n",
      "   macro avg       0.79      0.78      0.78      2185\n",
      "weighted avg       0.99      0.99      0.99      2185\n",
      "\n",
      "\n",
      "Metrics for class 0:\n",
      "True negative rate: 0.9494\n",
      "True positive rate: 0.9972\n",
      "False negative rate: 0.0028\n",
      "False positive rate: 0.0506\n",
      "\n",
      "Metrics for class 1:\n",
      "True negative rate: 0.9995\n",
      "True positive rate: 0.9388\n",
      "False negative rate: 0.0612\n",
      "False positive rate: 0.0005\n",
      "\n",
      "Metrics for class 2:\n",
      "True negative rate: 0.9990\n",
      "True positive rate: 0.9677\n",
      "False negative rate: 0.0323\n",
      "False positive rate: 0.0010\n",
      "\n",
      "Metrics for class 3:\n",
      "True negative rate: 0.9995\n",
      "True positive rate: 0.0000\n",
      "False negative rate: 1.0000\n",
      "False positive rate: 0.0005\n",
      "\n",
      "Metrics for class 4:\n",
      "True negative rate: 0.9995\n",
      "True positive rate: 0.9726\n",
      "False negative rate: 0.0274\n",
      "False positive rate: 0.0005\n"
     ]
    }
   ],
   "source": [
    "randomForest_attack_detector(pd.concat([df_normal,df_attack_1,df_attack_2,df_attack_3,df_attack_4]))"
   ]
  },
  {
   "cell_type": "code",
   "execution_count": 16,
   "metadata": {},
   "outputs": [
    {
     "data": {
      "text/plain": [
       "array([6., 7., 2.])"
      ]
     },
     "execution_count": 16,
     "metadata": {},
     "output_type": "execute_result"
    }
   ],
   "source": [
    "np.round([5.8,7,2.2])"
   ]
  },
  {
   "cell_type": "code",
   "execution_count": null,
   "metadata": {},
   "outputs": [],
   "source": []
  }
 ],
 "metadata": {
  "kernelspec": {
   "display_name": "Python 3",
   "language": "python",
   "name": "python3"
  },
  "language_info": {
   "codemirror_mode": {
    "name": "ipython",
    "version": 3
   },
   "file_extension": ".py",
   "mimetype": "text/x-python",
   "name": "python",
   "nbconvert_exporter": "python",
   "pygments_lexer": "ipython3",
   "version": "3.10.12"
  },
  "orig_nbformat": 4
 },
 "nbformat": 4,
 "nbformat_minor": 2
}
