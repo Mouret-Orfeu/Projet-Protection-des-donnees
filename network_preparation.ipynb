{
 "cells": [
  {
   "cell_type": "markdown",
   "metadata": {},
   "source": [
    "# Network attacks - Preparation de données"
   ]
  },
  {
   "cell_type": "markdown",
   "metadata": {},
   "source": [
    "## I - Modules"
   ]
  },
  {
   "cell_type": "code",
   "execution_count": 1,
   "metadata": {},
   "outputs": [
    {
     "name": "stderr",
     "output_type": "stream",
     "text": [
      "/usr/lib/python3/dist-packages/scipy/__init__.py:146: UserWarning: A NumPy version >=1.17.3 and <1.25.0 is required for this version of SciPy (detected version 1.25.0\n",
      "  warnings.warn(f\"A NumPy version >={np_minversion} and <{np_maxversion}\"\n"
     ]
    }
   ],
   "source": [
    "import pandas as pd\n",
    "from sklearn.model_selection import train_test_split\n",
    "import os"
   ]
  },
  {
   "cell_type": "markdown",
   "metadata": {},
   "source": [
    "## II - Charger donnée"
   ]
  },
  {
   "cell_type": "code",
   "execution_count": 2,
   "metadata": {},
   "outputs": [],
   "source": [
    "def load_dataset_keeping_proportions(file_path, size):\n",
    "    def stratified_sample(df, size_frac):\n",
    "        if 'label' in df.columns:\n",
    "            # Use train_test_split from sklearn to reduce the dataset while keeping label proportions\n",
    "            _, df_reduced = train_test_split(df, test_size=size_frac, stratify=df['label'], random_state=42)\n",
    "            return df_reduced\n",
    "        else:\n",
    "            # If 'label' column is not present, return a regular sampled subset\n",
    "            return df.sample(frac=size_frac, random_state=42)\n",
    "\n",
    "    # Map size input to fractions\n",
    "    size_map = {\"full\": 1, \"/2\": 0.5, \"/4\": 0.25, \"/10\": 0.1, \"/100\": 0.01, \"/1000\": 0.001}\n",
    "\n",
    "    # Load the dataset\n",
    "    df = pd.read_csv(file_path)\n",
    "\n",
    "    # Apply stratified sampling if size is not 'full'\n",
    "    size_frac = size_map.get(size, 1)  # Default to 'full' if size not recognized\n",
    "    if size != \"full\":\n",
    "        df = stratified_sample(df, size_frac)\n",
    "\n",
    "    return df\n",
    "\n"
   ]
  },
  {
   "cell_type": "code",
   "execution_count": 3,
   "metadata": {},
   "outputs": [],
   "source": [
    "# Applying the function to each file\n",
    "df_normal = load_dataset_keeping_proportions(\"network/normal.csv\", \"/1000\")  \n",
    "df_attack_1 = load_dataset_keeping_proportions(\"network/attack_1.csv\", \"/1000\")\n",
    "df_attack_2 = load_dataset_keeping_proportions(\"network/attack_2.csv\", \"/1000\")\n",
    "df_attack_3 = load_dataset_keeping_proportions(\"network/attack_3.csv\", \"/1000\")\n",
    "df_attack_4 = load_dataset_keeping_proportions(\"network/attack_4.csv\", \"/1000\")\n",
    "\n",
    "#all_data_concat_df = pd.concat([df_normal, df_attack_1, df_attack_2, df_attack_3, df_attack_4], ignore_index=True)"
   ]
  },
  {
   "cell_type": "markdown",
   "metadata": {},
   "source": [
    "## III - Nettoyer donnée"
   ]
  },
  {
   "cell_type": "markdown",
   "metadata": {},
   "source": [
    "Nous allons nettoyer la donnée avec les informations obtenus à partir de l'exploration"
   ]
  },
  {
   "cell_type": "markdown",
   "metadata": {},
   "source": [
    "### 1 - Supprimer espaces superflus"
   ]
  },
  {
   "cell_type": "markdown",
   "metadata": {},
   "source": [
    "Certaines colonnes sont écrites \" sport\" et d'autres \"sport\", supprimons les espaces."
   ]
  },
  {
   "cell_type": "code",
   "execution_count": 7,
   "metadata": {},
   "outputs": [],
   "source": [
    "def del_espace(string):\n",
    "    ret = \"\"\n",
    "    for i in range(len(string)):\n",
    "        if string[i]!=\" \":\n",
    "            ret+=string[i]\n",
    "    return ret\n"
   ]
  },
  {
   "cell_type": "code",
   "execution_count": 8,
   "metadata": {},
   "outputs": [],
   "source": [
    "def clean_espace(df):\n",
    "    df_ret = df.copy()\n",
    "    for col in df_ret.columns:\n",
    "        df_ret = df_ret.rename(columns={col:del_espace(col)})\n",
    "    return df_ret"
   ]
  },
  {
   "cell_type": "code",
   "execution_count": null,
   "metadata": {},
   "outputs": [
    {
     "data": {
      "text/plain": [
       "Index(['Time', ' mac_s', ' mac_d', ' ip_s', ' ip_d', ' sport', ' dport',\n",
       "       ' proto', ' flags', ' size', ' modbus_fn', ' n_pkt_src', ' n_pkt_dst',\n",
       "       ' modbus_response', ' label_n', ' label'],\n",
       "      dtype='object')"
      ]
     },
     "execution_count": 7,
     "metadata": {},
     "output_type": "execute_result"
    }
   ],
   "source": [
    "df_attack_1.columns"
   ]
  },
  {
   "cell_type": "code",
   "execution_count": null,
   "metadata": {},
   "outputs": [
    {
     "data": {
      "text/plain": [
       "Index(['Time', 'mac_s', 'mac_d', 'ip_s', 'ip_d', 'sport', 'dport', 'proto',\n",
       "       'flags', 'size', 'modbus_fn', 'n_pkt_src', 'n_pkt_dst',\n",
       "       'modbus_response', 'label_n', 'label'],\n",
       "      dtype='object')"
      ]
     },
     "execution_count": 8,
     "metadata": {},
     "output_type": "execute_result"
    }
   ],
   "source": [
    "cleaned_attack_1 = clean_espace(df_attack_1)\n",
    "cleaned_attack_1.columns"
   ]
  },
  {
   "cell_type": "markdown",
   "metadata": {},
   "source": [
    "Cela a fonctionné. Applicons cela à tous les dataset."
   ]
  },
  {
   "cell_type": "code",
   "execution_count": null,
   "metadata": {},
   "outputs": [],
   "source": [
    "cleaned_normal = clean_espace(df_normal)\n",
    "cleaned_attack_2 = clean_espace(df_attack_2)\n",
    "cleaned_attack_3 = clean_espace(df_attack_3)\n",
    "cleaned_attack_4 = clean_espace(df_attack_4)\n",
    "#all_data_concat_df = clean_espace(all_data_concat_df)"
   ]
  },
  {
   "cell_type": "code",
   "execution_count": null,
   "metadata": {},
   "outputs": [],
   "source": [
    "# on drop ce dont on a pas besoin de la ram\n",
    "del df_normal\n",
    "del df_attack_1\n",
    "del df_attack_2\n",
    "del df_attack_3\n",
    "del df_attack_4"
   ]
  },
  {
   "cell_type": "markdown",
   "metadata": {},
   "source": [
    "Vérifions que tous les dataset ont désormais les mêmes colonnes : "
   ]
  },
  {
   "cell_type": "code",
   "execution_count": null,
   "metadata": {},
   "outputs": [
    {
     "name": "stdout",
     "output_type": "stream",
     "text": [
      "True\n"
     ]
    }
   ],
   "source": [
    "print(list(cleaned_normal.columns)==list(cleaned_attack_2.columns) and\n",
    "      list(cleaned_attack_1.columns)==list(cleaned_attack_2.columns) and \n",
    "      list(cleaned_attack_1.columns)==list(cleaned_attack_3.columns) and \n",
    "      list(cleaned_attack_1.columns)==list(cleaned_attack_3.columns))"
   ]
  },
  {
   "cell_type": "markdown",
   "metadata": {},
   "source": [
    "### 2 - Supprimer de colonnes (par exemple catégorielles, temporelles, ou fortement corrélées)"
   ]
  },
  {
   "cell_type": "markdown",
   "metadata": {},
   "source": [
    "Cela peut être utile de supprimer les données catégorielles qui ne peuvent pas être prises en compte par certains algorithms"
   ]
  },
  {
   "cell_type": "code",
   "execution_count": 9,
   "metadata": {},
   "outputs": [],
   "source": [
    "def clean_category(df):\n",
    "    df_ret = df.drop(\"Time\",axis=1)\n",
    "    df_ret = df_ret.drop(\"mac_s\",axis=1)\n",
    "    df_ret = df_ret.drop(\"mac_d\",axis=1)\n",
    "    df_ret = df_ret.drop(\"ip_s\",axis=1)\n",
    "    df_ret = df_ret.drop(\"ip_d\",axis=1)\n",
    "    df_ret = df_ret.drop(\"modbus_fn\",axis=1)\n",
    "    df_ret = df_ret.drop(\"modbus_response\",axis=1)\n",
    "    df_ret = df_ret.drop(\"label_n\",axis=1)\n",
    "    df_ret = df_ret.drop(\"proto\",axis=1)\n",
    "\n",
    "    # Tout ça c'est corrélé à s_port\n",
    "    df_ret = df_ret.drop(\"n_pkt_src\",axis=1)\n",
    "    df_ret = df_ret.drop(\"n_pkt_dst\",axis=1)\n",
    "    df_ret = df_ret.drop(\"dport\",axis=1)\n",
    "\n",
    "    \n",
    "\n",
    "\n",
    "    return df_ret"
   ]
  },
  {
   "cell_type": "code",
   "execution_count": null,
   "metadata": {},
   "outputs": [],
   "source": [
    "cleaned_normal = clean_category(cleaned_normal)\n",
    "cleaned_attack_1 = clean_category(cleaned_attack_1)\n",
    "cleaned_attack_2 = clean_category(cleaned_attack_2)\n",
    "cleaned_attack_3 = clean_category(cleaned_attack_3)\n",
    "cleaned_attack_4 = clean_category(cleaned_attack_4)\n",
    "#all_data_concat_df = clean_category(all_data_concat_df)"
   ]
  },
  {
   "cell_type": "markdown",
   "metadata": {},
   "source": [
    "Vérifions :"
   ]
  },
  {
   "cell_type": "code",
   "execution_count": null,
   "metadata": {},
   "outputs": [
    {
     "data": {
      "text/html": [
       "<div>\n",
       "<style scoped>\n",
       "    .dataframe tbody tr th:only-of-type {\n",
       "        vertical-align: middle;\n",
       "    }\n",
       "\n",
       "    .dataframe tbody tr th {\n",
       "        vertical-align: top;\n",
       "    }\n",
       "\n",
       "    .dataframe thead th {\n",
       "        text-align: right;\n",
       "    }\n",
       "</style>\n",
       "<table border=\"1\" class=\"dataframe\">\n",
       "  <thead>\n",
       "    <tr style=\"text-align: right;\">\n",
       "      <th></th>\n",
       "      <th>sport</th>\n",
       "      <th>flags</th>\n",
       "      <th>size</th>\n",
       "      <th>label</th>\n",
       "    </tr>\n",
       "  </thead>\n",
       "  <tbody>\n",
       "    <tr>\n",
       "      <th>5473660</th>\n",
       "      <td>61516</td>\n",
       "      <td>11000</td>\n",
       "      <td>66</td>\n",
       "      <td>normal</td>\n",
       "    </tr>\n",
       "    <tr>\n",
       "      <th>4654798</th>\n",
       "      <td>502</td>\n",
       "      <td>11000</td>\n",
       "      <td>65</td>\n",
       "      <td>normal</td>\n",
       "    </tr>\n",
       "    <tr>\n",
       "      <th>1307506</th>\n",
       "      <td>61517</td>\n",
       "      <td>11000</td>\n",
       "      <td>66</td>\n",
       "      <td>normal</td>\n",
       "    </tr>\n",
       "    <tr>\n",
       "      <th>1575326</th>\n",
       "      <td>502</td>\n",
       "      <td>11000</td>\n",
       "      <td>65</td>\n",
       "      <td>normal</td>\n",
       "    </tr>\n",
       "    <tr>\n",
       "      <th>7189223</th>\n",
       "      <td>502</td>\n",
       "      <td>11000</td>\n",
       "      <td>64</td>\n",
       "      <td>normal</td>\n",
       "    </tr>\n",
       "  </tbody>\n",
       "</table>\n",
       "</div>"
      ],
      "text/plain": [
       "         sport  flags  size   label\n",
       "5473660  61516  11000    66  normal\n",
       "4654798    502  11000    65  normal\n",
       "1307506  61517  11000    66  normal\n",
       "1575326    502  11000    65  normal\n",
       "7189223    502  11000    64  normal"
      ]
     },
     "execution_count": 14,
     "metadata": {},
     "output_type": "execute_result"
    }
   ],
   "source": [
    "cleaned_normal.head()"
   ]
  },
  {
   "cell_type": "code",
   "execution_count": null,
   "metadata": {},
   "outputs": [
    {
     "data": {
      "text/html": [
       "<div>\n",
       "<style scoped>\n",
       "    .dataframe tbody tr th:only-of-type {\n",
       "        vertical-align: middle;\n",
       "    }\n",
       "\n",
       "    .dataframe tbody tr th {\n",
       "        vertical-align: top;\n",
       "    }\n",
       "\n",
       "    .dataframe thead th {\n",
       "        text-align: right;\n",
       "    }\n",
       "</style>\n",
       "<table border=\"1\" class=\"dataframe\">\n",
       "  <thead>\n",
       "    <tr style=\"text-align: right;\">\n",
       "      <th></th>\n",
       "      <th>sport</th>\n",
       "      <th>flags</th>\n",
       "      <th>size</th>\n",
       "      <th>label</th>\n",
       "    </tr>\n",
       "  </thead>\n",
       "  <tbody>\n",
       "    <tr>\n",
       "      <th>2987365</th>\n",
       "      <td>502.0</td>\n",
       "      <td>11000.0</td>\n",
       "      <td>64</td>\n",
       "      <td>MITM</td>\n",
       "    </tr>\n",
       "    <tr>\n",
       "      <th>3302474</th>\n",
       "      <td>56667.0</td>\n",
       "      <td>11000.0</td>\n",
       "      <td>66</td>\n",
       "      <td>normal</td>\n",
       "    </tr>\n",
       "    <tr>\n",
       "      <th>2289618</th>\n",
       "      <td>502.0</td>\n",
       "      <td>11000.0</td>\n",
       "      <td>65</td>\n",
       "      <td>normal</td>\n",
       "    </tr>\n",
       "    <tr>\n",
       "      <th>3634355</th>\n",
       "      <td>502.0</td>\n",
       "      <td>11000.0</td>\n",
       "      <td>65</td>\n",
       "      <td>physical fault</td>\n",
       "    </tr>\n",
       "    <tr>\n",
       "      <th>1682246</th>\n",
       "      <td>502.0</td>\n",
       "      <td>11000.0</td>\n",
       "      <td>64</td>\n",
       "      <td>normal</td>\n",
       "    </tr>\n",
       "  </tbody>\n",
       "</table>\n",
       "</div>"
      ],
      "text/plain": [
       "           sport    flags  size           label\n",
       "2987365    502.0  11000.0    64            MITM\n",
       "3302474  56667.0  11000.0    66          normal\n",
       "2289618    502.0  11000.0    65          normal\n",
       "3634355    502.0  11000.0    65  physical fault\n",
       "1682246    502.0  11000.0    64          normal"
      ]
     },
     "execution_count": 15,
     "metadata": {},
     "output_type": "execute_result"
    }
   ],
   "source": [
    "cleaned_attack_1.head()"
   ]
  },
  {
   "cell_type": "markdown",
   "metadata": {},
   "source": [
    "### 3 - Supprimer les NaN"
   ]
  },
  {
   "cell_type": "code",
   "execution_count": null,
   "metadata": {},
   "outputs": [
    {
     "name": "stdout",
     "output_type": "stream",
     "text": [
      "sport False\n",
      "flags False\n",
      "size False\n",
      "label False\n"
     ]
    }
   ],
   "source": [
    "for k in cleaned_attack_1.columns:\n",
    "    print(k, cleaned_attack_1[k].isna().any())"
   ]
  },
  {
   "cell_type": "code",
   "execution_count": null,
   "metadata": {},
   "outputs": [],
   "source": [
    "# A voir pour ne pas drop tous les NaN, ils sont peut être porteur d'information\n",
    "cleaned_normal = cleaned_normal.dropna(subset=[\"sport\"])\n",
    "cleaned_attack_1 = cleaned_attack_1.dropna(subset=[\"sport\"])\n",
    "cleaned_attack_2 = cleaned_attack_2.dropna(subset=[\"sport\"])\n",
    "cleaned_attack_3 = cleaned_attack_3.dropna(subset=[\"sport\"])\n",
    "cleaned_attack_4 = cleaned_attack_4.dropna(subset=[\"sport\"])\n",
    "#all_data_concat_df = all_data_concat_df.dropna(subset=[\"sport\"])"
   ]
  },
  {
   "cell_type": "markdown",
   "metadata": {},
   "source": [
    "Vérifions que ça a retiré tous les NaN :"
   ]
  },
  {
   "cell_type": "code",
   "execution_count": null,
   "metadata": {},
   "outputs": [],
   "source": [
    "# On ne retire pas forcément tous les NaN \n",
    "# for k in cleaned_attack_1.columns:\n",
    "#     print(k, cleaned_attack_1[k].isna().any())"
   ]
  },
  {
   "cell_type": "code",
   "execution_count": null,
   "metadata": {},
   "outputs": [],
   "source": [
    "# On s'assure que la colonne d'indice n'ets pas compté comme une colonne\n",
    "cleaned_normal.head()\n",
    "cleaned_attack_1.reset_index(drop=True, inplace=True)\n",
    "cleaned_attack_2.reset_index(drop=True, inplace=True)\n",
    "cleaned_attack_3.reset_index(drop=True, inplace=True)\n",
    "cleaned_attack_4.reset_index(drop=True, inplace=True)\n",
    "#all_data_concat_df.reset_index(drop=True, inplace=True)\n",
    "\n"
   ]
  },
  {
   "cell_type": "code",
   "execution_count": 10,
   "metadata": {},
   "outputs": [],
   "source": [
    "# Definition ud'un fonction de préparation (qui effectue toutes les opérations de nettoyage)\n",
    "\n",
    "def prepare(df):\n",
    "    def_ret = clean_espace(df)\n",
    "    def_ret = clean_category(def_ret)\n",
    "    def_ret = def_ret.dropna(subset=[\"sport\"])\n",
    "    def_ret.reset_index(drop=True, inplace=True) \n",
    "\n",
    "    return def_ret"
   ]
  },
  {
   "cell_type": "markdown",
   "metadata": {},
   "source": [
    "## IV - Enregistrer données nettoyées"
   ]
  },
  {
   "cell_type": "code",
   "execution_count": 11,
   "metadata": {},
   "outputs": [],
   "source": [
    "# create the directory if it doesn't exist\n",
    "if not os.path.exists(\"network/all_data_concat\"):\n",
    "    os.makedirs(\"network/all_data_concat\")\n",
    "\n",
    "if not os.path.exists(\"network/all_data_concat/full_size\"):\n",
    "    os.makedirs(\"network/all_data_concat/full_size\")\n",
    "\n",
    "if not os.path.exists(\"network/all_data_concat/divided_by_10\"):\n",
    "    os.makedirs(\"network/all_data_concat/divided_by_10\")\n",
    "\n",
    "if not os.path.exists(\"network/all_data_concat/divided_by_100\"):\n",
    "    os.makedirs(\"network/all_data_concat/divided_by_100\")\n",
    "\n",
    "if not os.path.exists(\"network/all_data_concat/divided_by_1000\"):\n",
    "    os.makedirs(\"network/all_data_concat/divided_by_1000\")\n",
    "\n",
    "if not os.path.exists(\"preparation/network\"):\n",
    "    os.makedirs(\"preparation/network\")\n",
    "\n",
    "if not os.path.exists(\"preparation/network/all_data_concat\"):\n",
    "    os.makedirs(\"preparation/network/all_data_concat\")\n"
   ]
  },
  {
   "cell_type": "code",
   "execution_count": null,
   "metadata": {},
   "outputs": [],
   "source": [
    "cleaned_normal.to_csv(\"preparation/network_normal.csv\", index=False)\n",
    "cleaned_attack_1.to_csv(\"preparation/network_1.csv\", index=False)\n",
    "cleaned_attack_2.to_csv(\"preparation/network_2.csv\", index=False)\n",
    "cleaned_attack_3.to_csv(\"preparation/network_3.csv\", index=False)\n",
    "cleaned_attack_4.to_csv(\"preparation/network_4.csv\", index=False)"
   ]
  },
  {
   "cell_type": "code",
   "execution_count": null,
   "metadata": {},
   "outputs": [],
   "source": [
    "# drop the datasets that are not needed anymore\n",
    "del cleaned_normal\n",
    "del cleaned_attack_2\n",
    "del cleaned_attack_3\n",
    "del cleaned_attack_4"
   ]
  },
  {
   "cell_type": "code",
   "execution_count": null,
   "metadata": {},
   "outputs": [],
   "source": [
    "df = pd.read_csv(\"network/attack_1.csv\")"
   ]
  },
  {
   "cell_type": "code",
   "execution_count": 12,
   "metadata": {},
   "outputs": [
    {
     "ename": "ParserError",
     "evalue": "Error tokenizing data. C error: Calling read(nbytes) on source failed. Try engine='python'.",
     "output_type": "error",
     "traceback": [
      "\u001b[0;31m---------------------------------------------------------------------------\u001b[0m",
      "\u001b[0;31mParserError\u001b[0m                               Traceback (most recent call last)",
      "\u001b[0;32m/tmp/ipykernel_82872/934085632.py\u001b[0m in \u001b[0;36m<module>\u001b[0;34m\u001b[0m\n\u001b[1;32m     22\u001b[0m     \u001b[0;32mfor\u001b[0m \u001b[0mfile_path\u001b[0m \u001b[0;32min\u001b[0m \u001b[0mfile_paths\u001b[0m\u001b[0;34m:\u001b[0m\u001b[0;34m\u001b[0m\u001b[0;34m\u001b[0m\u001b[0m\n\u001b[1;32m     23\u001b[0m         \u001b[0;31m# Load and prepare each dataset\u001b[0m\u001b[0;34m\u001b[0m\u001b[0;34m\u001b[0m\u001b[0m\n\u001b[0;32m---> 24\u001b[0;31m         \u001b[0mdf\u001b[0m \u001b[0;34m=\u001b[0m \u001b[0mload_dataset_keeping_proportions\u001b[0m\u001b[0;34m(\u001b[0m\u001b[0mfile_path\u001b[0m\u001b[0;34m,\u001b[0m \u001b[0msize\u001b[0m\u001b[0;34m)\u001b[0m\u001b[0;34m\u001b[0m\u001b[0;34m\u001b[0m\u001b[0m\n\u001b[0m\u001b[1;32m     25\u001b[0m         \u001b[0mprepared_df\u001b[0m \u001b[0;34m=\u001b[0m \u001b[0mprepare\u001b[0m\u001b[0;34m(\u001b[0m\u001b[0mdf\u001b[0m\u001b[0;34m)\u001b[0m\u001b[0;34m\u001b[0m\u001b[0;34m\u001b[0m\u001b[0m\n\u001b[1;32m     26\u001b[0m \u001b[0;34m\u001b[0m\u001b[0m\n",
      "\u001b[0;32m/tmp/ipykernel_82872/4118230963.py\u001b[0m in \u001b[0;36mload_dataset_keeping_proportions\u001b[0;34m(file_path, size)\u001b[0m\n\u001b[1;32m     13\u001b[0m \u001b[0;34m\u001b[0m\u001b[0m\n\u001b[1;32m     14\u001b[0m     \u001b[0;31m# Load the dataset\u001b[0m\u001b[0;34m\u001b[0m\u001b[0;34m\u001b[0m\u001b[0m\n\u001b[0;32m---> 15\u001b[0;31m     \u001b[0mdf\u001b[0m \u001b[0;34m=\u001b[0m \u001b[0mpd\u001b[0m\u001b[0;34m.\u001b[0m\u001b[0mread_csv\u001b[0m\u001b[0;34m(\u001b[0m\u001b[0mfile_path\u001b[0m\u001b[0;34m)\u001b[0m\u001b[0;34m\u001b[0m\u001b[0;34m\u001b[0m\u001b[0m\n\u001b[0m\u001b[1;32m     16\u001b[0m \u001b[0;34m\u001b[0m\u001b[0m\n\u001b[1;32m     17\u001b[0m     \u001b[0;31m# Apply stratified sampling if size is not 'full'\u001b[0m\u001b[0;34m\u001b[0m\u001b[0;34m\u001b[0m\u001b[0m\n",
      "\u001b[0;32m/usr/local/lib/python3.10/dist-packages/pandas/util/_decorators.py\u001b[0m in \u001b[0;36mwrapper\u001b[0;34m(*args, **kwargs)\u001b[0m\n\u001b[1;32m    209\u001b[0m                 \u001b[0;32melse\u001b[0m\u001b[0;34m:\u001b[0m\u001b[0;34m\u001b[0m\u001b[0;34m\u001b[0m\u001b[0m\n\u001b[1;32m    210\u001b[0m                     \u001b[0mkwargs\u001b[0m\u001b[0;34m[\u001b[0m\u001b[0mnew_arg_name\u001b[0m\u001b[0;34m]\u001b[0m \u001b[0;34m=\u001b[0m \u001b[0mnew_arg_value\u001b[0m\u001b[0;34m\u001b[0m\u001b[0;34m\u001b[0m\u001b[0m\n\u001b[0;32m--> 211\u001b[0;31m             \u001b[0;32mreturn\u001b[0m \u001b[0mfunc\u001b[0m\u001b[0;34m(\u001b[0m\u001b[0;34m*\u001b[0m\u001b[0margs\u001b[0m\u001b[0;34m,\u001b[0m \u001b[0;34m**\u001b[0m\u001b[0mkwargs\u001b[0m\u001b[0;34m)\u001b[0m\u001b[0;34m\u001b[0m\u001b[0;34m\u001b[0m\u001b[0m\n\u001b[0m\u001b[1;32m    212\u001b[0m \u001b[0;34m\u001b[0m\u001b[0m\n\u001b[1;32m    213\u001b[0m         \u001b[0;32mreturn\u001b[0m \u001b[0mcast\u001b[0m\u001b[0;34m(\u001b[0m\u001b[0mF\u001b[0m\u001b[0;34m,\u001b[0m \u001b[0mwrapper\u001b[0m\u001b[0;34m)\u001b[0m\u001b[0;34m\u001b[0m\u001b[0;34m\u001b[0m\u001b[0m\n",
      "\u001b[0;32m/usr/local/lib/python3.10/dist-packages/pandas/util/_decorators.py\u001b[0m in \u001b[0;36mwrapper\u001b[0;34m(*args, **kwargs)\u001b[0m\n\u001b[1;32m    329\u001b[0m                     \u001b[0mstacklevel\u001b[0m\u001b[0;34m=\u001b[0m\u001b[0mfind_stack_level\u001b[0m\u001b[0;34m(\u001b[0m\u001b[0;34m)\u001b[0m\u001b[0;34m,\u001b[0m\u001b[0;34m\u001b[0m\u001b[0;34m\u001b[0m\u001b[0m\n\u001b[1;32m    330\u001b[0m                 )\n\u001b[0;32m--> 331\u001b[0;31m             \u001b[0;32mreturn\u001b[0m \u001b[0mfunc\u001b[0m\u001b[0;34m(\u001b[0m\u001b[0;34m*\u001b[0m\u001b[0margs\u001b[0m\u001b[0;34m,\u001b[0m \u001b[0;34m**\u001b[0m\u001b[0mkwargs\u001b[0m\u001b[0;34m)\u001b[0m\u001b[0;34m\u001b[0m\u001b[0;34m\u001b[0m\u001b[0m\n\u001b[0m\u001b[1;32m    332\u001b[0m \u001b[0;34m\u001b[0m\u001b[0m\n\u001b[1;32m    333\u001b[0m         \u001b[0;31m# error: \"Callable[[VarArg(Any), KwArg(Any)], Any]\" has no\u001b[0m\u001b[0;34m\u001b[0m\u001b[0;34m\u001b[0m\u001b[0m\n",
      "\u001b[0;32m/usr/local/lib/python3.10/dist-packages/pandas/io/parsers/readers.py\u001b[0m in \u001b[0;36mread_csv\u001b[0;34m(filepath_or_buffer, sep, delimiter, header, names, index_col, usecols, squeeze, prefix, mangle_dupe_cols, dtype, engine, converters, true_values, false_values, skipinitialspace, skiprows, skipfooter, nrows, na_values, keep_default_na, na_filter, verbose, skip_blank_lines, parse_dates, infer_datetime_format, keep_date_col, date_parser, dayfirst, cache_dates, iterator, chunksize, compression, thousands, decimal, lineterminator, quotechar, quoting, doublequote, escapechar, comment, encoding, encoding_errors, dialect, error_bad_lines, warn_bad_lines, on_bad_lines, delim_whitespace, low_memory, memory_map, float_precision, storage_options)\u001b[0m\n\u001b[1;32m    948\u001b[0m     \u001b[0mkwds\u001b[0m\u001b[0;34m.\u001b[0m\u001b[0mupdate\u001b[0m\u001b[0;34m(\u001b[0m\u001b[0mkwds_defaults\u001b[0m\u001b[0;34m)\u001b[0m\u001b[0;34m\u001b[0m\u001b[0;34m\u001b[0m\u001b[0m\n\u001b[1;32m    949\u001b[0m \u001b[0;34m\u001b[0m\u001b[0m\n\u001b[0;32m--> 950\u001b[0;31m     \u001b[0;32mreturn\u001b[0m \u001b[0m_read\u001b[0m\u001b[0;34m(\u001b[0m\u001b[0mfilepath_or_buffer\u001b[0m\u001b[0;34m,\u001b[0m \u001b[0mkwds\u001b[0m\u001b[0;34m)\u001b[0m\u001b[0;34m\u001b[0m\u001b[0;34m\u001b[0m\u001b[0m\n\u001b[0m\u001b[1;32m    951\u001b[0m \u001b[0;34m\u001b[0m\u001b[0m\n\u001b[1;32m    952\u001b[0m \u001b[0;34m\u001b[0m\u001b[0m\n",
      "\u001b[0;32m/usr/local/lib/python3.10/dist-packages/pandas/io/parsers/readers.py\u001b[0m in \u001b[0;36m_read\u001b[0;34m(filepath_or_buffer, kwds)\u001b[0m\n\u001b[1;32m    609\u001b[0m \u001b[0;34m\u001b[0m\u001b[0m\n\u001b[1;32m    610\u001b[0m     \u001b[0;32mwith\u001b[0m \u001b[0mparser\u001b[0m\u001b[0;34m:\u001b[0m\u001b[0;34m\u001b[0m\u001b[0;34m\u001b[0m\u001b[0m\n\u001b[0;32m--> 611\u001b[0;31m         \u001b[0;32mreturn\u001b[0m \u001b[0mparser\u001b[0m\u001b[0;34m.\u001b[0m\u001b[0mread\u001b[0m\u001b[0;34m(\u001b[0m\u001b[0mnrows\u001b[0m\u001b[0;34m)\u001b[0m\u001b[0;34m\u001b[0m\u001b[0;34m\u001b[0m\u001b[0m\n\u001b[0m\u001b[1;32m    612\u001b[0m \u001b[0;34m\u001b[0m\u001b[0m\n\u001b[1;32m    613\u001b[0m \u001b[0;34m\u001b[0m\u001b[0m\n",
      "\u001b[0;32m/usr/local/lib/python3.10/dist-packages/pandas/io/parsers/readers.py\u001b[0m in \u001b[0;36mread\u001b[0;34m(self, nrows)\u001b[0m\n\u001b[1;32m   1776\u001b[0m                     \u001b[0mcolumns\u001b[0m\u001b[0;34m,\u001b[0m\u001b[0;34m\u001b[0m\u001b[0;34m\u001b[0m\u001b[0m\n\u001b[1;32m   1777\u001b[0m                     \u001b[0mcol_dict\u001b[0m\u001b[0;34m,\u001b[0m\u001b[0;34m\u001b[0m\u001b[0;34m\u001b[0m\u001b[0m\n\u001b[0;32m-> 1778\u001b[0;31m                 \u001b[0;34m)\u001b[0m \u001b[0;34m=\u001b[0m \u001b[0mself\u001b[0m\u001b[0;34m.\u001b[0m\u001b[0m_engine\u001b[0m\u001b[0;34m.\u001b[0m\u001b[0mread\u001b[0m\u001b[0;34m(\u001b[0m  \u001b[0;31m# type: ignore[attr-defined]\u001b[0m\u001b[0;34m\u001b[0m\u001b[0;34m\u001b[0m\u001b[0m\n\u001b[0m\u001b[1;32m   1779\u001b[0m                     \u001b[0mnrows\u001b[0m\u001b[0;34m\u001b[0m\u001b[0;34m\u001b[0m\u001b[0m\n\u001b[1;32m   1780\u001b[0m                 )\n",
      "\u001b[0;32m/usr/local/lib/python3.10/dist-packages/pandas/io/parsers/c_parser_wrapper.py\u001b[0m in \u001b[0;36mread\u001b[0;34m(self, nrows)\u001b[0m\n\u001b[1;32m    228\u001b[0m         \u001b[0;32mtry\u001b[0m\u001b[0;34m:\u001b[0m\u001b[0;34m\u001b[0m\u001b[0;34m\u001b[0m\u001b[0m\n\u001b[1;32m    229\u001b[0m             \u001b[0;32mif\u001b[0m \u001b[0mself\u001b[0m\u001b[0;34m.\u001b[0m\u001b[0mlow_memory\u001b[0m\u001b[0;34m:\u001b[0m\u001b[0;34m\u001b[0m\u001b[0;34m\u001b[0m\u001b[0m\n\u001b[0;32m--> 230\u001b[0;31m                 \u001b[0mchunks\u001b[0m \u001b[0;34m=\u001b[0m \u001b[0mself\u001b[0m\u001b[0;34m.\u001b[0m\u001b[0m_reader\u001b[0m\u001b[0;34m.\u001b[0m\u001b[0mread_low_memory\u001b[0m\u001b[0;34m(\u001b[0m\u001b[0mnrows\u001b[0m\u001b[0;34m)\u001b[0m\u001b[0;34m\u001b[0m\u001b[0;34m\u001b[0m\u001b[0m\n\u001b[0m\u001b[1;32m    231\u001b[0m                 \u001b[0;31m# destructive to chunks\u001b[0m\u001b[0;34m\u001b[0m\u001b[0;34m\u001b[0m\u001b[0m\n\u001b[1;32m    232\u001b[0m                 \u001b[0mdata\u001b[0m \u001b[0;34m=\u001b[0m \u001b[0m_concatenate_chunks\u001b[0m\u001b[0;34m(\u001b[0m\u001b[0mchunks\u001b[0m\u001b[0;34m)\u001b[0m\u001b[0;34m\u001b[0m\u001b[0;34m\u001b[0m\u001b[0m\n",
      "\u001b[0;32m/usr/local/lib/python3.10/dist-packages/pandas/_libs/parsers.pyx\u001b[0m in \u001b[0;36mpandas._libs.parsers.TextReader.read_low_memory\u001b[0;34m()\u001b[0m\n",
      "\u001b[0;32m/usr/local/lib/python3.10/dist-packages/pandas/_libs/parsers.pyx\u001b[0m in \u001b[0;36mpandas._libs.parsers.TextReader._read_rows\u001b[0;34m()\u001b[0m\n",
      "\u001b[0;32m/usr/local/lib/python3.10/dist-packages/pandas/_libs/parsers.pyx\u001b[0m in \u001b[0;36mpandas._libs.parsers.TextReader._tokenize_rows\u001b[0;34m()\u001b[0m\n",
      "\u001b[0;32m/usr/local/lib/python3.10/dist-packages/pandas/_libs/parsers.pyx\u001b[0m in \u001b[0;36mpandas._libs.parsers.raise_parser_error\u001b[0;34m()\u001b[0m\n",
      "\u001b[0;31mParserError\u001b[0m: Error tokenizing data. C error: Calling read(nbytes) on source failed. Try engine='python'."
     ]
    }
   ],
   "source": [
    "# enregistrement des données concaténées de toutes les tailles\n",
    "\n",
    "#sizes = [\"full\", \"/10\", \"/100\", \"/1000\"]\n",
    "sizes = [\"/1000\"]\n",
    "#file_names = [\"full_size\", \"divided_by_10\", \"divided_by_100\", \"divided_by_1000\"]\n",
    "file_names = [\"divided_by_1000\"]\n",
    "\n",
    "size_to_name = dict(zip(sizes, file_names))\n",
    "\n",
    "file_paths = [\n",
    "    \"network/normal.csv\",\n",
    "    \"network/attack_1.csv\",\n",
    "    \"network/attack_2.csv\",\n",
    "    \"network/attack_3.csv\",\n",
    "    \"network/attack_4.csv\"\n",
    "]\n",
    "\n",
    "for size in sizes:\n",
    "    # Initialize an empty DataFrame for concatenated data\n",
    "    cleaned_all_data_concat = pd.DataFrame()\n",
    "\n",
    "    for file_path in file_paths:\n",
    "        # Load and prepare each dataset\n",
    "        df = load_dataset_keeping_proportions(file_path, size)\n",
    "        prepared_df = prepare(df)\n",
    "\n",
    "        # Concatenate to the cumulative DataFrame\n",
    "        cleaned_all_data_concat = pd.concat([cleaned_all_data_concat, prepared_df], ignore_index=True)\n",
    "    \n",
    "    # Save the concatenated and prepared data to CSV\n",
    "    #cleaned_all_data_concat.to_csv(\"preparation/network/all_data_concat/\" + size_to_name[size] + \"all_data_concat.csv\", index=False)\n",
    "    cleaned_all_data_concat.to_csv(\"preparation/network/all_data_concat/all_data_concat_\" + size_to_name[size] + \".csv\", index=False)\n",
    "    del cleaned_all_data_concat\n",
    "    "
   ]
  }
 ],
 "metadata": {
  "kernelspec": {
   "display_name": "Python 3",
   "language": "python",
   "name": "python3"
  },
  "language_info": {
   "codemirror_mode": {
    "name": "ipython",
    "version": 3
   },
   "file_extension": ".py",
   "mimetype": "text/x-python",
   "name": "python",
   "nbconvert_exporter": "python",
   "pygments_lexer": "ipython3",
   "version": "3.10.12"
  },
  "orig_nbformat": 4
 },
 "nbformat": 4,
 "nbformat_minor": 2
}
