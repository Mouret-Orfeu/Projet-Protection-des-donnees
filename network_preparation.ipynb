{
 "cells": [
  {
   "cell_type": "markdown",
   "metadata": {},
   "source": [
    "# Network attacks - Preparation de données"
   ]
  },
  {
   "cell_type": "markdown",
   "metadata": {},
   "source": [
    "## I - Modules"
   ]
  },
  {
   "cell_type": "code",
   "execution_count": 1,
   "metadata": {},
   "outputs": [],
   "source": [
    "import pandas as pd"
   ]
  },
  {
   "cell_type": "markdown",
   "metadata": {},
   "source": [
    "## II - Charger donnée"
   ]
  },
  {
   "cell_type": "code",
   "execution_count": 3,
   "metadata": {},
   "outputs": [],
   "source": [
    "def load_data(size):\n",
    "    if size==\"full\":\n",
    "        df_normal = pd.read_csv(\"network/normal.csv\")\n",
    "        df_attack_1 = pd.read_csv(\"network/attack_1.csv\")\n",
    "        df_attack_2 = pd.read_csv(\"network/attack_2.csv\")\n",
    "        df_attack_3 = pd.read_csv(\"network/attack_3.csv\")\n",
    "        df_attack_4 = pd.read_csv(\"network/attack_4.csv\")\n",
    "    \n",
    "    elif size==\"/2\":\n",
    "        df_normal = pd.read_csv(\"network/normal.csv\", skiprows=lambda x: x % 2 != 0)\n",
    "        df_attack_1 = pd.read_csv(\"network/attack_1.csv\", skiprows=lambda x: x % 2 != 0)\n",
    "        df_attack_2 = pd.read_csv(\"network/attack_2.csv\", skiprows=lambda x: x % 2 != 0)\n",
    "        df_attack_3 = pd.read_csv(\"network/attack_3.csv\", skiprows=lambda x: x % 2 != 0)\n",
    "        df_attack_4 = pd.read_csv(\"network/attack_4.csv\", skiprows=lambda x: x % 2 != 0)\n",
    "    \n",
    "    elif size==\"/4\":\n",
    "        df_normal = pd.read_csv(\"network/normal.csv\", skiprows=lambda x: x % 4 != 0)\n",
    "        df_attack_1 = pd.read_csv(\"network/attack_1.csv\", skiprows=lambda x: x % 4 != 0)\n",
    "        df_attack_2 = pd.read_csv(\"network/attack_2.csv\", skiprows=lambda x: x % 4 != 0)\n",
    "        df_attack_3 = pd.read_csv(\"network/attack_3.csv\", skiprows=lambda x: x % 4 != 0)\n",
    "        df_attack_4 = pd.read_csv(\"network/attack_4.csv\", skiprows=lambda x: x % 4 != 0)\n",
    "\n",
    "    elif size==\"/10\":\n",
    "        df_normal = pd.read_csv(\"network/normal.csv\", skiprows=lambda x: x % 10 != 0)\n",
    "        df_attack_1 = pd.read_csv(\"network/attack_1.csv\", skiprows=lambda x: x % 10 != 0)\n",
    "        df_attack_2 = pd.read_csv(\"network/attack_2.csv\", skiprows=lambda x: x % 10 != 0)\n",
    "        df_attack_3 = pd.read_csv(\"network/attack_3.csv\", skiprows=lambda x: x % 10 != 0)\n",
    "        df_attack_4 = pd.read_csv(\"network/attack_4.csv\", skiprows=lambda x: x % 10 != 0)\n",
    "    \n",
    "    elif size==\"/100\":\n",
    "        df_normal = pd.read_csv(\"network/normal.csv\", skiprows=lambda x: x % 100 != 0)\n",
    "        df_attack_1 = pd.read_csv(\"network/attack_1.csv\", skiprows=lambda x: x % 100 != 0)\n",
    "        df_attack_2 = pd.read_csv(\"network/attack_2.csv\", skiprows=lambda x: x % 100 != 0)\n",
    "        df_attack_3 = pd.read_csv(\"network/attack_3.csv\", skiprows=lambda x: x % 100 != 0)\n",
    "        df_attack_4 = pd.read_csv(\"network/attack_4.csv\", skiprows=lambda x: x % 100 != 0)\n",
    "    \n",
    "    elif size==\"/1000\":\n",
    "        df_normal = pd.read_csv(\"network/normal.csv\", skiprows=lambda x: x % 1000 != 0)\n",
    "        df_attack_1 = pd.read_csv(\"network/attack_1.csv\", skiprows=lambda x: x % 1000 != 0)\n",
    "        df_attack_2 = pd.read_csv(\"network/attack_2.csv\", skiprows=lambda x: x % 1000 != 0)\n",
    "        df_attack_3 = pd.read_csv(\"network/attack_3.csv\", skiprows=lambda x: x % 1000 != 0)\n",
    "        df_attack_4 = pd.read_csv(\"network/attack_4.csv\", skiprows=lambda x: x % 1000 != 0)\n",
    "\n",
    "\n",
    "    \n",
    "    return df_normal, df_attack_1, df_attack_2, df_attack_3, df_attack_4"
   ]
  },
  {
   "cell_type": "code",
   "execution_count": 5,
   "metadata": {},
   "outputs": [],
   "source": [
    "load_data(\"/10\")"
   ]
  },
  {
   "cell_type": "markdown",
   "metadata": {},
   "source": [
    "## III - Nettoyer donnée"
   ]
  },
  {
   "cell_type": "markdown",
   "metadata": {},
   "source": [
    "Nous allons nettoyer la donnée avec les informations obtenus à partir de l'exploration"
   ]
  },
  {
   "cell_type": "markdown",
   "metadata": {},
   "source": [
    "### 1 - Supprimer espaces superflus"
   ]
  },
  {
   "cell_type": "markdown",
   "metadata": {},
   "source": [
    "Certaines colonnes sont écrites \" sport\" et d'autres \"sport\", supprimons les espaces."
   ]
  },
  {
   "cell_type": "code",
   "execution_count": 10,
   "metadata": {},
   "outputs": [],
   "source": [
    "def del_espace(string):\n",
    "    ret = \"\"\n",
    "    for i in range(len(string)):\n",
    "        if string[i]!=\" \":\n",
    "            ret+=string[i]\n",
    "    return ret\n"
   ]
  },
  {
   "cell_type": "code",
   "execution_count": 11,
   "metadata": {},
   "outputs": [],
   "source": [
    "def clean_espace(df):\n",
    "    df_ret = df.copy()\n",
    "    for col in df_ret.columns:\n",
    "        df_ret = df_ret.rename(columns={col:del_espace(col)})\n",
    "    return df_ret"
   ]
  },
  {
   "cell_type": "code",
   "execution_count": 12,
   "metadata": {},
   "outputs": [
    {
     "data": {
      "text/plain": [
       "Index(['Time', ' mac_s', ' mac_d', ' ip_s', ' ip_d', ' sport', ' dport',\n",
       "       ' proto', ' flags', ' size', ' modbus_fn', ' n_pkt_src', ' n_pkt_dst',\n",
       "       ' modbus_response', ' label_n', ' label'],\n",
       "      dtype='object')"
      ]
     },
     "execution_count": 12,
     "metadata": {},
     "output_type": "execute_result"
    }
   ],
   "source": [
    "df_attack_1.columns"
   ]
  },
  {
   "cell_type": "code",
   "execution_count": 21,
   "metadata": {},
   "outputs": [
    {
     "data": {
      "text/plain": [
       "Index(['Time', 'mac_s', 'mac_d', 'ip_s', 'ip_d', 'sport', 'dport', 'proto',\n",
       "       'flags', 'size', 'modbus_fn', 'n_pkt_src', 'n_pkt_dst',\n",
       "       'modbus_response', 'label_n', 'label'],\n",
       "      dtype='object')"
      ]
     },
     "execution_count": 21,
     "metadata": {},
     "output_type": "execute_result"
    }
   ],
   "source": [
    "cleaned_attack_1 = clean_espace(df_attack_1)\n",
    "cleaned_attack_1.columns"
   ]
  },
  {
   "cell_type": "markdown",
   "metadata": {},
   "source": [
    "Cela a fonctionné. Applicons cela à tous les dataset."
   ]
  },
  {
   "cell_type": "code",
   "execution_count": 22,
   "metadata": {},
   "outputs": [],
   "source": [
    "cleaned_normal = clean_espace(df_normal)\n",
    "cleaned_attack_2 = clean_espace(df_attack_2)\n",
    "cleaned_attack_3 = clean_espace(df_attack_3)\n",
    "cleaned_attack_4 = clean_espace(df_attack_4)"
   ]
  },
  {
   "cell_type": "markdown",
   "metadata": {},
   "source": [
    "Vérifions que tous les dataset ont désormais les mêmes colonnes : "
   ]
  },
  {
   "cell_type": "code",
   "execution_count": 25,
   "metadata": {},
   "outputs": [
    {
     "name": "stdout",
     "output_type": "stream",
     "text": [
      "True\n"
     ]
    }
   ],
   "source": [
    "print(list(cleaned_normal.columns)==list(cleaned_attack_2.columns) and\n",
    "      list(cleaned_attack_1.columns)==list(cleaned_attack_2.columns) and \n",
    "      list(cleaned_attack_1.columns)==list(cleaned_attack_3.columns) and \n",
    "      list(cleaned_attack_1.columns)==list(cleaned_attack_3.columns))"
   ]
  },
  {
   "cell_type": "markdown",
   "metadata": {},
   "source": [
    "### 2 - Supprimer colonnes catégorielles et temporelles"
   ]
  },
  {
   "cell_type": "markdown",
   "metadata": {},
   "source": [
    "Cela peut être utile de supprimer les données catégorielles qui ne peuvent pas être prises en compte par certains algorithms"
   ]
  },
  {
   "cell_type": "code",
   "execution_count": 29,
   "metadata": {},
   "outputs": [],
   "source": [
    "def clean_category(df):\n",
    "    df_ret = df.drop(\"Time\",axis=1)\n",
    "    df_ret = df_ret.drop(\"mac_s\",axis=1)\n",
    "    df_ret = df_ret.drop(\"mac_d\",axis=1)\n",
    "    df_ret = df_ret.drop(\"ip_s\",axis=1)\n",
    "    df_ret = df_ret.drop(\"ip_d\",axis=1)\n",
    "    df_ret = df_ret.drop(\"modbus_fn\",axis=1)\n",
    "    df_ret = df_ret.drop(\"modbus_response\",axis=1)\n",
    "    df_ret = df_ret.drop(\"label_n\",axis=1)\n",
    "    df_ret = df_ret.drop(\"proto\",axis=1)\n",
    "\n",
    "\n",
    "    return df_ret"
   ]
  },
  {
   "cell_type": "code",
   "execution_count": 30,
   "metadata": {},
   "outputs": [],
   "source": [
    "cleaned_normal = clean_category(cleaned_normal)\n",
    "cleaned_attack_1 = clean_category(cleaned_attack_1)\n",
    "cleaned_attack_2 = clean_category(cleaned_attack_2)\n",
    "cleaned_attack_3 = clean_category(cleaned_attack_3)\n",
    "cleaned_attack_4 = clean_category(cleaned_attack_4)"
   ]
  },
  {
   "cell_type": "markdown",
   "metadata": {},
   "source": [
    "Vérifions :"
   ]
  },
  {
   "cell_type": "code",
   "execution_count": 31,
   "metadata": {},
   "outputs": [
    {
     "data": {
      "text/html": [
       "<div>\n",
       "<style scoped>\n",
       "    .dataframe tbody tr th:only-of-type {\n",
       "        vertical-align: middle;\n",
       "    }\n",
       "\n",
       "    .dataframe tbody tr th {\n",
       "        vertical-align: top;\n",
       "    }\n",
       "\n",
       "    .dataframe thead th {\n",
       "        text-align: right;\n",
       "    }\n",
       "</style>\n",
       "<table border=\"1\" class=\"dataframe\">\n",
       "  <thead>\n",
       "    <tr style=\"text-align: right;\">\n",
       "      <th></th>\n",
       "      <th>sport</th>\n",
       "      <th>dport</th>\n",
       "      <th>flags</th>\n",
       "      <th>size</th>\n",
       "      <th>n_pkt_src</th>\n",
       "      <th>n_pkt_dst</th>\n",
       "      <th>label</th>\n",
       "    </tr>\n",
       "  </thead>\n",
       "  <tbody>\n",
       "    <tr>\n",
       "      <th>0</th>\n",
       "      <td>61516</td>\n",
       "      <td>502</td>\n",
       "      <td>11000</td>\n",
       "      <td>66</td>\n",
       "      <td>0</td>\n",
       "      <td>0</td>\n",
       "      <td>normal</td>\n",
       "    </tr>\n",
       "    <tr>\n",
       "      <th>1</th>\n",
       "      <td>502</td>\n",
       "      <td>61516</td>\n",
       "      <td>11000</td>\n",
       "      <td>65</td>\n",
       "      <td>0</td>\n",
       "      <td>0</td>\n",
       "      <td>normal</td>\n",
       "    </tr>\n",
       "    <tr>\n",
       "      <th>2</th>\n",
       "      <td>61515</td>\n",
       "      <td>502</td>\n",
       "      <td>11000</td>\n",
       "      <td>66</td>\n",
       "      <td>1</td>\n",
       "      <td>0</td>\n",
       "      <td>normal</td>\n",
       "    </tr>\n",
       "    <tr>\n",
       "      <th>3</th>\n",
       "      <td>502</td>\n",
       "      <td>61515</td>\n",
       "      <td>11000</td>\n",
       "      <td>65</td>\n",
       "      <td>0</td>\n",
       "      <td>1</td>\n",
       "      <td>normal</td>\n",
       "    </tr>\n",
       "    <tr>\n",
       "      <th>4</th>\n",
       "      <td>502</td>\n",
       "      <td>61514</td>\n",
       "      <td>11000</td>\n",
       "      <td>64</td>\n",
       "      <td>0</td>\n",
       "      <td>2</td>\n",
       "      <td>normal</td>\n",
       "    </tr>\n",
       "  </tbody>\n",
       "</table>\n",
       "</div>"
      ],
      "text/plain": [
       "   sport  dport  flags  size  n_pkt_src  n_pkt_dst   label\n",
       "0  61516    502  11000    66          0          0  normal\n",
       "1    502  61516  11000    65          0          0  normal\n",
       "2  61515    502  11000    66          1          0  normal\n",
       "3    502  61515  11000    65          0          1  normal\n",
       "4    502  61514  11000    64          0          2  normal"
      ]
     },
     "execution_count": 31,
     "metadata": {},
     "output_type": "execute_result"
    }
   ],
   "source": [
    "cleaned_normal.head()"
   ]
  },
  {
   "cell_type": "code",
   "execution_count": 32,
   "metadata": {},
   "outputs": [
    {
     "data": {
      "text/html": [
       "<div>\n",
       "<style scoped>\n",
       "    .dataframe tbody tr th:only-of-type {\n",
       "        vertical-align: middle;\n",
       "    }\n",
       "\n",
       "    .dataframe tbody tr th {\n",
       "        vertical-align: top;\n",
       "    }\n",
       "\n",
       "    .dataframe thead th {\n",
       "        text-align: right;\n",
       "    }\n",
       "</style>\n",
       "<table border=\"1\" class=\"dataframe\">\n",
       "  <thead>\n",
       "    <tr style=\"text-align: right;\">\n",
       "      <th></th>\n",
       "      <th>sport</th>\n",
       "      <th>dport</th>\n",
       "      <th>flags</th>\n",
       "      <th>size</th>\n",
       "      <th>n_pkt_src</th>\n",
       "      <th>n_pkt_dst</th>\n",
       "      <th>label</th>\n",
       "    </tr>\n",
       "  </thead>\n",
       "  <tbody>\n",
       "    <tr>\n",
       "      <th>0</th>\n",
       "      <td>56667.0</td>\n",
       "      <td>502.0</td>\n",
       "      <td>11000.0</td>\n",
       "      <td>66</td>\n",
       "      <td>0.0</td>\n",
       "      <td>0.0</td>\n",
       "      <td>normal</td>\n",
       "    </tr>\n",
       "    <tr>\n",
       "      <th>1</th>\n",
       "      <td>56666.0</td>\n",
       "      <td>502.0</td>\n",
       "      <td>11000.0</td>\n",
       "      <td>66</td>\n",
       "      <td>1.0</td>\n",
       "      <td>0.0</td>\n",
       "      <td>normal</td>\n",
       "    </tr>\n",
       "    <tr>\n",
       "      <th>2</th>\n",
       "      <td>56668.0</td>\n",
       "      <td>502.0</td>\n",
       "      <td>11000.0</td>\n",
       "      <td>66</td>\n",
       "      <td>2.0</td>\n",
       "      <td>0.0</td>\n",
       "      <td>normal</td>\n",
       "    </tr>\n",
       "    <tr>\n",
       "      <th>3</th>\n",
       "      <td>502.0</td>\n",
       "      <td>56667.0</td>\n",
       "      <td>11000.0</td>\n",
       "      <td>64</td>\n",
       "      <td>0.0</td>\n",
       "      <td>0.0</td>\n",
       "      <td>normal</td>\n",
       "    </tr>\n",
       "    <tr>\n",
       "      <th>4</th>\n",
       "      <td>502.0</td>\n",
       "      <td>56668.0</td>\n",
       "      <td>11000.0</td>\n",
       "      <td>64</td>\n",
       "      <td>0.0</td>\n",
       "      <td>1.0</td>\n",
       "      <td>normal</td>\n",
       "    </tr>\n",
       "  </tbody>\n",
       "</table>\n",
       "</div>"
      ],
      "text/plain": [
       "     sport    dport    flags  size  n_pkt_src  n_pkt_dst   label\n",
       "0  56667.0    502.0  11000.0    66        0.0        0.0  normal\n",
       "1  56666.0    502.0  11000.0    66        1.0        0.0  normal\n",
       "2  56668.0    502.0  11000.0    66        2.0        0.0  normal\n",
       "3    502.0  56667.0  11000.0    64        0.0        0.0  normal\n",
       "4    502.0  56668.0  11000.0    64        0.0        1.0  normal"
      ]
     },
     "execution_count": 32,
     "metadata": {},
     "output_type": "execute_result"
    }
   ],
   "source": [
    "cleaned_attack_1.head()"
   ]
  },
  {
   "cell_type": "markdown",
   "metadata": {},
   "source": [
    "### 3 - Supprimer les NaN"
   ]
  },
  {
   "cell_type": "code",
   "execution_count": 33,
   "metadata": {},
   "outputs": [
    {
     "name": "stdout",
     "output_type": "stream",
     "text": [
      "sport True\n",
      "dport True\n",
      "flags True\n",
      "size False\n",
      "n_pkt_src True\n",
      "n_pkt_dst True\n",
      "label False\n"
     ]
    }
   ],
   "source": [
    "for k in cleaned_attack_1.columns:\n",
    "    print(k, cleaned_attack_1[k].isna().any())"
   ]
  },
  {
   "cell_type": "code",
   "execution_count": 34,
   "metadata": {},
   "outputs": [],
   "source": [
    "cleaned_normal = cleaned_normal.dropna(subset=[\"sport\"])\n",
    "cleaned_attack_1 = cleaned_attack_1.dropna(subset=[\"sport\"])\n",
    "cleaned_attack_2 = cleaned_attack_2.dropna(subset=[\"sport\"])\n",
    "cleaned_attack_3 = cleaned_attack_3.dropna(subset=[\"sport\"])\n",
    "cleaned_attack_4 = cleaned_attack_4.dropna(subset=[\"sport\"])"
   ]
  },
  {
   "cell_type": "markdown",
   "metadata": {},
   "source": [
    "Vérifions que ça a retiré tous les NaN :"
   ]
  },
  {
   "cell_type": "code",
   "execution_count": 36,
   "metadata": {},
   "outputs": [
    {
     "name": "stdout",
     "output_type": "stream",
     "text": [
      "sport False\n",
      "dport False\n",
      "flags False\n",
      "size False\n",
      "n_pkt_src False\n",
      "n_pkt_dst False\n",
      "label False\n"
     ]
    }
   ],
   "source": [
    "for k in cleaned_attack_1.columns:\n",
    "    print(k, cleaned_attack_1[k].isna().any())"
   ]
  },
  {
   "cell_type": "markdown",
   "metadata": {},
   "source": [
    "## IV - Enregistrer données nettoyées"
   ]
  },
  {
   "cell_type": "code",
   "execution_count": 38,
   "metadata": {},
   "outputs": [],
   "source": [
    "cleaned_normal.to_csv(\"preparation/network_normal.csv\")\n",
    "cleaned_attack_1.to_csv(\"preparation/network_1.csv\")\n",
    "cleaned_attack_2.to_csv(\"preparation/network_2.csv\")\n",
    "cleaned_attack_3.to_csv(\"preparation/network_3.csv\")\n",
    "cleaned_attack_4.to_csv(\"preparation/network_4.csv\")"
   ]
  },
  {
   "cell_type": "code",
   "execution_count": null,
   "metadata": {},
   "outputs": [],
   "source": []
  }
 ],
 "metadata": {
  "kernelspec": {
   "display_name": "Python 3",
   "language": "python",
   "name": "python3"
  },
  "language_info": {
   "codemirror_mode": {
    "name": "ipython",
    "version": 3
   },
   "file_extension": ".py",
   "mimetype": "text/x-python",
   "name": "python",
   "nbconvert_exporter": "python",
   "pygments_lexer": "ipython3",
   "version": "3.10.12"
  },
  "orig_nbformat": 4
 },
 "nbformat": 4,
 "nbformat_minor": 2
}
