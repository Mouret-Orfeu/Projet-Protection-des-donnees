{
 "cells": [
  {
   "cell_type": "markdown",
   "metadata": {},
   "source": [
    "# Network attacks - Preparation de données"
   ]
  },
  {
   "cell_type": "markdown",
   "metadata": {},
   "source": [
    "## I - Modules"
   ]
  },
  {
   "cell_type": "code",
   "execution_count": 21,
   "metadata": {},
   "outputs": [],
   "source": [
    "import pandas as pd\n",
    "from sklearn.model_selection import train_test_split"
   ]
  },
  {
   "cell_type": "markdown",
   "metadata": {},
   "source": [
    "## II - Charger donnée"
   ]
  },
  {
   "cell_type": "code",
   "execution_count": null,
   "metadata": {},
   "outputs": [],
   "source": [
    "# On utilise train_test_split de sklearn pour reduire les dataset à la taille voulue en concervant les proportions pour les labels\n",
    "# Pour garder les proportions, il faut les connaitres, pour les connaitres, il faut d'abord load le dataset en entier (ce qui peut être lourd) \n",
    "def load_dataset_keeping_proportions(size, dataset_path):\n",
    "    def stratified_sample(df, size_frac):\n",
    "        if 'label' in df.columns:\n",
    "            \n",
    "            # On utilise train_test_split de sklearn pour reduire les dataset en concervant les proportions pour les labels\n",
    "            _, df_reduced = train_test_split(df, test_size=size_frac, stratify=df['label'], random_state=42)\n",
    "            return df_reduced\n",
    "        else:\n",
    "            # If 'label' column is not present, return a regular sampled subset\n",
    "            return df.sample(frac=size_frac, random_state=42)\n",
    "\n",
    "    # Map size input to fractions\n",
    "    size_map = {\"full\": 1, \"/2\": 0.5, \"/4\": 0.25, \"/10\": 0.1, \"/100\": 0.01, \"/1000\": 0.001}\n",
    "\n",
    "    # Load the dataset\n",
    "    df = pd.read_csv(dataset_path)\n",
    "\n",
    "    # Apply stratified sampling if size is not 'full'\n",
    "    if size != \"full\":\n",
    "        size_frac = size_map.get(size, 1)  # Default to 'full' if size not recognized\n",
    "        df = stratified_sample(df, size_frac)\n",
    "\n",
    "    return df\n"
   ]
  },
  {
   "cell_type": "code",
   "execution_count": null,
   "metadata": {},
   "outputs": [],
   "source": [
    "# df_normal = load_dataset_keeping_proportions(\"/100\", \"network/normal.csv\")\n",
    "# df_attack_1 = load_dataset_keeping_proportions(\"/100\", \"network/attack_1.csv\")\n",
    "# df_attack_2 = load_dataset_keeping_proportions(\"/100\", \"network/attack_2.csv\")\n",
    "# df_attack_3 = load_dataset_keeping_proportions(\"/100\", \"network/attack_3.csv\")\n",
    "# df_attack_4 = load_dataset_keeping_proportions(\"/100\", \"network/attack_4.csv\")"
   ]
  },
  {
   "cell_type": "code",
   "execution_count": 22,
   "metadata": {},
   "outputs": [],
   "source": [
    "def load_data(size):\n",
    "    if size==\"full\":\n",
    "        df_normal = pd.read_csv(\"network/normal.csv\")\n",
    "        df_attack_1 = pd.read_csv(\"network/attack_1.csv\")\n",
    "        df_attack_2 = pd.read_csv(\"network/attack_2.csv\")\n",
    "        df_attack_3 = pd.read_csv(\"network/attack_3.csv\")\n",
    "        df_attack_4 = pd.read_csv(\"network/attack_4.csv\")\n",
    "    \n",
    "    elif size==\"/2\":\n",
    "        df_normal = pd.read_csv(\"network/normal.csv\", skiprows=lambda x: x % 2 != 0)\n",
    "        df_attack_1 = pd.read_csv(\"network/attack_1.csv\", skiprows=lambda x: x % 2 != 0)\n",
    "        df_attack_2 = pd.read_csv(\"network/attack_2.csv\", skiprows=lambda x: x % 2 != 0)\n",
    "        df_attack_3 = pd.read_csv(\"network/attack_3.csv\", skiprows=lambda x: x % 2 != 0)\n",
    "        df_attack_4 = pd.read_csv(\"network/attack_4.csv\", skiprows=lambda x: x % 2 != 0)\n",
    "    \n",
    "    elif size==\"/4\":\n",
    "        df_normal = pd.read_csv(\"network/normal.csv\", skiprows=lambda x: x % 4 != 0)\n",
    "        df_attack_1 = pd.read_csv(\"network/attack_1.csv\", skiprows=lambda x: x % 4 != 0)\n",
    "        df_attack_2 = pd.read_csv(\"network/attack_2.csv\", skiprows=lambda x: x % 4 != 0)\n",
    "        df_attack_3 = pd.read_csv(\"network/attack_3.csv\", skiprows=lambda x: x % 4 != 0)\n",
    "        df_attack_4 = pd.read_csv(\"network/attack_4.csv\", skiprows=lambda x: x % 4 != 0)\n",
    "\n",
    "    elif size==\"/10\":\n",
    "        df_normal = pd.read_csv(\"network/normal.csv\", skiprows=lambda x: x % 10 != 0)\n",
    "        df_attack_1 = pd.read_csv(\"network/attack_1.csv\", skiprows=lambda x: x % 10 != 0)\n",
    "        df_attack_2 = pd.read_csv(\"network/attack_2.csv\", skiprows=lambda x: x % 10 != 0)\n",
    "        df_attack_3 = pd.read_csv(\"network/attack_3.csv\", skiprows=lambda x: x % 10 != 0)\n",
    "        df_attack_4 = pd.read_csv(\"network/attack_4.csv\", skiprows=lambda x: x % 10 != 0)\n",
    "    \n",
    "    elif size==\"/100\":\n",
    "        df_normal = pd.read_csv(\"network/normal.csv\", skiprows=lambda x: x % 100 != 0)\n",
    "        df_attack_1 = pd.read_csv(\"network/attack_1.csv\", skiprows=lambda x: x % 100 != 0)\n",
    "        df_attack_2 = pd.read_csv(\"network/attack_2.csv\", skiprows=lambda x: x % 100 != 0)\n",
    "        df_attack_3 = pd.read_csv(\"network/attack_3.csv\", skiprows=lambda x: x % 100 != 0)\n",
    "        df_attack_4 = pd.read_csv(\"network/attack_4.csv\", skiprows=lambda x: x % 100 != 0)\n",
    "    \n",
    "    elif size==\"/1000\":\n",
    "        df_normal = pd.read_csv(\"network/normal.csv\", skiprows=lambda x: x % 1000 != 0)\n",
    "        df_attack_1 = pd.read_csv(\"network/attack_1.csv\", skiprows=lambda x: x % 1000 != 0)\n",
    "        df_attack_2 = pd.read_csv(\"network/attack_2.csv\", skiprows=lambda x: x % 1000 != 0)\n",
    "        df_attack_3 = pd.read_csv(\"network/attack_3.csv\", skiprows=lambda x: x % 1000 != 0)\n",
    "        df_attack_4 = pd.read_csv(\"network/attack_4.csv\", skiprows=lambda x: x % 1000 != 0)\n",
    "\n",
    "\n",
    "    \n",
    "    return df_normal, df_attack_1, df_attack_2, df_attack_3, df_attack_4"
   ]
  },
  {
   "cell_type": "code",
   "execution_count": 23,
   "metadata": {},
   "outputs": [],
   "source": [
    "df_normal, df_attack_1, df_attack_2, df_attack_3, df_attack_4 = load_data(\"/100\")"
   ]
  },
  {
   "cell_type": "markdown",
   "metadata": {},
   "source": [
    "## III - Nettoyer donnée"
   ]
  },
  {
   "cell_type": "markdown",
   "metadata": {},
   "source": [
    "Nous allons nettoyer la donnée avec les informations obtenus à partir de l'exploration"
   ]
  },
  {
   "cell_type": "markdown",
   "metadata": {},
   "source": [
    "### 1 - Supprimer espaces superflus"
   ]
  },
  {
   "cell_type": "markdown",
   "metadata": {},
   "source": [
    "Certaines colonnes sont écrites \" sport\" et d'autres \"sport\", supprimons les espaces."
   ]
  },
  {
   "cell_type": "code",
   "execution_count": 24,
   "metadata": {},
   "outputs": [],
   "source": [
    "def del_espace(string):\n",
    "    ret = \"\"\n",
    "    for i in range(len(string)):\n",
    "        if string[i]!=\" \":\n",
    "            ret+=string[i]\n",
    "    return ret\n"
   ]
  },
  {
   "cell_type": "code",
   "execution_count": 25,
   "metadata": {},
   "outputs": [],
   "source": [
    "def clean_espace(df):\n",
    "    df_ret = df.copy()\n",
    "    for col in df_ret.columns:\n",
    "        df_ret = df_ret.rename(columns={col:del_espace(col)})\n",
    "    return df_ret"
   ]
  },
  {
   "cell_type": "code",
   "execution_count": 26,
   "metadata": {},
   "outputs": [
    {
     "data": {
      "text/plain": [
       "Index(['Time', ' mac_s', ' mac_d', ' ip_s', ' ip_d', ' sport', ' dport',\n",
       "       ' proto', ' flags', ' size', ' modbus_fn', ' n_pkt_src', ' n_pkt_dst',\n",
       "       ' modbus_response', ' label_n', ' label'],\n",
       "      dtype='object')"
      ]
     },
     "execution_count": 26,
     "metadata": {},
     "output_type": "execute_result"
    }
   ],
   "source": [
    "df_attack_1.columns"
   ]
  },
  {
   "cell_type": "code",
   "execution_count": 27,
   "metadata": {},
   "outputs": [
    {
     "data": {
      "text/plain": [
       "Index(['Time', 'mac_s', 'mac_d', 'ip_s', 'ip_d', 'sport', 'dport', 'proto',\n",
       "       'flags', 'size', 'modbus_fn', 'n_pkt_src', 'n_pkt_dst',\n",
       "       'modbus_response', 'label_n', 'label'],\n",
       "      dtype='object')"
      ]
     },
     "execution_count": 27,
     "metadata": {},
     "output_type": "execute_result"
    }
   ],
   "source": [
    "cleaned_attack_1 = clean_espace(df_attack_1)\n",
    "cleaned_attack_1.columns"
   ]
  },
  {
   "cell_type": "markdown",
   "metadata": {},
   "source": [
    "Cela a fonctionné. Applicons cela à tous les dataset."
   ]
  },
  {
   "cell_type": "code",
   "execution_count": 28,
   "metadata": {},
   "outputs": [],
   "source": [
    "cleaned_normal = clean_espace(df_normal)\n",
    "cleaned_attack_2 = clean_espace(df_attack_2)\n",
    "cleaned_attack_3 = clean_espace(df_attack_3)\n",
    "cleaned_attack_4 = clean_espace(df_attack_4)"
   ]
  },
  {
   "cell_type": "markdown",
   "metadata": {},
   "source": [
    "Vérifions que tous les dataset ont désormais les mêmes colonnes : "
   ]
  },
  {
   "cell_type": "code",
   "execution_count": 29,
   "metadata": {},
   "outputs": [
    {
     "name": "stdout",
     "output_type": "stream",
     "text": [
      "True\n"
     ]
    }
   ],
   "source": [
    "print(list(cleaned_normal.columns)==list(cleaned_attack_2.columns) and\n",
    "      list(cleaned_attack_1.columns)==list(cleaned_attack_2.columns) and \n",
    "      list(cleaned_attack_1.columns)==list(cleaned_attack_3.columns) and \n",
    "      list(cleaned_attack_1.columns)==list(cleaned_attack_3.columns))"
   ]
  },
  {
   "cell_type": "markdown",
   "metadata": {},
   "source": [
    "### 2 - Supprimer de colonnes (par exemple catégorielles, temporelles, ou fortement corrélées)"
   ]
  },
  {
   "cell_type": "markdown",
   "metadata": {},
   "source": [
    "Cela peut être utile de supprimer les données catégorielles qui ne peuvent pas être prises en compte par certains algorithms"
   ]
  },
  {
   "cell_type": "code",
   "execution_count": 30,
   "metadata": {},
   "outputs": [],
   "source": [
    "def clean_category(df):\n",
    "    #df_ret = df.drop(\"Time\",axis=1)\n",
    "    df_ret = df.drop(\"mac_s\",axis=1)\n",
    "    df_ret = df_ret.drop(\"mac_d\",axis=1)\n",
    "    df_ret = df_ret.drop(\"ip_s\",axis=1)\n",
    "    df_ret = df_ret.drop(\"ip_d\",axis=1)\n",
    "    df_ret = df_ret.drop(\"modbus_fn\",axis=1)\n",
    "    df_ret = df_ret.drop(\"modbus_response\",axis=1)\n",
    "    df_ret = df_ret.drop(\"label_n\",axis=1)\n",
    "    #df_ret = df_ret.drop(\"proto\",axis=1)\n",
    "\n",
    "    # Tout ça c'est corrélé à s_port\n",
    "    df_ret = df_ret.drop(\"n_pkt_src\",axis=1)\n",
    "    df_ret = df_ret.drop(\"n_pkt_dst\",axis=1)\n",
    "    df_ret = df_ret.drop(\"dport\",axis=1)\n",
    "\n",
    "    # On enlève flags parce qu'il indique surement le type d'attaque\n",
    "    #df_ret = df_ret.drop(\"flags\") \n",
    "\n",
    "\n",
    "    return df_ret"
   ]
  },
  {
   "cell_type": "code",
   "execution_count": 31,
   "metadata": {},
   "outputs": [],
   "source": [
    "cleaned_normal = clean_category(cleaned_normal)\n",
    "cleaned_attack_1 = clean_category(cleaned_attack_1)\n",
    "cleaned_attack_2 = clean_category(cleaned_attack_2)\n",
    "cleaned_attack_3 = clean_category(cleaned_attack_3)\n",
    "cleaned_attack_4 = clean_category(cleaned_attack_4)"
   ]
  },
  {
   "cell_type": "markdown",
   "metadata": {},
   "source": [
    "Vérifions :"
   ]
  },
  {
   "cell_type": "code",
   "execution_count": 32,
   "metadata": {},
   "outputs": [
    {
     "data": {
      "text/html": [
       "<div>\n",
       "<style scoped>\n",
       "    .dataframe tbody tr th:only-of-type {\n",
       "        vertical-align: middle;\n",
       "    }\n",
       "\n",
       "    .dataframe tbody tr th {\n",
       "        vertical-align: top;\n",
       "    }\n",
       "\n",
       "    .dataframe thead th {\n",
       "        text-align: right;\n",
       "    }\n",
       "</style>\n",
       "<table border=\"1\" class=\"dataframe\">\n",
       "  <thead>\n",
       "    <tr style=\"text-align: right;\">\n",
       "      <th></th>\n",
       "      <th>Time</th>\n",
       "      <th>sport</th>\n",
       "      <th>proto</th>\n",
       "      <th>flags</th>\n",
       "      <th>size</th>\n",
       "      <th>label</th>\n",
       "    </tr>\n",
       "  </thead>\n",
       "  <tbody>\n",
       "    <tr>\n",
       "      <th>0</th>\n",
       "      <td>2021-04-09 11:30:52.761572</td>\n",
       "      <td>502</td>\n",
       "      <td>Modbus</td>\n",
       "      <td>11000</td>\n",
       "      <td>65</td>\n",
       "      <td>normal</td>\n",
       "    </tr>\n",
       "    <tr>\n",
       "      <th>1</th>\n",
       "      <td>2021-04-09 11:30:52.808170</td>\n",
       "      <td>61517</td>\n",
       "      <td>Modbus</td>\n",
       "      <td>11000</td>\n",
       "      <td>66</td>\n",
       "      <td>normal</td>\n",
       "    </tr>\n",
       "    <tr>\n",
       "      <th>2</th>\n",
       "      <td>2021-04-09 11:30:52.848609</td>\n",
       "      <td>502</td>\n",
       "      <td>Modbus</td>\n",
       "      <td>11000</td>\n",
       "      <td>65</td>\n",
       "      <td>normal</td>\n",
       "    </tr>\n",
       "    <tr>\n",
       "      <th>3</th>\n",
       "      <td>2021-04-09 11:30:52.889732</td>\n",
       "      <td>502</td>\n",
       "      <td>Modbus</td>\n",
       "      <td>11000</td>\n",
       "      <td>65</td>\n",
       "      <td>normal</td>\n",
       "    </tr>\n",
       "    <tr>\n",
       "      <th>4</th>\n",
       "      <td>2021-04-09 11:30:52.936601</td>\n",
       "      <td>502</td>\n",
       "      <td>Modbus</td>\n",
       "      <td>11000</td>\n",
       "      <td>64</td>\n",
       "      <td>normal</td>\n",
       "    </tr>\n",
       "  </tbody>\n",
       "</table>\n",
       "</div>"
      ],
      "text/plain": [
       "                         Time  sport   proto  flags  size   label\n",
       "0  2021-04-09 11:30:52.761572    502  Modbus  11000    65  normal\n",
       "1  2021-04-09 11:30:52.808170  61517  Modbus  11000    66  normal\n",
       "2  2021-04-09 11:30:52.848609    502  Modbus  11000    65  normal\n",
       "3  2021-04-09 11:30:52.889732    502  Modbus  11000    65  normal\n",
       "4  2021-04-09 11:30:52.936601    502  Modbus  11000    64  normal"
      ]
     },
     "execution_count": 32,
     "metadata": {},
     "output_type": "execute_result"
    }
   ],
   "source": [
    "cleaned_normal.head()"
   ]
  },
  {
   "cell_type": "code",
   "execution_count": 33,
   "metadata": {},
   "outputs": [
    {
     "data": {
      "text/html": [
       "<div>\n",
       "<style scoped>\n",
       "    .dataframe tbody tr th:only-of-type {\n",
       "        vertical-align: middle;\n",
       "    }\n",
       "\n",
       "    .dataframe tbody tr th {\n",
       "        vertical-align: top;\n",
       "    }\n",
       "\n",
       "    .dataframe thead th {\n",
       "        text-align: right;\n",
       "    }\n",
       "</style>\n",
       "<table border=\"1\" class=\"dataframe\">\n",
       "  <thead>\n",
       "    <tr style=\"text-align: right;\">\n",
       "      <th></th>\n",
       "      <th>Time</th>\n",
       "      <th>sport</th>\n",
       "      <th>proto</th>\n",
       "      <th>flags</th>\n",
       "      <th>size</th>\n",
       "      <th>label</th>\n",
       "    </tr>\n",
       "  </thead>\n",
       "  <tbody>\n",
       "    <tr>\n",
       "      <th>0</th>\n",
       "      <td>2021-04-09 18:23:28.430018</td>\n",
       "      <td>56666.0</td>\n",
       "      <td>Modbus</td>\n",
       "      <td>11000.0</td>\n",
       "      <td>66</td>\n",
       "      <td>normal</td>\n",
       "    </tr>\n",
       "    <tr>\n",
       "      <th>1</th>\n",
       "      <td>2021-04-09 18:23:28.475587</td>\n",
       "      <td>502.0</td>\n",
       "      <td>Modbus</td>\n",
       "      <td>11000.0</td>\n",
       "      <td>64</td>\n",
       "      <td>normal</td>\n",
       "    </tr>\n",
       "    <tr>\n",
       "      <th>2</th>\n",
       "      <td>2021-04-09 18:23:28.523120</td>\n",
       "      <td>56668.0</td>\n",
       "      <td>Modbus</td>\n",
       "      <td>11000.0</td>\n",
       "      <td>66</td>\n",
       "      <td>normal</td>\n",
       "    </tr>\n",
       "    <tr>\n",
       "      <th>3</th>\n",
       "      <td>2021-04-09 18:23:28.568588</td>\n",
       "      <td>502.0</td>\n",
       "      <td>Modbus</td>\n",
       "      <td>11000.0</td>\n",
       "      <td>65</td>\n",
       "      <td>normal</td>\n",
       "    </tr>\n",
       "    <tr>\n",
       "      <th>4</th>\n",
       "      <td>2021-04-09 18:23:28.617394</td>\n",
       "      <td>502.0</td>\n",
       "      <td>Modbus</td>\n",
       "      <td>11000.0</td>\n",
       "      <td>65</td>\n",
       "      <td>normal</td>\n",
       "    </tr>\n",
       "  </tbody>\n",
       "</table>\n",
       "</div>"
      ],
      "text/plain": [
       "                         Time    sport   proto    flags  size   label\n",
       "0  2021-04-09 18:23:28.430018  56666.0  Modbus  11000.0    66  normal\n",
       "1  2021-04-09 18:23:28.475587    502.0  Modbus  11000.0    64  normal\n",
       "2  2021-04-09 18:23:28.523120  56668.0  Modbus  11000.0    66  normal\n",
       "3  2021-04-09 18:23:28.568588    502.0  Modbus  11000.0    65  normal\n",
       "4  2021-04-09 18:23:28.617394    502.0  Modbus  11000.0    65  normal"
      ]
     },
     "execution_count": 33,
     "metadata": {},
     "output_type": "execute_result"
    }
   ],
   "source": [
    "cleaned_attack_1.head()"
   ]
  },
  {
   "cell_type": "markdown",
   "metadata": {},
   "source": [
    "### 3 - Supprimer les NaN"
   ]
  },
  {
   "cell_type": "code",
   "execution_count": 34,
   "metadata": {},
   "outputs": [
    {
     "name": "stdout",
     "output_type": "stream",
     "text": [
      "Time False\n",
      "sport True\n",
      "proto False\n",
      "flags True\n",
      "size False\n",
      "label False\n"
     ]
    }
   ],
   "source": [
    "for k in cleaned_attack_1.columns:\n",
    "    print(k, cleaned_attack_1[k].isna().any())"
   ]
  },
  {
   "cell_type": "code",
   "execution_count": 35,
   "metadata": {},
   "outputs": [],
   "source": [
    "# On drop pas les NaN restants, ils sont peut être porteur d'information\n",
    "# cleaned_normal = cleaned_normal.dropna(subset=[\"sport\"])\n",
    "# cleaned_attack_1 = cleaned_attack_1.dropna(subset=[\"sport\"])\n",
    "# cleaned_attack_2 = cleaned_attack_2.dropna(subset=[\"sport\"])\n",
    "# cleaned_attack_3 = cleaned_attack_3.dropna(subset=[\"sport\"])\n",
    "# cleaned_attack_4 = cleaned_attack_4.dropna(subset=[\"sport\"])"
   ]
  },
  {
   "cell_type": "markdown",
   "metadata": {},
   "source": [
    "Vérifions que ça a retiré tous les NaN :"
   ]
  },
  {
   "cell_type": "code",
   "execution_count": 36,
   "metadata": {},
   "outputs": [
    {
     "name": "stdout",
     "output_type": "stream",
     "text": [
      "Time False\n",
      "sport True\n",
      "proto False\n",
      "flags True\n",
      "size False\n",
      "label False\n"
     ]
    }
   ],
   "source": [
    "# On ne retire pas forcément tous les NaN \n",
    "# for k in cleaned_attack_1.columns:\n",
    "#     print(k, cleaned_attack_1[k].isna().any())"
   ]
  },
  {
   "cell_type": "markdown",
   "metadata": {},
   "source": [
    "## IV - Enregistrer données nettoyées"
   ]
  },
  {
   "cell_type": "code",
   "execution_count": 37,
   "metadata": {},
   "outputs": [],
   "source": [
    "cleaned_normal.to_csv(\"preparation/network_normal.csv\")\n",
    "cleaned_attack_1.to_csv(\"preparation/network_1.csv\")\n",
    "cleaned_attack_2.to_csv(\"preparation/network_2.csv\")\n",
    "cleaned_attack_3.to_csv(\"preparation/network_3.csv\")\n",
    "cleaned_attack_4.to_csv(\"preparation/network_4.csv\")"
   ]
  }
 ],
 "metadata": {
  "kernelspec": {
   "display_name": "Python 3",
   "language": "python",
   "name": "python3"
  },
  "language_info": {
   "codemirror_mode": {
    "name": "ipython",
    "version": 3
   },
   "file_extension": ".py",
   "mimetype": "text/x-python",
   "name": "python",
   "nbconvert_exporter": "python",
   "pygments_lexer": "ipython3",
   "version": "3.10.12"
  },
  "orig_nbformat": 4
 },
 "nbformat": 4,
 "nbformat_minor": 2
}
