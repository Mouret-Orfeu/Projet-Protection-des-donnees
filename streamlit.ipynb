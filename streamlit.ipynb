{
 "cells": [
  {
   "cell_type": "code",
   "execution_count": 1,
   "metadata": {},
   "outputs": [
    {
     "name": "stderr",
     "output_type": "stream",
     "text": [
      "2023-10-22 18:05:13.625 \n",
      "  \u001b[33m\u001b[1mWarning:\u001b[0m to view this Streamlit app on a browser, run it with the following\n",
      "  command:\n",
      "\n",
      "    streamlit run /home/orfeu/.local/lib/python3.10/site-packages/ipykernel_launcher.py [ARGUMENTS]\n"
     ]
    }
   ],
   "source": [
    "import streamlit as st\n",
    "\n",
    "def main():\n",
    "    st.title(\"Streamlit Multi-Page App\")\n",
    "    \n",
    "    # Sidebar with page selection\n",
    "    page_selection = st.sidebar.selectbox(\"Choose a page\", [\"Network\", \"Physical\"])\n",
    "    \n",
    "    if page_selection == \"Network\":\n",
    "        show_network()\n",
    "    elif page_selection == \"Physical\":\n",
    "        show_physical()\n",
    "\n",
    "def show_network():\n",
    "    st.header(\"Network Page\")\n",
    "    st.write(\"This is the content of the Network page.\")\n",
    "\n",
    "def show_physical():\n",
    "    st.header(\"Physical Page\")\n",
    "    st.write(\"This is the content of the Physical page.\")\n",
    "\n",
    "if __name__ == \"__main__\":\n",
    "    main()\n"
   ]
  }
 ],
 "metadata": {
  "kernelspec": {
   "display_name": "Python 3",
   "language": "python",
   "name": "python3"
  },
  "language_info": {
   "codemirror_mode": {
    "name": "ipython",
    "version": 3
   },
   "file_extension": ".py",
   "mimetype": "text/x-python",
   "name": "python",
   "nbconvert_exporter": "python",
   "pygments_lexer": "ipython3",
   "version": "3.10.12"
  }
 },
 "nbformat": 4,
 "nbformat_minor": 2
}
